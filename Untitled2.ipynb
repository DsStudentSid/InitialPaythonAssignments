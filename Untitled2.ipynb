{
  "nbformat": 4,
  "nbformat_minor": 0,
  "metadata": {
    "colab": {
      "name": "Untitled2.ipynb",
      "provenance": [],
      "authorship_tag": "ABX9TyMaX/SXxkdePmaWX70rBh2F",
      "include_colab_link": true
    },
    "kernelspec": {
      "name": "python3",
      "display_name": "Python 3"
    }
  },
  "cells": [
    {
      "cell_type": "markdown",
      "metadata": {
        "id": "view-in-github",
        "colab_type": "text"
      },
      "source": [
        "<a href=\"https://colab.research.google.com/github/DsStudentSid/InitialPaythonAssignments/blob/master/Untitled2.ipynb\" target=\"_parent\"><img src=\"https://colab.research.google.com/assets/colab-badge.svg\" alt=\"Open In Colab\"/></a>"
      ]
    },
    {
      "cell_type": "code",
      "metadata": {
        "id": "VjFJcL0-tStw",
        "colab_type": "code",
        "colab": {}
      },
      "source": [
        "import pandas as pd\n",
        "import numpy as np\n",
        "import matplotlib.pyplot as plt\n",
        "import seaborn as sns\n",
        "\n",
        "import pandas_profiling\n",
        "#from pandas_profiling import ProfileReport\n",
        "\n",
        "#from plotly.offline import init_notebook_mode, iplot\n",
        "#import plotly.graph_objs as go\n",
        "#import chart_studio.plotly as py\n",
        "#from plotly import tools\n",
        "#init_notebook_mode(connected=True)"
      ],
      "execution_count": 33,
      "outputs": []
    },
    {
      "cell_type": "code",
      "metadata": {
        "id": "Nis4fFxiCpfE",
        "colab_type": "code",
        "colab": {
          "base_uri": "https://localhost:8080/",
          "height": 139
        },
        "outputId": "4720b9df-1f3b-4208-e493-c26d054cbbf8"
      },
      "source": [
        "#!pip uninstall pandas-profiling"
      ],
      "execution_count": null,
      "outputs": [
        {
          "output_type": "stream",
          "text": [
            "Uninstalling pandas-profiling-2.5.0:\n",
            "  Would remove:\n",
            "    /usr/local/bin/pandas_profiling\n",
            "    /usr/local/lib/python3.6/dist-packages/pandas_profiling-2.5.0.dist-info/*\n",
            "    /usr/local/lib/python3.6/dist-packages/pandas_profiling/*\n",
            "Proceed (y/n)? y\n",
            "  Successfully uninstalled pandas-profiling-2.5.0\n"
          ],
          "name": "stdout"
        }
      ]
    },
    {
      "cell_type": "code",
      "metadata": {
        "id": "BgAVgsTc_YLv",
        "colab_type": "code",
        "colab": {
          "base_uri": "https://localhost:8080/",
          "height": 1000
        },
        "outputId": "c9b8a59e-a499-4880-fbf6-9ab4ae5ae464"
      },
      "source": [
        "#!pip install pandas_profiling==2.5.0"
      ],
      "execution_count": null,
      "outputs": [
        {
          "output_type": "stream",
          "text": [
            "Requirement already satisfied: pandas_profiling==2.5.0 in /usr/local/lib/python3.6/dist-packages (2.5.0)\n",
            "Requirement already satisfied: phik==0.9.9 in /usr/local/lib/python3.6/dist-packages (from pandas_profiling==2.5.0) (0.9.9)\n",
            "Requirement already satisfied: scipy>=1.4.1 in /usr/local/lib/python3.6/dist-packages (from pandas_profiling==2.5.0) (1.4.1)\n",
            "Requirement already satisfied: requests==2.22.0 in /usr/local/lib/python3.6/dist-packages (from pandas_profiling==2.5.0) (2.22.0)\n",
            "Requirement already satisfied: jinja2==2.11.1 in /usr/local/lib/python3.6/dist-packages (from pandas_profiling==2.5.0) (2.11.1)\n",
            "Requirement already satisfied: astropy>=3.2.3 in /usr/local/lib/python3.6/dist-packages (from pandas_profiling==2.5.0) (4.0.1.post1)\n",
            "Requirement already satisfied: tangled-up-in-unicode==0.0.3 in /usr/local/lib/python3.6/dist-packages (from pandas_profiling==2.5.0) (0.0.3)\n",
            "Requirement already satisfied: ipywidgets==7.5.1 in /usr/local/lib/python3.6/dist-packages (from pandas_profiling==2.5.0) (7.5.1)\n",
            "Requirement already satisfied: pandas==0.25.3 in /usr/local/lib/python3.6/dist-packages (from pandas_profiling==2.5.0) (0.25.3)\n",
            "Requirement already satisfied: tqdm==4.42.0 in /usr/local/lib/python3.6/dist-packages (from pandas_profiling==2.5.0) (4.42.0)\n",
            "Requirement already satisfied: missingno==0.4.2 in /usr/local/lib/python3.6/dist-packages (from pandas_profiling==2.5.0) (0.4.2)\n",
            "Requirement already satisfied: htmlmin==0.1.12 in /usr/local/lib/python3.6/dist-packages (from pandas_profiling==2.5.0) (0.1.12)\n",
            "Requirement already satisfied: matplotlib>=3.0.3 in /usr/local/lib/python3.6/dist-packages (from pandas_profiling==2.5.0) (3.2.2)\n",
            "Requirement already satisfied: numpy>=1.16.0 in /usr/local/lib/python3.6/dist-packages (from pandas_profiling==2.5.0) (1.18.5)\n",
            "Requirement already satisfied: visions==0.2.2 in /usr/local/lib/python3.6/dist-packages (from pandas_profiling==2.5.0) (0.2.2)\n",
            "Requirement already satisfied: kaggle==1.5.6 in /usr/local/lib/python3.6/dist-packages (from pandas_profiling==2.5.0) (1.5.6)\n",
            "Requirement already satisfied: confuse==1.0.0 in /usr/local/lib/python3.6/dist-packages (from pandas_profiling==2.5.0) (1.0.0)\n",
            "Requirement already satisfied: pytest-pylint>=0.13.0 in /usr/local/lib/python3.6/dist-packages (from phik==0.9.9->pandas_profiling==2.5.0) (0.17.0)\n",
            "Requirement already satisfied: nbconvert>=5.3.1 in /usr/local/lib/python3.6/dist-packages (from phik==0.9.9->pandas_profiling==2.5.0) (5.6.1)\n",
            "Requirement already satisfied: numba>=0.38.1 in /usr/local/lib/python3.6/dist-packages (from phik==0.9.9->pandas_profiling==2.5.0) (0.48.0)\n",
            "Requirement already satisfied: joblib>=0.14.1 in /usr/local/lib/python3.6/dist-packages (from phik==0.9.9->pandas_profiling==2.5.0) (0.15.1)\n",
            "Requirement already satisfied: pytest>=4.0.2 in /usr/local/lib/python3.6/dist-packages (from phik==0.9.9->pandas_profiling==2.5.0) (5.4.3)\n",
            "Requirement already satisfied: jupyter-client>=5.2.3 in /usr/local/lib/python3.6/dist-packages (from phik==0.9.9->pandas_profiling==2.5.0) (5.3.4)\n",
            "Requirement already satisfied: urllib3!=1.25.0,!=1.25.1,<1.26,>=1.21.1 in /usr/local/lib/python3.6/dist-packages (from requests==2.22.0->pandas_profiling==2.5.0) (1.24.3)\n",
            "Requirement already satisfied: certifi>=2017.4.17 in /usr/local/lib/python3.6/dist-packages (from requests==2.22.0->pandas_profiling==2.5.0) (2020.4.5.2)\n",
            "Requirement already satisfied: chardet<3.1.0,>=3.0.2 in /usr/local/lib/python3.6/dist-packages (from requests==2.22.0->pandas_profiling==2.5.0) (3.0.4)\n",
            "Requirement already satisfied: idna<2.9,>=2.5 in /usr/local/lib/python3.6/dist-packages (from requests==2.22.0->pandas_profiling==2.5.0) (2.8)\n",
            "Requirement already satisfied: MarkupSafe>=0.23 in /usr/local/lib/python3.6/dist-packages (from jinja2==2.11.1->pandas_profiling==2.5.0) (1.1.1)\n",
            "Requirement already satisfied: ipykernel>=4.5.1 in /usr/local/lib/python3.6/dist-packages (from ipywidgets==7.5.1->pandas_profiling==2.5.0) (4.10.1)\n",
            "Requirement already satisfied: traitlets>=4.3.1 in /usr/local/lib/python3.6/dist-packages (from ipywidgets==7.5.1->pandas_profiling==2.5.0) (4.3.3)\n",
            "Requirement already satisfied: widgetsnbextension~=3.5.0 in /usr/local/lib/python3.6/dist-packages (from ipywidgets==7.5.1->pandas_profiling==2.5.0) (3.5.1)\n",
            "Requirement already satisfied: nbformat>=4.2.0 in /usr/local/lib/python3.6/dist-packages (from ipywidgets==7.5.1->pandas_profiling==2.5.0) (5.0.7)\n",
            "Requirement already satisfied: ipython>=4.0.0; python_version >= \"3.3\" in /usr/local/lib/python3.6/dist-packages (from ipywidgets==7.5.1->pandas_profiling==2.5.0) (5.5.0)\n",
            "Requirement already satisfied: pytz>=2017.2 in /usr/local/lib/python3.6/dist-packages (from pandas==0.25.3->pandas_profiling==2.5.0) (2018.9)\n",
            "Requirement already satisfied: python-dateutil>=2.6.1 in /usr/local/lib/python3.6/dist-packages (from pandas==0.25.3->pandas_profiling==2.5.0) (2.8.1)\n",
            "Requirement already satisfied: seaborn in /usr/local/lib/python3.6/dist-packages (from missingno==0.4.2->pandas_profiling==2.5.0) (0.10.1)\n",
            "Requirement already satisfied: pyparsing!=2.0.4,!=2.1.2,!=2.1.6,>=2.0.1 in /usr/local/lib/python3.6/dist-packages (from matplotlib>=3.0.3->pandas_profiling==2.5.0) (2.4.7)\n",
            "Requirement already satisfied: cycler>=0.10 in /usr/local/lib/python3.6/dist-packages (from matplotlib>=3.0.3->pandas_profiling==2.5.0) (0.10.0)\n",
            "Requirement already satisfied: kiwisolver>=1.0.1 in /usr/local/lib/python3.6/dist-packages (from matplotlib>=3.0.3->pandas_profiling==2.5.0) (1.2.0)\n",
            "Requirement already satisfied: networkx in /usr/local/lib/python3.6/dist-packages (from visions==0.2.2->pandas_profiling==2.5.0) (2.4)\n",
            "Requirement already satisfied: attr in /usr/local/lib/python3.6/dist-packages (from visions==0.2.2->pandas_profiling==2.5.0) (0.3.1)\n",
            "Requirement already satisfied: python-slugify in /usr/local/lib/python3.6/dist-packages (from kaggle==1.5.6->pandas_profiling==2.5.0) (4.0.0)\n",
            "Requirement already satisfied: six>=1.10 in /usr/local/lib/python3.6/dist-packages (from kaggle==1.5.6->pandas_profiling==2.5.0) (1.12.0)\n",
            "Requirement already satisfied: pyyaml in /usr/local/lib/python3.6/dist-packages (from confuse==1.0.0->pandas_profiling==2.5.0) (3.13)\n",
            "Requirement already satisfied: pylint>=2.3.0 in /usr/local/lib/python3.6/dist-packages (from pytest-pylint>=0.13.0->phik==0.9.9->pandas_profiling==2.5.0) (2.5.3)\n",
            "Requirement already satisfied: toml>=0.7.1 in /usr/local/lib/python3.6/dist-packages (from pytest-pylint>=0.13.0->phik==0.9.9->pandas_profiling==2.5.0) (0.10.1)\n",
            "Requirement already satisfied: defusedxml in /usr/local/lib/python3.6/dist-packages (from nbconvert>=5.3.1->phik==0.9.9->pandas_profiling==2.5.0) (0.6.0)\n",
            "Requirement already satisfied: entrypoints>=0.2.2 in /usr/local/lib/python3.6/dist-packages (from nbconvert>=5.3.1->phik==0.9.9->pandas_profiling==2.5.0) (0.3)\n",
            "Requirement already satisfied: mistune<2,>=0.8.1 in /usr/local/lib/python3.6/dist-packages (from nbconvert>=5.3.1->phik==0.9.9->pandas_profiling==2.5.0) (0.8.4)\n",
            "Requirement already satisfied: testpath in /usr/local/lib/python3.6/dist-packages (from nbconvert>=5.3.1->phik==0.9.9->pandas_profiling==2.5.0) (0.4.4)\n",
            "Requirement already satisfied: bleach in /usr/local/lib/python3.6/dist-packages (from nbconvert>=5.3.1->phik==0.9.9->pandas_profiling==2.5.0) (3.1.5)\n",
            "Requirement already satisfied: jupyter-core in /usr/local/lib/python3.6/dist-packages (from nbconvert>=5.3.1->phik==0.9.9->pandas_profiling==2.5.0) (4.6.3)\n",
            "Requirement already satisfied: pandocfilters>=1.4.1 in /usr/local/lib/python3.6/dist-packages (from nbconvert>=5.3.1->phik==0.9.9->pandas_profiling==2.5.0) (1.4.2)\n",
            "Requirement already satisfied: pygments in /usr/local/lib/python3.6/dist-packages (from nbconvert>=5.3.1->phik==0.9.9->pandas_profiling==2.5.0) (2.1.3)\n",
            "Requirement already satisfied: llvmlite<0.32.0,>=0.31.0dev0 in /usr/local/lib/python3.6/dist-packages (from numba>=0.38.1->phik==0.9.9->pandas_profiling==2.5.0) (0.31.0)\n",
            "Requirement already satisfied: setuptools in /usr/local/lib/python3.6/dist-packages (from numba>=0.38.1->phik==0.9.9->pandas_profiling==2.5.0) (47.3.1)\n",
            "Requirement already satisfied: py>=1.5.0 in /usr/local/lib/python3.6/dist-packages (from pytest>=4.0.2->phik==0.9.9->pandas_profiling==2.5.0) (1.8.2)\n",
            "Requirement already satisfied: more-itertools>=4.0.0 in /usr/local/lib/python3.6/dist-packages (from pytest>=4.0.2->phik==0.9.9->pandas_profiling==2.5.0) (8.4.0)\n",
            "Requirement already satisfied: packaging in /usr/local/lib/python3.6/dist-packages (from pytest>=4.0.2->phik==0.9.9->pandas_profiling==2.5.0) (20.4)\n",
            "Requirement already satisfied: importlib-metadata>=0.12; python_version < \"3.8\" in /usr/local/lib/python3.6/dist-packages (from pytest>=4.0.2->phik==0.9.9->pandas_profiling==2.5.0) (1.6.1)\n",
            "Requirement already satisfied: attrs>=17.4.0 in /usr/local/lib/python3.6/dist-packages (from pytest>=4.0.2->phik==0.9.9->pandas_profiling==2.5.0) (19.3.0)\n",
            "Requirement already satisfied: pluggy<1.0,>=0.12 in /usr/local/lib/python3.6/dist-packages (from pytest>=4.0.2->phik==0.9.9->pandas_profiling==2.5.0) (0.13.1)\n",
            "Requirement already satisfied: wcwidth in /usr/local/lib/python3.6/dist-packages (from pytest>=4.0.2->phik==0.9.9->pandas_profiling==2.5.0) (0.2.4)\n",
            "Requirement already satisfied: pyzmq>=13 in /usr/local/lib/python3.6/dist-packages (from jupyter-client>=5.2.3->phik==0.9.9->pandas_profiling==2.5.0) (19.0.1)\n",
            "Requirement already satisfied: tornado>=4.1 in /usr/local/lib/python3.6/dist-packages (from jupyter-client>=5.2.3->phik==0.9.9->pandas_profiling==2.5.0) (4.5.3)\n",
            "Requirement already satisfied: decorator in /usr/local/lib/python3.6/dist-packages (from traitlets>=4.3.1->ipywidgets==7.5.1->pandas_profiling==2.5.0) (4.4.2)\n",
            "Requirement already satisfied: ipython-genutils in /usr/local/lib/python3.6/dist-packages (from traitlets>=4.3.1->ipywidgets==7.5.1->pandas_profiling==2.5.0) (0.2.0)\n",
            "Requirement already satisfied: notebook>=4.4.1 in /usr/local/lib/python3.6/dist-packages (from widgetsnbextension~=3.5.0->ipywidgets==7.5.1->pandas_profiling==2.5.0) (5.2.2)\n",
            "Requirement already satisfied: jsonschema!=2.5.0,>=2.4 in /usr/local/lib/python3.6/dist-packages (from nbformat>=4.2.0->ipywidgets==7.5.1->pandas_profiling==2.5.0) (2.6.0)\n",
            "Requirement already satisfied: pickleshare in /usr/local/lib/python3.6/dist-packages (from ipython>=4.0.0; python_version >= \"3.3\"->ipywidgets==7.5.1->pandas_profiling==2.5.0) (0.7.5)\n",
            "Requirement already satisfied: pexpect; sys_platform != \"win32\" in /usr/local/lib/python3.6/dist-packages (from ipython>=4.0.0; python_version >= \"3.3\"->ipywidgets==7.5.1->pandas_profiling==2.5.0) (4.8.0)\n",
            "Requirement already satisfied: simplegeneric>0.8 in /usr/local/lib/python3.6/dist-packages (from ipython>=4.0.0; python_version >= \"3.3\"->ipywidgets==7.5.1->pandas_profiling==2.5.0) (0.8.1)\n",
            "Requirement already satisfied: prompt-toolkit<2.0.0,>=1.0.4 in /usr/local/lib/python3.6/dist-packages (from ipython>=4.0.0; python_version >= \"3.3\"->ipywidgets==7.5.1->pandas_profiling==2.5.0) (1.0.18)\n",
            "Requirement already satisfied: text-unidecode>=1.3 in /usr/local/lib/python3.6/dist-packages (from python-slugify->kaggle==1.5.6->pandas_profiling==2.5.0) (1.3)\n",
            "Requirement already satisfied: astroid<=2.5,>=2.4.0 in /usr/local/lib/python3.6/dist-packages (from pylint>=2.3.0->pytest-pylint>=0.13.0->phik==0.9.9->pandas_profiling==2.5.0) (2.4.2)\n",
            "Requirement already satisfied: isort<5,>=4.2.5 in /usr/local/lib/python3.6/dist-packages (from pylint>=2.3.0->pytest-pylint>=0.13.0->phik==0.9.9->pandas_profiling==2.5.0) (4.3.21)\n",
            "Requirement already satisfied: mccabe<0.7,>=0.6 in /usr/local/lib/python3.6/dist-packages (from pylint>=2.3.0->pytest-pylint>=0.13.0->phik==0.9.9->pandas_profiling==2.5.0) (0.6.1)\n",
            "Requirement already satisfied: webencodings in /usr/local/lib/python3.6/dist-packages (from bleach->nbconvert>=5.3.1->phik==0.9.9->pandas_profiling==2.5.0) (0.5.1)\n",
            "Requirement already satisfied: zipp>=0.5 in /usr/local/lib/python3.6/dist-packages (from importlib-metadata>=0.12; python_version < \"3.8\"->pytest>=4.0.2->phik==0.9.9->pandas_profiling==2.5.0) (3.1.0)\n",
            "Requirement already satisfied: terminado>=0.3.3; sys_platform != \"win32\" in /usr/local/lib/python3.6/dist-packages (from notebook>=4.4.1->widgetsnbextension~=3.5.0->ipywidgets==7.5.1->pandas_profiling==2.5.0) (0.8.3)\n",
            "Requirement already satisfied: ptyprocess>=0.5 in /usr/local/lib/python3.6/dist-packages (from pexpect; sys_platform != \"win32\"->ipython>=4.0.0; python_version >= \"3.3\"->ipywidgets==7.5.1->pandas_profiling==2.5.0) (0.6.0)\n",
            "Requirement already satisfied: typed-ast<1.5,>=1.4.0; implementation_name == \"cpython\" and python_version < \"3.8\" in /usr/local/lib/python3.6/dist-packages (from astroid<=2.5,>=2.4.0->pylint>=2.3.0->pytest-pylint>=0.13.0->phik==0.9.9->pandas_profiling==2.5.0) (1.4.1)\n",
            "Requirement already satisfied: wrapt~=1.11 in /usr/local/lib/python3.6/dist-packages (from astroid<=2.5,>=2.4.0->pylint>=2.3.0->pytest-pylint>=0.13.0->phik==0.9.9->pandas_profiling==2.5.0) (1.12.1)\n",
            "Requirement already satisfied: lazy-object-proxy==1.4.* in /usr/local/lib/python3.6/dist-packages (from astroid<=2.5,>=2.4.0->pylint>=2.3.0->pytest-pylint>=0.13.0->phik==0.9.9->pandas_profiling==2.5.0) (1.4.3)\n"
          ],
          "name": "stdout"
        }
      ]
    },
    {
      "cell_type": "code",
      "metadata": {
        "id": "nIGfPaLLtdiV",
        "colab_type": "code",
        "colab": {}
      },
      "source": [
        "train = pd.read_csv('https://raw.githubusercontent.com/DsStudentSid/InitialPaythonAssignments/master/PropertyInspection_train.csv')"
      ],
      "execution_count": null,
      "outputs": []
    },
    {
      "cell_type": "code",
      "metadata": {
        "id": "b5Y23zAPu18O",
        "colab_type": "code",
        "colab": {
          "base_uri": "https://localhost:8080/",
          "height": 222
        },
        "outputId": "2d6157fc-2663-49b6-f698-b4275b56155e"
      },
      "source": [
        "train.head()\n"
      ],
      "execution_count": null,
      "outputs": [
        {
          "output_type": "execute_result",
          "data": {
            "text/html": [
              "<div>\n",
              "<style scoped>\n",
              "    .dataframe tbody tr th:only-of-type {\n",
              "        vertical-align: middle;\n",
              "    }\n",
              "\n",
              "    .dataframe tbody tr th {\n",
              "        vertical-align: top;\n",
              "    }\n",
              "\n",
              "    .dataframe thead th {\n",
              "        text-align: right;\n",
              "    }\n",
              "</style>\n",
              "<table border=\"1\" class=\"dataframe\">\n",
              "  <thead>\n",
              "    <tr style=\"text-align: right;\">\n",
              "      <th></th>\n",
              "      <th>Id</th>\n",
              "      <th>Hazard</th>\n",
              "      <th>T1_V1</th>\n",
              "      <th>T1_V2</th>\n",
              "      <th>T1_V3</th>\n",
              "      <th>T1_V4</th>\n",
              "      <th>T1_V5</th>\n",
              "      <th>T1_V6</th>\n",
              "      <th>T1_V7</th>\n",
              "      <th>T1_V8</th>\n",
              "      <th>T1_V9</th>\n",
              "      <th>T1_V10</th>\n",
              "      <th>T1_V11</th>\n",
              "      <th>T1_V12</th>\n",
              "      <th>T1_V13</th>\n",
              "      <th>T1_V14</th>\n",
              "      <th>T1_V15</th>\n",
              "      <th>T1_V16</th>\n",
              "      <th>T1_V17</th>\n",
              "      <th>T2_V1</th>\n",
              "      <th>T2_V2</th>\n",
              "      <th>T2_V3</th>\n",
              "      <th>T2_V4</th>\n",
              "      <th>T2_V5</th>\n",
              "      <th>T2_V6</th>\n",
              "      <th>T2_V7</th>\n",
              "      <th>T2_V8</th>\n",
              "      <th>T2_V9</th>\n",
              "      <th>T2_V10</th>\n",
              "      <th>T2_V11</th>\n",
              "      <th>T2_V12</th>\n",
              "      <th>T2_V13</th>\n",
              "      <th>T2_V14</th>\n",
              "      <th>T2_V15</th>\n",
              "    </tr>\n",
              "  </thead>\n",
              "  <tbody>\n",
              "    <tr>\n",
              "      <th>0</th>\n",
              "      <td>1</td>\n",
              "      <td>1</td>\n",
              "      <td>15</td>\n",
              "      <td>3</td>\n",
              "      <td>2</td>\n",
              "      <td>N</td>\n",
              "      <td>B</td>\n",
              "      <td>N</td>\n",
              "      <td>B</td>\n",
              "      <td>B</td>\n",
              "      <td>D</td>\n",
              "      <td>7</td>\n",
              "      <td>B</td>\n",
              "      <td>B</td>\n",
              "      <td>15</td>\n",
              "      <td>1</td>\n",
              "      <td>A</td>\n",
              "      <td>B</td>\n",
              "      <td>N</td>\n",
              "      <td>36</td>\n",
              "      <td>11</td>\n",
              "      <td>N</td>\n",
              "      <td>10</td>\n",
              "      <td>B</td>\n",
              "      <td>2</td>\n",
              "      <td>37</td>\n",
              "      <td>1</td>\n",
              "      <td>11</td>\n",
              "      <td>6</td>\n",
              "      <td>Y</td>\n",
              "      <td>N</td>\n",
              "      <td>E</td>\n",
              "      <td>2</td>\n",
              "      <td>2</td>\n",
              "    </tr>\n",
              "    <tr>\n",
              "      <th>1</th>\n",
              "      <td>2</td>\n",
              "      <td>4</td>\n",
              "      <td>16</td>\n",
              "      <td>14</td>\n",
              "      <td>5</td>\n",
              "      <td>H</td>\n",
              "      <td>B</td>\n",
              "      <td>N</td>\n",
              "      <td>B</td>\n",
              "      <td>B</td>\n",
              "      <td>C</td>\n",
              "      <td>12</td>\n",
              "      <td>B</td>\n",
              "      <td>B</td>\n",
              "      <td>10</td>\n",
              "      <td>3</td>\n",
              "      <td>A</td>\n",
              "      <td>B</td>\n",
              "      <td>Y</td>\n",
              "      <td>78</td>\n",
              "      <td>10</td>\n",
              "      <td>Y</td>\n",
              "      <td>17</td>\n",
              "      <td>C</td>\n",
              "      <td>2</td>\n",
              "      <td>22</td>\n",
              "      <td>1</td>\n",
              "      <td>18</td>\n",
              "      <td>5</td>\n",
              "      <td>Y</td>\n",
              "      <td>Y</td>\n",
              "      <td>E</td>\n",
              "      <td>2</td>\n",
              "      <td>1</td>\n",
              "    </tr>\n",
              "    <tr>\n",
              "      <th>2</th>\n",
              "      <td>3</td>\n",
              "      <td>1</td>\n",
              "      <td>10</td>\n",
              "      <td>10</td>\n",
              "      <td>5</td>\n",
              "      <td>N</td>\n",
              "      <td>K</td>\n",
              "      <td>N</td>\n",
              "      <td>B</td>\n",
              "      <td>B</td>\n",
              "      <td>E</td>\n",
              "      <td>12</td>\n",
              "      <td>H</td>\n",
              "      <td>B</td>\n",
              "      <td>15</td>\n",
              "      <td>1</td>\n",
              "      <td>A</td>\n",
              "      <td>R</td>\n",
              "      <td>Y</td>\n",
              "      <td>71</td>\n",
              "      <td>21</td>\n",
              "      <td>Y</td>\n",
              "      <td>13</td>\n",
              "      <td>C</td>\n",
              "      <td>6</td>\n",
              "      <td>37</td>\n",
              "      <td>2</td>\n",
              "      <td>14</td>\n",
              "      <td>6</td>\n",
              "      <td>Y</td>\n",
              "      <td>Y</td>\n",
              "      <td>E</td>\n",
              "      <td>6</td>\n",
              "      <td>1</td>\n",
              "    </tr>\n",
              "    <tr>\n",
              "      <th>3</th>\n",
              "      <td>4</td>\n",
              "      <td>1</td>\n",
              "      <td>18</td>\n",
              "      <td>18</td>\n",
              "      <td>5</td>\n",
              "      <td>N</td>\n",
              "      <td>K</td>\n",
              "      <td>N</td>\n",
              "      <td>B</td>\n",
              "      <td>B</td>\n",
              "      <td>E</td>\n",
              "      <td>3</td>\n",
              "      <td>H</td>\n",
              "      <td>B</td>\n",
              "      <td>15</td>\n",
              "      <td>1</td>\n",
              "      <td>A</td>\n",
              "      <td>R</td>\n",
              "      <td>N</td>\n",
              "      <td>71</td>\n",
              "      <td>13</td>\n",
              "      <td>N</td>\n",
              "      <td>15</td>\n",
              "      <td>A</td>\n",
              "      <td>2</td>\n",
              "      <td>25</td>\n",
              "      <td>1</td>\n",
              "      <td>1</td>\n",
              "      <td>6</td>\n",
              "      <td>Y</td>\n",
              "      <td>N</td>\n",
              "      <td>C</td>\n",
              "      <td>2</td>\n",
              "      <td>6</td>\n",
              "    </tr>\n",
              "    <tr>\n",
              "      <th>4</th>\n",
              "      <td>5</td>\n",
              "      <td>1</td>\n",
              "      <td>13</td>\n",
              "      <td>19</td>\n",
              "      <td>5</td>\n",
              "      <td>N</td>\n",
              "      <td>H</td>\n",
              "      <td>N</td>\n",
              "      <td>B</td>\n",
              "      <td>B</td>\n",
              "      <td>E</td>\n",
              "      <td>7</td>\n",
              "      <td>H</td>\n",
              "      <td>B</td>\n",
              "      <td>10</td>\n",
              "      <td>1</td>\n",
              "      <td>A</td>\n",
              "      <td>J</td>\n",
              "      <td>N</td>\n",
              "      <td>75</td>\n",
              "      <td>10</td>\n",
              "      <td>Y</td>\n",
              "      <td>11</td>\n",
              "      <td>B</td>\n",
              "      <td>1</td>\n",
              "      <td>22</td>\n",
              "      <td>1</td>\n",
              "      <td>2</td>\n",
              "      <td>7</td>\n",
              "      <td>N</td>\n",
              "      <td>N</td>\n",
              "      <td>E</td>\n",
              "      <td>1</td>\n",
              "      <td>1</td>\n",
              "    </tr>\n",
              "  </tbody>\n",
              "</table>\n",
              "</div>"
            ],
            "text/plain": [
              "   Id  Hazard  T1_V1  T1_V2  T1_V3  ... T2_V11 T2_V12 T2_V13 T2_V14 T2_V15\n",
              "0   1       1     15      3      2  ...      Y      N      E      2      2\n",
              "1   2       4     16     14      5  ...      Y      Y      E      2      1\n",
              "2   3       1     10     10      5  ...      Y      Y      E      6      1\n",
              "3   4       1     18     18      5  ...      Y      N      C      2      6\n",
              "4   5       1     13     19      5  ...      N      N      E      1      1\n",
              "\n",
              "[5 rows x 34 columns]"
            ]
          },
          "metadata": {
            "tags": []
          },
          "execution_count": 17
        }
      ]
    },
    {
      "cell_type": "code",
      "metadata": {
        "id": "nBoJ5ZK9j5tP",
        "colab_type": "code",
        "colab": {
          "base_uri": "https://localhost:8080/",
          "height": 35
        },
        "outputId": "2d396ed5-aa68-4219-cfc7-9942c00997c5"
      },
      "source": [
        "train.shape"
      ],
      "execution_count": null,
      "outputs": [
        {
          "output_type": "execute_result",
          "data": {
            "text/plain": [
              "(50999, 34)"
            ]
          },
          "metadata": {
            "tags": []
          },
          "execution_count": 18
        }
      ]
    },
    {
      "cell_type": "code",
      "metadata": {
        "id": "qkRIJdvNhXez",
        "colab_type": "code",
        "colab": {}
      },
      "source": [
        "HazardDropDF=train.drop('Hazard',axis=1)"
      ],
      "execution_count": null,
      "outputs": []
    },
    {
      "cell_type": "code",
      "metadata": {
        "id": "9wcD7CfzhcJK",
        "colab_type": "code",
        "colab": {
          "base_uri": "https://localhost:8080/",
          "height": 222
        },
        "outputId": "50295563-e40e-4af1-9c3c-48c6a224e6b2"
      },
      "source": [
        "HazardDropDF.head()"
      ],
      "execution_count": null,
      "outputs": [
        {
          "output_type": "execute_result",
          "data": {
            "text/html": [
              "<div>\n",
              "<style scoped>\n",
              "    .dataframe tbody tr th:only-of-type {\n",
              "        vertical-align: middle;\n",
              "    }\n",
              "\n",
              "    .dataframe tbody tr th {\n",
              "        vertical-align: top;\n",
              "    }\n",
              "\n",
              "    .dataframe thead th {\n",
              "        text-align: right;\n",
              "    }\n",
              "</style>\n",
              "<table border=\"1\" class=\"dataframe\">\n",
              "  <thead>\n",
              "    <tr style=\"text-align: right;\">\n",
              "      <th></th>\n",
              "      <th>Id</th>\n",
              "      <th>T1_V1</th>\n",
              "      <th>T1_V2</th>\n",
              "      <th>T1_V3</th>\n",
              "      <th>T1_V4</th>\n",
              "      <th>T1_V5</th>\n",
              "      <th>T1_V6</th>\n",
              "      <th>T1_V7</th>\n",
              "      <th>T1_V8</th>\n",
              "      <th>T1_V9</th>\n",
              "      <th>T1_V10</th>\n",
              "      <th>T1_V11</th>\n",
              "      <th>T1_V12</th>\n",
              "      <th>T1_V13</th>\n",
              "      <th>T1_V14</th>\n",
              "      <th>T1_V15</th>\n",
              "      <th>T1_V16</th>\n",
              "      <th>T1_V17</th>\n",
              "      <th>T2_V1</th>\n",
              "      <th>T2_V2</th>\n",
              "      <th>T2_V3</th>\n",
              "      <th>T2_V4</th>\n",
              "      <th>T2_V5</th>\n",
              "      <th>T2_V6</th>\n",
              "      <th>T2_V7</th>\n",
              "      <th>T2_V8</th>\n",
              "      <th>T2_V9</th>\n",
              "      <th>T2_V10</th>\n",
              "      <th>T2_V11</th>\n",
              "      <th>T2_V12</th>\n",
              "      <th>T2_V13</th>\n",
              "      <th>T2_V14</th>\n",
              "      <th>T2_V15</th>\n",
              "    </tr>\n",
              "  </thead>\n",
              "  <tbody>\n",
              "    <tr>\n",
              "      <th>0</th>\n",
              "      <td>1</td>\n",
              "      <td>15</td>\n",
              "      <td>3</td>\n",
              "      <td>2</td>\n",
              "      <td>N</td>\n",
              "      <td>B</td>\n",
              "      <td>N</td>\n",
              "      <td>B</td>\n",
              "      <td>B</td>\n",
              "      <td>D</td>\n",
              "      <td>7</td>\n",
              "      <td>B</td>\n",
              "      <td>B</td>\n",
              "      <td>15</td>\n",
              "      <td>1</td>\n",
              "      <td>A</td>\n",
              "      <td>B</td>\n",
              "      <td>N</td>\n",
              "      <td>36</td>\n",
              "      <td>11</td>\n",
              "      <td>N</td>\n",
              "      <td>10</td>\n",
              "      <td>B</td>\n",
              "      <td>2</td>\n",
              "      <td>37</td>\n",
              "      <td>1</td>\n",
              "      <td>11</td>\n",
              "      <td>6</td>\n",
              "      <td>Y</td>\n",
              "      <td>N</td>\n",
              "      <td>E</td>\n",
              "      <td>2</td>\n",
              "      <td>2</td>\n",
              "    </tr>\n",
              "    <tr>\n",
              "      <th>1</th>\n",
              "      <td>2</td>\n",
              "      <td>16</td>\n",
              "      <td>14</td>\n",
              "      <td>5</td>\n",
              "      <td>H</td>\n",
              "      <td>B</td>\n",
              "      <td>N</td>\n",
              "      <td>B</td>\n",
              "      <td>B</td>\n",
              "      <td>C</td>\n",
              "      <td>12</td>\n",
              "      <td>B</td>\n",
              "      <td>B</td>\n",
              "      <td>10</td>\n",
              "      <td>3</td>\n",
              "      <td>A</td>\n",
              "      <td>B</td>\n",
              "      <td>Y</td>\n",
              "      <td>78</td>\n",
              "      <td>10</td>\n",
              "      <td>Y</td>\n",
              "      <td>17</td>\n",
              "      <td>C</td>\n",
              "      <td>2</td>\n",
              "      <td>22</td>\n",
              "      <td>1</td>\n",
              "      <td>18</td>\n",
              "      <td>5</td>\n",
              "      <td>Y</td>\n",
              "      <td>Y</td>\n",
              "      <td>E</td>\n",
              "      <td>2</td>\n",
              "      <td>1</td>\n",
              "    </tr>\n",
              "    <tr>\n",
              "      <th>2</th>\n",
              "      <td>3</td>\n",
              "      <td>10</td>\n",
              "      <td>10</td>\n",
              "      <td>5</td>\n",
              "      <td>N</td>\n",
              "      <td>K</td>\n",
              "      <td>N</td>\n",
              "      <td>B</td>\n",
              "      <td>B</td>\n",
              "      <td>E</td>\n",
              "      <td>12</td>\n",
              "      <td>H</td>\n",
              "      <td>B</td>\n",
              "      <td>15</td>\n",
              "      <td>1</td>\n",
              "      <td>A</td>\n",
              "      <td>R</td>\n",
              "      <td>Y</td>\n",
              "      <td>71</td>\n",
              "      <td>21</td>\n",
              "      <td>Y</td>\n",
              "      <td>13</td>\n",
              "      <td>C</td>\n",
              "      <td>6</td>\n",
              "      <td>37</td>\n",
              "      <td>2</td>\n",
              "      <td>14</td>\n",
              "      <td>6</td>\n",
              "      <td>Y</td>\n",
              "      <td>Y</td>\n",
              "      <td>E</td>\n",
              "      <td>6</td>\n",
              "      <td>1</td>\n",
              "    </tr>\n",
              "    <tr>\n",
              "      <th>3</th>\n",
              "      <td>4</td>\n",
              "      <td>18</td>\n",
              "      <td>18</td>\n",
              "      <td>5</td>\n",
              "      <td>N</td>\n",
              "      <td>K</td>\n",
              "      <td>N</td>\n",
              "      <td>B</td>\n",
              "      <td>B</td>\n",
              "      <td>E</td>\n",
              "      <td>3</td>\n",
              "      <td>H</td>\n",
              "      <td>B</td>\n",
              "      <td>15</td>\n",
              "      <td>1</td>\n",
              "      <td>A</td>\n",
              "      <td>R</td>\n",
              "      <td>N</td>\n",
              "      <td>71</td>\n",
              "      <td>13</td>\n",
              "      <td>N</td>\n",
              "      <td>15</td>\n",
              "      <td>A</td>\n",
              "      <td>2</td>\n",
              "      <td>25</td>\n",
              "      <td>1</td>\n",
              "      <td>1</td>\n",
              "      <td>6</td>\n",
              "      <td>Y</td>\n",
              "      <td>N</td>\n",
              "      <td>C</td>\n",
              "      <td>2</td>\n",
              "      <td>6</td>\n",
              "    </tr>\n",
              "    <tr>\n",
              "      <th>4</th>\n",
              "      <td>5</td>\n",
              "      <td>13</td>\n",
              "      <td>19</td>\n",
              "      <td>5</td>\n",
              "      <td>N</td>\n",
              "      <td>H</td>\n",
              "      <td>N</td>\n",
              "      <td>B</td>\n",
              "      <td>B</td>\n",
              "      <td>E</td>\n",
              "      <td>7</td>\n",
              "      <td>H</td>\n",
              "      <td>B</td>\n",
              "      <td>10</td>\n",
              "      <td>1</td>\n",
              "      <td>A</td>\n",
              "      <td>J</td>\n",
              "      <td>N</td>\n",
              "      <td>75</td>\n",
              "      <td>10</td>\n",
              "      <td>Y</td>\n",
              "      <td>11</td>\n",
              "      <td>B</td>\n",
              "      <td>1</td>\n",
              "      <td>22</td>\n",
              "      <td>1</td>\n",
              "      <td>2</td>\n",
              "      <td>7</td>\n",
              "      <td>N</td>\n",
              "      <td>N</td>\n",
              "      <td>E</td>\n",
              "      <td>1</td>\n",
              "      <td>1</td>\n",
              "    </tr>\n",
              "  </tbody>\n",
              "</table>\n",
              "</div>"
            ],
            "text/plain": [
              "   Id  T1_V1  T1_V2  T1_V3 T1_V4  ... T2_V11 T2_V12 T2_V13 T2_V14 T2_V15\n",
              "0   1     15      3      2     N  ...      Y      N      E      2      2\n",
              "1   2     16     14      5     H  ...      Y      Y      E      2      1\n",
              "2   3     10     10      5     N  ...      Y      Y      E      6      1\n",
              "3   4     18     18      5     N  ...      Y      N      C      2      6\n",
              "4   5     13     19      5     N  ...      N      N      E      1      1\n",
              "\n",
              "[5 rows x 33 columns]"
            ]
          },
          "metadata": {
            "tags": []
          },
          "execution_count": 20
        }
      ]
    },
    {
      "cell_type": "code",
      "metadata": {
        "id": "tNXBxO0GjUSg",
        "colab_type": "code",
        "colab": {
          "base_uri": "https://localhost:8080/",
          "height": 35
        },
        "outputId": "8fdae0cb-3af7-4754-d130-aa3b67f3c570"
      },
      "source": [
        "HazardDropDF.shape"
      ],
      "execution_count": null,
      "outputs": [
        {
          "output_type": "execute_result",
          "data": {
            "text/plain": [
              "(50999, 33)"
            ]
          },
          "metadata": {
            "tags": []
          },
          "execution_count": 21
        }
      ]
    },
    {
      "cell_type": "code",
      "metadata": {
        "id": "xGM3rvn9jXyQ",
        "colab_type": "code",
        "colab": {
          "base_uri": "https://localhost:8080/",
          "height": 35
        },
        "outputId": "8b73be9a-3db4-4054-c520-c45ad69a0194"
      },
      "source": [
        "check = train.Hazard\n",
        "check.shape"
      ],
      "execution_count": null,
      "outputs": [
        {
          "output_type": "execute_result",
          "data": {
            "text/plain": [
              "(50999,)"
            ]
          },
          "metadata": {
            "tags": []
          },
          "execution_count": 22
        }
      ]
    },
    {
      "cell_type": "code",
      "metadata": {
        "id": "ktleWLp-kRf-",
        "colab_type": "code",
        "colab": {
          "base_uri": "https://localhost:8080/",
          "height": 314
        },
        "outputId": "be2f5f3f-a54b-4b1d-b8ce-b2b3a76dbe61"
      },
      "source": [
        "HazardDropDF.describe()"
      ],
      "execution_count": null,
      "outputs": [
        {
          "output_type": "execute_result",
          "data": {
            "text/html": [
              "<div>\n",
              "<style scoped>\n",
              "    .dataframe tbody tr th:only-of-type {\n",
              "        vertical-align: middle;\n",
              "    }\n",
              "\n",
              "    .dataframe tbody tr th {\n",
              "        vertical-align: top;\n",
              "    }\n",
              "\n",
              "    .dataframe thead th {\n",
              "        text-align: right;\n",
              "    }\n",
              "</style>\n",
              "<table border=\"1\" class=\"dataframe\">\n",
              "  <thead>\n",
              "    <tr style=\"text-align: right;\">\n",
              "      <th></th>\n",
              "      <th>Id</th>\n",
              "      <th>T1_V1</th>\n",
              "      <th>T1_V2</th>\n",
              "      <th>T1_V3</th>\n",
              "      <th>T1_V10</th>\n",
              "      <th>T1_V13</th>\n",
              "      <th>T1_V14</th>\n",
              "      <th>T2_V1</th>\n",
              "      <th>T2_V2</th>\n",
              "      <th>T2_V4</th>\n",
              "      <th>T2_V6</th>\n",
              "      <th>T2_V7</th>\n",
              "      <th>T2_V8</th>\n",
              "      <th>T2_V9</th>\n",
              "      <th>T2_V10</th>\n",
              "      <th>T2_V14</th>\n",
              "      <th>T2_V15</th>\n",
              "    </tr>\n",
              "  </thead>\n",
              "  <tbody>\n",
              "    <tr>\n",
              "      <th>count</th>\n",
              "      <td>50999.000000</td>\n",
              "      <td>50999.000000</td>\n",
              "      <td>50999.000000</td>\n",
              "      <td>50999.000000</td>\n",
              "      <td>50999.000000</td>\n",
              "      <td>50999.000000</td>\n",
              "      <td>50999.000000</td>\n",
              "      <td>50999.000000</td>\n",
              "      <td>50999.000000</td>\n",
              "      <td>50999.000000</td>\n",
              "      <td>50999.000000</td>\n",
              "      <td>50999.000000</td>\n",
              "      <td>50999.000000</td>\n",
              "      <td>50999.000000</td>\n",
              "      <td>50999.000000</td>\n",
              "      <td>50999.000000</td>\n",
              "      <td>50999.000000</td>\n",
              "    </tr>\n",
              "    <tr>\n",
              "      <th>mean</th>\n",
              "      <td>50929.727897</td>\n",
              "      <td>9.722093</td>\n",
              "      <td>12.847585</td>\n",
              "      <td>3.186004</td>\n",
              "      <td>7.020451</td>\n",
              "      <td>13.996255</td>\n",
              "      <td>1.578521</td>\n",
              "      <td>57.580051</td>\n",
              "      <td>12.419616</td>\n",
              "      <td>10.259495</td>\n",
              "      <td>1.948215</td>\n",
              "      <td>33.487755</td>\n",
              "      <td>1.032236</td>\n",
              "      <td>12.493029</td>\n",
              "      <td>4.496520</td>\n",
              "      <td>2.451126</td>\n",
              "      <td>3.484480</td>\n",
              "    </tr>\n",
              "    <tr>\n",
              "      <th>std</th>\n",
              "      <td>29314.685894</td>\n",
              "      <td>5.167943</td>\n",
              "      <td>6.255743</td>\n",
              "      <td>1.739369</td>\n",
              "      <td>3.595279</td>\n",
              "      <td>4.647499</td>\n",
              "      <td>0.862882</td>\n",
              "      <td>23.499818</td>\n",
              "      <td>4.783411</td>\n",
              "      <td>4.852008</td>\n",
              "      <td>0.800117</td>\n",
              "      <td>5.834038</td>\n",
              "      <td>0.195893</td>\n",
              "      <td>7.314788</td>\n",
              "      <td>1.896717</td>\n",
              "      <td>1.260074</td>\n",
              "      <td>3.076745</td>\n",
              "    </tr>\n",
              "    <tr>\n",
              "      <th>min</th>\n",
              "      <td>1.000000</td>\n",
              "      <td>1.000000</td>\n",
              "      <td>1.000000</td>\n",
              "      <td>1.000000</td>\n",
              "      <td>2.000000</td>\n",
              "      <td>5.000000</td>\n",
              "      <td>0.000000</td>\n",
              "      <td>1.000000</td>\n",
              "      <td>1.000000</td>\n",
              "      <td>1.000000</td>\n",
              "      <td>1.000000</td>\n",
              "      <td>22.000000</td>\n",
              "      <td>1.000000</td>\n",
              "      <td>1.000000</td>\n",
              "      <td>1.000000</td>\n",
              "      <td>1.000000</td>\n",
              "      <td>1.000000</td>\n",
              "    </tr>\n",
              "    <tr>\n",
              "      <th>25%</th>\n",
              "      <td>25660.500000</td>\n",
              "      <td>6.000000</td>\n",
              "      <td>7.000000</td>\n",
              "      <td>2.000000</td>\n",
              "      <td>3.000000</td>\n",
              "      <td>10.000000</td>\n",
              "      <td>1.000000</td>\n",
              "      <td>40.000000</td>\n",
              "      <td>9.000000</td>\n",
              "      <td>6.000000</td>\n",
              "      <td>2.000000</td>\n",
              "      <td>31.000000</td>\n",
              "      <td>1.000000</td>\n",
              "      <td>6.000000</td>\n",
              "      <td>3.000000</td>\n",
              "      <td>2.000000</td>\n",
              "      <td>1.000000</td>\n",
              "    </tr>\n",
              "    <tr>\n",
              "      <th>50%</th>\n",
              "      <td>50977.000000</td>\n",
              "      <td>9.000000</td>\n",
              "      <td>14.000000</td>\n",
              "      <td>3.000000</td>\n",
              "      <td>8.000000</td>\n",
              "      <td>15.000000</td>\n",
              "      <td>1.000000</td>\n",
              "      <td>56.000000</td>\n",
              "      <td>11.000000</td>\n",
              "      <td>10.000000</td>\n",
              "      <td>2.000000</td>\n",
              "      <td>34.000000</td>\n",
              "      <td>1.000000</td>\n",
              "      <td>14.000000</td>\n",
              "      <td>4.000000</td>\n",
              "      <td>2.000000</td>\n",
              "      <td>2.000000</td>\n",
              "    </tr>\n",
              "    <tr>\n",
              "      <th>75%</th>\n",
              "      <td>76268.500000</td>\n",
              "      <td>14.000000</td>\n",
              "      <td>18.000000</td>\n",
              "      <td>4.000000</td>\n",
              "      <td>8.000000</td>\n",
              "      <td>20.000000</td>\n",
              "      <td>2.000000</td>\n",
              "      <td>77.000000</td>\n",
              "      <td>15.000000</td>\n",
              "      <td>14.000000</td>\n",
              "      <td>2.000000</td>\n",
              "      <td>40.000000</td>\n",
              "      <td>1.000000</td>\n",
              "      <td>18.000000</td>\n",
              "      <td>6.000000</td>\n",
              "      <td>3.000000</td>\n",
              "      <td>5.000000</td>\n",
              "    </tr>\n",
              "    <tr>\n",
              "      <th>max</th>\n",
              "      <td>101999.000000</td>\n",
              "      <td>19.000000</td>\n",
              "      <td>24.000000</td>\n",
              "      <td>9.000000</td>\n",
              "      <td>12.000000</td>\n",
              "      <td>20.000000</td>\n",
              "      <td>4.000000</td>\n",
              "      <td>100.000000</td>\n",
              "      <td>39.000000</td>\n",
              "      <td>22.000000</td>\n",
              "      <td>7.000000</td>\n",
              "      <td>40.000000</td>\n",
              "      <td>3.000000</td>\n",
              "      <td>25.000000</td>\n",
              "      <td>7.000000</td>\n",
              "      <td>7.000000</td>\n",
              "      <td>12.000000</td>\n",
              "    </tr>\n",
              "  </tbody>\n",
              "</table>\n",
              "</div>"
            ],
            "text/plain": [
              "                  Id         T1_V1  ...        T2_V14        T2_V15\n",
              "count   50999.000000  50999.000000  ...  50999.000000  50999.000000\n",
              "mean    50929.727897      9.722093  ...      2.451126      3.484480\n",
              "std     29314.685894      5.167943  ...      1.260074      3.076745\n",
              "min         1.000000      1.000000  ...      1.000000      1.000000\n",
              "25%     25660.500000      6.000000  ...      2.000000      1.000000\n",
              "50%     50977.000000      9.000000  ...      2.000000      2.000000\n",
              "75%     76268.500000     14.000000  ...      3.000000      5.000000\n",
              "max    101999.000000     19.000000  ...      7.000000     12.000000\n",
              "\n",
              "[8 rows x 17 columns]"
            ]
          },
          "metadata": {
            "tags": []
          },
          "execution_count": 23
        }
      ]
    },
    {
      "cell_type": "code",
      "metadata": {
        "id": "A4QDnx3lkl3r",
        "colab_type": "code",
        "colab": {
          "base_uri": "https://localhost:8080/",
          "height": 676
        },
        "outputId": "11a396c5-88fd-4ed1-877d-73f2fa607880"
      },
      "source": [
        "HazardDropDF.info()"
      ],
      "execution_count": null,
      "outputs": [
        {
          "output_type": "stream",
          "text": [
            "<class 'pandas.core.frame.DataFrame'>\n",
            "RangeIndex: 50999 entries, 0 to 50998\n",
            "Data columns (total 33 columns):\n",
            "Id        50999 non-null int64\n",
            "T1_V1     50999 non-null int64\n",
            "T1_V2     50999 non-null int64\n",
            "T1_V3     50999 non-null int64\n",
            "T1_V4     50999 non-null object\n",
            "T1_V5     50999 non-null object\n",
            "T1_V6     50999 non-null object\n",
            "T1_V7     50999 non-null object\n",
            "T1_V8     50999 non-null object\n",
            "T1_V9     50999 non-null object\n",
            "T1_V10    50999 non-null int64\n",
            "T1_V11    50999 non-null object\n",
            "T1_V12    50999 non-null object\n",
            "T1_V13    50999 non-null int64\n",
            "T1_V14    50999 non-null int64\n",
            "T1_V15    50999 non-null object\n",
            "T1_V16    50999 non-null object\n",
            "T1_V17    50999 non-null object\n",
            "T2_V1     50999 non-null int64\n",
            "T2_V2     50999 non-null int64\n",
            "T2_V3     50999 non-null object\n",
            "T2_V4     50999 non-null int64\n",
            "T2_V5     50999 non-null object\n",
            "T2_V6     50999 non-null int64\n",
            "T2_V7     50999 non-null int64\n",
            "T2_V8     50999 non-null int64\n",
            "T2_V9     50999 non-null int64\n",
            "T2_V10    50999 non-null int64\n",
            "T2_V11    50999 non-null object\n",
            "T2_V12    50999 non-null object\n",
            "T2_V13    50999 non-null object\n",
            "T2_V14    50999 non-null int64\n",
            "T2_V15    50999 non-null int64\n",
            "dtypes: int64(17), object(16)\n",
            "memory usage: 12.8+ MB\n"
          ],
          "name": "stdout"
        }
      ]
    },
    {
      "cell_type": "code",
      "metadata": {
        "id": "4h6pnM-L826w",
        "colab_type": "code",
        "colab": {
          "base_uri": "https://localhost:8080/"
        },
        "outputId": "788b2c1a-5a62-4526-9f4c-70a6bb767e5f"
      },
      "source": [
        "PandaProfiling = pandas_profiling.ProfileReport(HazardDropDF)\n",
        "#covert profile report as html file\n",
        "PandaProfiling.to_file(\"PropertyInspection.html\")\n"
      ],
      "execution_count": 32,
      "outputs": [
        {
          "output_type": "display_data",
          "data": {
            "application/vnd.jupyter.widget-view+json": {
              "model_id": "eae50215694d4e23b09e3a58820ad359",
              "version_minor": 0,
              "version_major": 2
            },
            "text/plain": [
              "HBox(children=(FloatProgress(value=0.0, description='variables', max=33.0, style=ProgressStyle(description_wid…"
            ]
          },
          "metadata": {
            "tags": []
          }
        },
        {
          "output_type": "stream",
          "text": [
            "\n"
          ],
          "name": "stdout"
        },
        {
          "output_type": "display_data",
          "data": {
            "application/vnd.jupyter.widget-view+json": {
              "model_id": "d81c28cdcb32445e8e3f1e0b62d1095e",
              "version_minor": 0,
              "version_major": 2
            },
            "text/plain": [
              "HBox(children=(FloatProgress(value=0.0, description='correlations', max=6.0, style=ProgressStyle(description_w…"
            ]
          },
          "metadata": {
            "tags": []
          }
        },
        {
          "output_type": "stream",
          "text": [
            "\n"
          ],
          "name": "stdout"
        },
        {
          "output_type": "display_data",
          "data": {
            "application/vnd.jupyter.widget-view+json": {
              "model_id": "08a1a27c92254140aed5f6fe845604ed",
              "version_minor": 0,
              "version_major": 2
            },
            "text/plain": [
              "HBox(children=(FloatProgress(value=0.0, description='interactions [continuous]', max=225.0, style=ProgressStyl…"
            ]
          },
          "metadata": {
            "tags": []
          }
        },
        {
          "output_type": "stream",
          "text": [
            "\n"
          ],
          "name": "stdout"
        },
        {
          "output_type": "display_data",
          "data": {
            "application/vnd.jupyter.widget-view+json": {
              "model_id": "7219fcbfe18c486aab86d218fa545e87",
              "version_minor": 0,
              "version_major": 2
            },
            "text/plain": [
              "HBox(children=(FloatProgress(value=0.0, description='table', max=1.0, style=ProgressStyle(description_width='i…"
            ]
          },
          "metadata": {
            "tags": []
          }
        },
        {
          "output_type": "stream",
          "text": [
            "\n"
          ],
          "name": "stdout"
        },
        {
          "output_type": "display_data",
          "data": {
            "application/vnd.jupyter.widget-view+json": {
              "model_id": "4cca885a88944432ac703807ca33bd83",
              "version_minor": 0,
              "version_major": 2
            },
            "text/plain": [
              "HBox(children=(FloatProgress(value=0.0, description='missing', max=2.0, style=ProgressStyle(description_width=…"
            ]
          },
          "metadata": {
            "tags": []
          }
        },
        {
          "output_type": "stream",
          "text": [
            "\n"
          ],
          "name": "stdout"
        },
        {
          "output_type": "display_data",
          "data": {
            "application/vnd.jupyter.widget-view+json": {
              "model_id": "21d9d04c1a1d494093360a4fdd013da3",
              "version_minor": 0,
              "version_major": 2
            },
            "text/plain": [
              "HBox(children=(FloatProgress(value=0.0, description='warnings', max=3.0, style=ProgressStyle(description_width…"
            ]
          },
          "metadata": {
            "tags": []
          }
        },
        {
          "output_type": "stream",
          "text": [
            "\n"
          ],
          "name": "stdout"
        },
        {
          "output_type": "display_data",
          "data": {
            "application/vnd.jupyter.widget-view+json": {
              "model_id": "1d292294c435410a8ac7b5c3dfd13ae0",
              "version_minor": 0,
              "version_major": 2
            },
            "text/plain": [
              "HBox(children=(FloatProgress(value=0.0, description='package', max=1.0, style=ProgressStyle(description_width=…"
            ]
          },
          "metadata": {
            "tags": []
          }
        },
        {
          "output_type": "stream",
          "text": [
            "\n"
          ],
          "name": "stdout"
        },
        {
          "output_type": "display_data",
          "data": {
            "application/vnd.jupyter.widget-view+json": {
              "model_id": "15c8efaef4ad408a8542ab9ad9c873ba",
              "version_minor": 0,
              "version_major": 2
            },
            "text/plain": [
              "HBox(children=(FloatProgress(value=0.0, description='build report structure', max=1.0, style=ProgressStyle(des…"
            ]
          },
          "metadata": {
            "tags": []
          }
        },
        {
          "output_type": "stream",
          "text": [
            "\n"
          ],
          "name": "stdout"
        }
      ]
    },
    {
      "cell_type": "code",
      "metadata": {
        "id": "RrWMk4atAf9M",
        "colab_type": "code",
        "colab": {}
      },
      "source": [
        "#PandaProfiling.to_widgets()"
      ],
      "execution_count": 31,
      "outputs": []
    },
    {
      "cell_type": "code",
      "metadata": {
        "id": "XFfL9WyQFr9c",
        "colab_type": "code",
        "colab": {}
      },
      "source": [
        "HazardDropDF_new=pd.get_dummies(HazardDropDF)"
      ],
      "execution_count": null,
      "outputs": []
    },
    {
      "cell_type": "code",
      "metadata": {
        "id": "VPuoTgAbFzrm",
        "colab_type": "code",
        "colab": {}
      },
      "source": [
        "HazardDropDF_new.shape"
      ],
      "execution_count": null,
      "outputs": []
    },
    {
      "cell_type": "code",
      "metadata": {
        "id": "H8MJawazGIda",
        "colab_type": "code",
        "colab": {}
      },
      "source": [
        "HazardDropDF_new.columns()\n",
        "HazardDropDF_new.info()\n",
        "XHazardDropDF_new.describe()"
      ],
      "execution_count": null,
      "outputs": []
    },
    {
      "cell_type": "code",
      "metadata": {
        "id": "GiMA9u73Kz-J",
        "colab_type": "code",
        "colab": {}
      },
      "source": [
        "#reduce dimension\n",
        "#scale the X_new data\n",
        "from sklearn.preprocessing import Normalizer,StandardScaler,MinMaxScaler\n",
        "from sklearn.decomposition import PCA,IncrementalPCA\n",
        "\n",
        "from sklearn.pipeline import make_pipeline\n",
        "pca=PCA(n_components=6)\n",
        "Scaler=StandardScaler()\n",
        "ipca=IncrementalPCA(n_components=6)\n",
        "#normalizer = Normalizer()\n",
        "pipeline_1=make_pipeline(Scaler,ipca)\n",
        "x_features=pipeline_1.fit_transform(X_new)\n",
        "features = range(ipca.n_components_)\n",
        "plt.figure(figsize=(12,12))\n",
        "plt.bar(features, ipca.explained_variance_)\n",
        "plt.xlabel('PCA feature')\n",
        "plt.ylabel('variance')\n",
        "plt.xticks(features)\n",
        "plt.show()"
      ],
      "execution_count": null,
      "outputs": []
    },
    {
      "cell_type": "code",
      "metadata": {
        "id": "_2pIHWcEK5oR",
        "colab_type": "code",
        "colab": {}
      },
      "source": [
        "\n",
        "PCA_features=pipeline_1.transform(X_new)\n",
        "print(PCA_features.shape)"
      ],
      "execution_count": null,
      "outputs": []
    },
    {
      "cell_type": "code",
      "metadata": {
        "id": "gq2hkI9wK8-n",
        "colab_type": "code",
        "colab": {}
      },
      "source": [
        "df=pd.DataFrame(PCA_features,columns=[0,1,2,3,4,5])\n",
        "sns.pairplot(df)\n",
        "plt.show()"
      ],
      "execution_count": null,
      "outputs": []
    },
    {
      "cell_type": "code",
      "metadata": {
        "id": "1C-h7euvLCO_",
        "colab_type": "code",
        "colab": {}
      },
      "source": [
        "# calculate gini\n",
        "def Gini(y_true, y_pred):\n",
        "    # check and get number of samples\n",
        "    assert y_true.shape == y_pred.shape\n",
        "    n_samples = y_true.shape[0]\n",
        "    \n",
        "    # sort rows on prediction column \n",
        "    # (from largest to smallest)\n",
        "    arr = np.array([y_true, y_pred]).transpose()\n",
        "    true_order = arr[arr[:,0].argsort()][::-1,0]\n",
        "    pred_order = arr[arr[:,1].argsort()][::-1,0]\n",
        "    \n",
        "    # get Lorenz curves\n",
        "    L_true = np.cumsum(true_order) / np.sum(true_order)\n",
        "    L_pred = np.cumsum(pred_order) / np.sum(pred_order)\n",
        "    L_ones = np.linspace(1/n_samples, 1, n_samples)\n",
        "    \n",
        "    # get Gini coefficients (area between curves)\n",
        "    G_true = np.sum(L_ones - L_true)\n",
        "    G_pred = np.sum(L_ones - L_pred)\n",
        "    \n",
        "    # normalize to true Gini coefficient\n",
        "    return G_pred/G_true"
      ],
      "execution_count": null,
      "outputs": []
    },
    {
      "cell_type": "code",
      "metadata": {
        "id": "YdqQiNB4MbZU",
        "colab_type": "code",
        "colab": {}
      },
      "source": [
        "from sklearn.preprocessing import QuantileTransformer,StandardScaler\n",
        "from sklearn.decomposition import PCA\n",
        "from sklearn.cross_validation import train_test_split\n",
        "from sklearn.pipeline import make_pipeline\n",
        "from sklearn.linear_model import Ridge\n",
        "from sklearn.tree import DecisionTreeRegressor\n",
        "test_df=pd.read_csv('test.csv',index_col=0)\n",
        "test=pd.get_dummies(test_df)\n",
        "X_train,X_test,y_train,y_test = train_test_split(X_new,y,test_size=0.3,random_state=42)\n",
        "\n",
        "qt=QuantileTransformer()\n",
        "#scaler=StandardScaler()\n",
        "#pca= PCA(n_components=93)\n",
        "#normalizer = Normalizer()\n",
        "learner=Ridge()\n",
        "pipeline_2=make_pipeline(qt,learner)\n",
        "pipeline_2.fit(X_new,y)"
      ],
      "execution_count": null,
      "outputs": []
    },
    {
      "cell_type": "code",
      "metadata": {
        "id": "SW4n2WHYMcjB",
        "colab_type": "code",
        "colab": {}
      },
      "source": [
        "result=pipeline_2.predict(test)\n",
        "print(result)"
      ],
      "execution_count": null,
      "outputs": []
    },
    {
      "cell_type": "code",
      "metadata": {
        "id": "s-Zr_vj2MgtV",
        "colab_type": "code",
        "colab": {}
      },
      "source": [
        "print(Gini(y_test,result))"
      ],
      "execution_count": null,
      "outputs": []
    },
    {
      "cell_type": "code",
      "metadata": {
        "id": "M6lcEpb5MjjK",
        "colab_type": "code",
        "colab": {}
      },
      "source": [
        "res_df=pd.DataFrame(result,columns=['Hazard'],index=test.index)\n",
        "print(res_df.head())\n",
        "res_df.to_csv('prediction.csv')"
      ],
      "execution_count": null,
      "outputs": []
    },
    {
      "cell_type": "code",
      "metadata": {
        "id": "I9Qk2sD0Mm4A",
        "colab_type": "code",
        "colab": {}
      },
      "source": [
        "sample1=pd.read_csv('prediction.csv')\n",
        "print(sample1)"
      ],
      "execution_count": null,
      "outputs": []
    },
    {
      "cell_type": "code",
      "metadata": {
        "id": "V-iv4wTDMpms",
        "colab_type": "code",
        "colab": {}
      },
      "source": [
        "\n",
        "sample=pd.read_csv('sample_submission.csv')\n",
        "print(sample)"
      ],
      "execution_count": null,
      "outputs": []
    },
    {
      "cell_type": "code",
      "metadata": {
        "id": "xMm6dqHVMswV",
        "colab_type": "code",
        "colab": {}
      },
      "source": [
        ""
      ],
      "execution_count": null,
      "outputs": []
    }
  ]
}