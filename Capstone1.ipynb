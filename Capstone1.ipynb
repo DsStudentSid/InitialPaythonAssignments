{
  "nbformat": 4,
  "nbformat_minor": 0,
  "metadata": {
    "kernelspec": {
      "display_name": "Python 3",
      "language": "python",
      "name": "python3"
    },
    "language_info": {
      "codemirror_mode": {
        "name": "ipython",
        "version": 3
      },
      "file_extension": ".py",
      "mimetype": "text/x-python",
      "name": "python",
      "nbconvert_exporter": "python",
      "pygments_lexer": "ipython3",
      "version": "3.7.3"
    },
    "colab": {
      "name": "Capstone1.ipynb",
      "provenance": []
    }
  },
  "cells": [
    {
      "cell_type": "code",
      "metadata": {
        "id": "xwoWJQZxE2LX",
        "colab_type": "code",
        "colab": {}
      },
      "source": [
        "import pandas as pd\n",
        "import numpy as np\n",
        "import matplotlib.pyplot as plt\n",
        "import seaborn as sns"
      ],
      "execution_count": 0,
      "outputs": []
    },
    {
      "cell_type": "code",
      "metadata": {
        "id": "tfG7n2kNE2Le",
        "colab_type": "code",
        "colab": {
          "base_uri": "https://localhost:8080/",
          "height": 104
        },
        "outputId": "93d9add2-e1dd-4880-957b-b76a81c3d6b2"
      },
      "source": [
        "pip install mysql-connector-python"
      ],
      "execution_count": 48,
      "outputs": [
        {
          "output_type": "stream",
          "text": [
            "Requirement already satisfied: mysql-connector-python in /usr/local/lib/python3.6/dist-packages (8.0.19)\n",
            "Requirement already satisfied: protobuf==3.6.1 in /usr/local/lib/python3.6/dist-packages (from mysql-connector-python) (3.6.1)\n",
            "Requirement already satisfied: dnspython==1.16.0 in /usr/local/lib/python3.6/dist-packages (from mysql-connector-python) (1.16.0)\n",
            "Requirement already satisfied: six>=1.9 in /usr/local/lib/python3.6/dist-packages (from protobuf==3.6.1->mysql-connector-python) (1.12.0)\n",
            "Requirement already satisfied: setuptools in /usr/local/lib/python3.6/dist-packages (from protobuf==3.6.1->mysql-connector-python) (45.1.0)\n"
          ],
          "name": "stdout"
        }
      ]
    },
    {
      "cell_type": "code",
      "metadata": {
        "id": "gfwdhSahE2Li",
        "colab_type": "code",
        "colab": {}
      },
      "source": [
        "#df_events = pd.read_csv('G:\\Project\\Capstone_project-1\\events_data.csv')\n",
        "#df_events.head()"
      ],
      "execution_count": 0,
      "outputs": []
    },
    {
      "cell_type": "code",
      "metadata": {
        "id": "qVFCWk3rE2Ll",
        "colab_type": "code",
        "colab": {
          "base_uri": "https://localhost:8080/",
          "height": 87
        },
        "outputId": "de3722fa-7966-4657-c829-272e5ef21fe4"
      },
      "source": [
        "import mysql.connector\n",
        "\n",
        "cnx = mysql.connector.connect(host='cpanel.insaid.co',user='student', password='student',\n",
        "                              database='Capstone1')\n",
        "print(cnx)\n",
        "cursor = cnx.cursor()\n",
        "cursor.execute(\"SHOW TABLES\") \n",
        "\n",
        "#tables = cursor.fetchall()\n",
        "for table_names in cursor :\n",
        "    print(table_names) \n"
      ],
      "execution_count": 55,
      "outputs": [
        {
          "output_type": "stream",
          "text": [
            "<mysql.connector.connection_cext.CMySQLConnection object at 0x7f06c88ad860>\n",
            "('events_data',)\n",
            "('gender_age_train',)\n",
            "('phone_brand_device_model',)\n"
          ],
          "name": "stdout"
        }
      ]
    },
    {
      "cell_type": "code",
      "metadata": {
        "id": "EZGAQFj5E2Lo",
        "colab_type": "code",
        "colab": {
          "base_uri": "https://localhost:8080/",
          "height": 271
        },
        "outputId": "70332071-660f-4b17-84c1-870d503175b8"
      },
      "source": [
        "cursor.execute(\"SELECT count(*) FROM events_data\")\n",
        "#cursor.fetchall()\n",
        "for x in cursor:\n",
        "  print(\"Row Count events_data rows:%d\"%x)\n",
        "\n",
        "cursor.execute(\"SELECT count(*) FROM gender_age_train\")\n",
        "#cursor.fetchall()\n",
        "for x in cursor:\n",
        "  print(\"Row Count gender_age_train rows:%d\"%x)\n",
        "\n",
        "cursor.execute(\"SELECT count(*) FROM phone_brand_device_model\")\n",
        "#cursor.fetchall()\n",
        "for x in cursor:\n",
        "  print(\"Row Count phone_brand_device_model rows:%d\"%x)\n",
        "\n",
        "#for Transfering Data from Mysql DB table to DataFrame\n",
        "cursor.execute(\"SELECT * FROM gender_age_train\")\n",
        "table_rows = cursor.fetchall()\n",
        "df_gender = pd.DataFrame(table_rows)\n",
        "print(\"dataset of gender_age_train table\")\n",
        "df_gender.head()\n",
        "\n",
        "#cursor.execute(\"SELECT * FROM events_data\")\n",
        "#table_rows = cursor.fetchall()\n",
        "#df_event = pd.DataFrame(table_rows)\n",
        "#print(\"dataset of events_data table\")\n",
        "#df_event.head()\n",
        "\n",
        "#cursor.execute(\"SELECT * FROM phone_brand_device_model\")\n",
        "#table_rows = cursor.fetchall()\n",
        "#df_device = pd.DataFrame(table_rows)\n",
        "#print(\"dataset of phone_brand_device_model table\")\n",
        "#df_device.head()\n",
        "\n",
        "#cnx.close()"
      ],
      "execution_count": 56,
      "outputs": [
        {
          "output_type": "stream",
          "text": [
            "Row Count events_data rows:3252950\n",
            "Row Count gender_age_train rows:74645\n",
            "Row Count phone_brand_device_model rows:87726\n",
            "dataset of gender_age_train table\n"
          ],
          "name": "stdout"
        },
        {
          "output_type": "execute_result",
          "data": {
            "text/html": [
              "<div>\n",
              "<style scoped>\n",
              "    .dataframe tbody tr th:only-of-type {\n",
              "        vertical-align: middle;\n",
              "    }\n",
              "\n",
              "    .dataframe tbody tr th {\n",
              "        vertical-align: top;\n",
              "    }\n",
              "\n",
              "    .dataframe thead th {\n",
              "        text-align: right;\n",
              "    }\n",
              "</style>\n",
              "<table border=\"1\" class=\"dataframe\">\n",
              "  <thead>\n",
              "    <tr style=\"text-align: right;\">\n",
              "      <th></th>\n",
              "      <th>0</th>\n",
              "      <th>1</th>\n",
              "      <th>2</th>\n",
              "      <th>3</th>\n",
              "    </tr>\n",
              "  </thead>\n",
              "  <tbody>\n",
              "    <tr>\n",
              "      <th>0</th>\n",
              "      <td>-8076087639492063270</td>\n",
              "      <td>M</td>\n",
              "      <td>35</td>\n",
              "      <td>M32-38</td>\n",
              "    </tr>\n",
              "    <tr>\n",
              "      <th>1</th>\n",
              "      <td>-2897161552818060146</td>\n",
              "      <td>M</td>\n",
              "      <td>35</td>\n",
              "      <td>M32-38</td>\n",
              "    </tr>\n",
              "    <tr>\n",
              "      <th>2</th>\n",
              "      <td>-8260683887967679142</td>\n",
              "      <td>M</td>\n",
              "      <td>35</td>\n",
              "      <td>M32-38</td>\n",
              "    </tr>\n",
              "    <tr>\n",
              "      <th>3</th>\n",
              "      <td>-4938849341048082022</td>\n",
              "      <td>M</td>\n",
              "      <td>30</td>\n",
              "      <td>M29-31</td>\n",
              "    </tr>\n",
              "    <tr>\n",
              "      <th>4</th>\n",
              "      <td>245133531816851882</td>\n",
              "      <td>M</td>\n",
              "      <td>30</td>\n",
              "      <td>M29-31</td>\n",
              "    </tr>\n",
              "  </tbody>\n",
              "</table>\n",
              "</div>"
            ],
            "text/plain": [
              "                     0  1   2       3\n",
              "0 -8076087639492063270  M  35  M32-38\n",
              "1 -2897161552818060146  M  35  M32-38\n",
              "2 -8260683887967679142  M  35  M32-38\n",
              "3 -4938849341048082022  M  30  M29-31\n",
              "4   245133531816851882  M  30  M29-31"
            ]
          },
          "metadata": {
            "tags": []
          },
          "execution_count": 56
        }
      ]
    },
    {
      "cell_type": "code",
      "metadata": {
        "id": "9bJYXkgxjuwv",
        "colab_type": "code",
        "colab": {}
      },
      "source": [
        ""
      ],
      "execution_count": 0,
      "outputs": []
    }
  ]
}