{
 "cells": [
  {
   "cell_type": "code",
   "execution_count": 1,
   "metadata": {},
   "outputs": [],
   "source": [
    "import pandas as pd\n",
    "import numpy as np\n",
    "import matplotlib.pyplot as plt\n",
    "import seaborn as sns"
   ]
  },
  {
   "cell_type": "code",
   "execution_count": 2,
   "metadata": {},
   "outputs": [
    {
     "name": "stdout",
     "output_type": "stream",
     "text": [
      "Requirement already satisfied: mysql-connector-python in c:\\users\\snehal\\anaconda3\\lib\\site-packages (8.0.19)\n",
      "Requirement already satisfied: dnspython==1.16.0 in c:\\users\\snehal\\anaconda3\\lib\\site-packages (from mysql-connector-python) (1.16.0)\n",
      "Requirement already satisfied: protobuf==3.6.1 in c:\\users\\snehal\\anaconda3\\lib\\site-packages (from mysql-connector-python) (3.6.1)\n",
      "Requirement already satisfied: setuptools in c:\\users\\snehal\\anaconda3\\lib\\site-packages (from protobuf==3.6.1->mysql-connector-python) (41.0.1)\n",
      "Requirement already satisfied: six>=1.9 in c:\\users\\snehal\\anaconda3\\lib\\site-packages (from protobuf==3.6.1->mysql-connector-python) (1.12.0)\n",
      "Note: you may need to restart the kernel to use updated packages.\n"
     ]
    }
   ],
   "source": [
    "pip install mysql-connector-python"
   ]
  },
  {
   "cell_type": "code",
   "execution_count": 5,
   "metadata": {},
   "outputs": [
    {
     "data": {
      "text/html": [
       "<div>\n",
       "<style scoped>\n",
       "    .dataframe tbody tr th:only-of-type {\n",
       "        vertical-align: middle;\n",
       "    }\n",
       "\n",
       "    .dataframe tbody tr th {\n",
       "        vertical-align: top;\n",
       "    }\n",
       "\n",
       "    .dataframe thead th {\n",
       "        text-align: right;\n",
       "    }\n",
       "</style>\n",
       "<table border=\"1\" class=\"dataframe\">\n",
       "  <thead>\n",
       "    <tr style=\"text-align: right;\">\n",
       "      <th></th>\n",
       "      <th>event_id</th>\n",
       "      <th>device_id</th>\n",
       "      <th>timestamp</th>\n",
       "      <th>longitude</th>\n",
       "      <th>latitude</th>\n",
       "      <th>city</th>\n",
       "      <th>state</th>\n",
       "    </tr>\n",
       "  </thead>\n",
       "  <tbody>\n",
       "    <tr>\n",
       "      <th>0</th>\n",
       "      <td>1.0</td>\n",
       "      <td>2.918269e+16</td>\n",
       "      <td>2016-05-01 00:55:25</td>\n",
       "      <td>77.266049</td>\n",
       "      <td>28.68161</td>\n",
       "      <td>Delhi</td>\n",
       "      <td>Delhi</td>\n",
       "    </tr>\n",
       "    <tr>\n",
       "      <th>1</th>\n",
       "      <td>7104.0</td>\n",
       "      <td>2.918269e+16</td>\n",
       "      <td>2016-05-02 09:37:02</td>\n",
       "      <td>77.266049</td>\n",
       "      <td>28.68161</td>\n",
       "      <td>Delhi</td>\n",
       "      <td>Delhi</td>\n",
       "    </tr>\n",
       "    <tr>\n",
       "      <th>2</th>\n",
       "      <td>29661.0</td>\n",
       "      <td>2.918269e+16</td>\n",
       "      <td>2016-05-04 00:56:04</td>\n",
       "      <td>77.266049</td>\n",
       "      <td>28.68161</td>\n",
       "      <td>Delhi</td>\n",
       "      <td>Delhi</td>\n",
       "    </tr>\n",
       "    <tr>\n",
       "      <th>3</th>\n",
       "      <td>33133.0</td>\n",
       "      <td>2.918269e+16</td>\n",
       "      <td>2016-05-06 05:01:15</td>\n",
       "      <td>77.266049</td>\n",
       "      <td>28.68161</td>\n",
       "      <td>Delhi</td>\n",
       "      <td>Delhi</td>\n",
       "    </tr>\n",
       "    <tr>\n",
       "      <th>4</th>\n",
       "      <td>38980.0</td>\n",
       "      <td>2.918269e+16</td>\n",
       "      <td>2016-05-06 09:55:04</td>\n",
       "      <td>77.266049</td>\n",
       "      <td>28.68161</td>\n",
       "      <td>Delhi</td>\n",
       "      <td>Delhi</td>\n",
       "    </tr>\n",
       "  </tbody>\n",
       "</table>\n",
       "</div>"
      ],
      "text/plain": [
       "   event_id     device_id            timestamp  longitude  latitude   city  \\\n",
       "0       1.0  2.918269e+16  2016-05-01 00:55:25  77.266049  28.68161  Delhi   \n",
       "1    7104.0  2.918269e+16  2016-05-02 09:37:02  77.266049  28.68161  Delhi   \n",
       "2   29661.0  2.918269e+16  2016-05-04 00:56:04  77.266049  28.68161  Delhi   \n",
       "3   33133.0  2.918269e+16  2016-05-06 05:01:15  77.266049  28.68161  Delhi   \n",
       "4   38980.0  2.918269e+16  2016-05-06 09:55:04  77.266049  28.68161  Delhi   \n",
       "\n",
       "   state  \n",
       "0  Delhi  \n",
       "1  Delhi  \n",
       "2  Delhi  \n",
       "3  Delhi  \n",
       "4  Delhi  "
      ]
     },
     "execution_count": 5,
     "metadata": {},
     "output_type": "execute_result"
    }
   ],
   "source": [
    "df_events = pd.read_csv('G:\\Project\\Capstone_project-1\\events_data.csv')\n",
    "df_events.head()"
   ]
  },
  {
   "cell_type": "code",
   "execution_count": 6,
   "metadata": {},
   "outputs": [],
   "source": [
    "import mysql.connector\n",
    "\n",
    "cnx = mysql.connector.connect(host='cpanel.insaid.co',user='student', password='student',\n",
    "                              database='Capstone1')\n",
    "cursor = cnx.cursor()\n",
    "cursor.execute(\"SHOW TABLES\")             \n",
    "cnx.close()"
   ]
  },
  {
   "cell_type": "code",
   "execution_count": null,
   "metadata": {},
   "outputs": [],
   "source": []
  }
 ],
 "metadata": {
  "kernelspec": {
   "display_name": "Python 3",
   "language": "python",
   "name": "python3"
  },
  "language_info": {
   "codemirror_mode": {
    "name": "ipython",
    "version": 3
   },
   "file_extension": ".py",
   "mimetype": "text/x-python",
   "name": "python",
   "nbconvert_exporter": "python",
   "pygments_lexer": "ipython3",
   "version": "3.7.3"
  }
 },
 "nbformat": 4,
 "nbformat_minor": 2
}
