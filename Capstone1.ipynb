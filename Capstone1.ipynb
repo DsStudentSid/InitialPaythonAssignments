{
  "nbformat": 4,
  "nbformat_minor": 0,
  "metadata": {
    "kernelspec": {
      "display_name": "Python 3",
      "language": "python",
      "name": "python3"
    },
    "language_info": {
      "codemirror_mode": {
        "name": "ipython",
        "version": 3
      },
      "file_extension": ".py",
      "mimetype": "text/x-python",
      "name": "python",
      "nbconvert_exporter": "python",
      "pygments_lexer": "ipython3",
      "version": "3.7.3"
    },
    "colab": {
      "name": "Capstone1.ipynb",
      "provenance": []
    }
  },
  "cells": [
    {
      "cell_type": "code",
      "metadata": {
        "id": "xwoWJQZxE2LX",
        "colab_type": "code",
        "colab": {}
      },
      "source": [
        "import pandas as pd\n",
        "import numpy as np\n",
        "import matplotlib.pyplot as plt\n",
        "import seaborn as sns"
      ],
      "execution_count": 0,
      "outputs": []
    },
    {
      "cell_type": "code",
      "metadata": {
        "id": "tfG7n2kNE2Le",
        "colab_type": "code",
        "colab": {
          "base_uri": "https://localhost:8080/",
          "height": 104
        },
        "outputId": "cac586cc-4e18-4252-fcdc-ef3abd9da6c8"
      },
      "source": [
        "pip install mysql-connector-python"
      ],
      "execution_count": 39,
      "outputs": [
        {
          "output_type": "stream",
          "text": [
            "Requirement already satisfied: mysql-connector-python in /usr/local/lib/python3.6/dist-packages (8.0.19)\n",
            "Requirement already satisfied: protobuf==3.6.1 in /usr/local/lib/python3.6/dist-packages (from mysql-connector-python) (3.6.1)\n",
            "Requirement already satisfied: dnspython==1.16.0 in /usr/local/lib/python3.6/dist-packages (from mysql-connector-python) (1.16.0)\n",
            "Requirement already satisfied: setuptools in /usr/local/lib/python3.6/dist-packages (from protobuf==3.6.1->mysql-connector-python) (45.1.0)\n",
            "Requirement already satisfied: six>=1.9 in /usr/local/lib/python3.6/dist-packages (from protobuf==3.6.1->mysql-connector-python) (1.12.0)\n"
          ],
          "name": "stdout"
        }
      ]
    },
    {
      "cell_type": "code",
      "metadata": {
        "id": "gfwdhSahE2Li",
        "colab_type": "code",
        "colab": {}
      },
      "source": [
        "#df_events = pd.read_csv('G:\\Project\\Capstone_project-1\\events_data.csv')\n",
        "#df_events.head()"
      ],
      "execution_count": 0,
      "outputs": []
    },
    {
      "cell_type": "code",
      "metadata": {
        "id": "qVFCWk3rE2Ll",
        "colab_type": "code",
        "colab": {
          "base_uri": "https://localhost:8080/",
          "height": 87
        },
        "outputId": "d227e2a0-cfe5-4803-84d2-312b566134f4"
      },
      "source": [
        "import mysql.connector\n",
        "\n",
        "cnx = mysql.connector.connect(host='cpanel.insaid.co',user='student', password='student',\n",
        "                              database='Capstone1')\n",
        "print(cnx)\n",
        "cursor = cnx.cursor()\n",
        "cursor.execute(\"SHOW TABLES\") \n",
        "\n",
        "#tables = cursor.fetchall()\n",
        "for table_names in cursor :\n",
        "    print(table_names) \n"
      ],
      "execution_count": 40,
      "outputs": [
        {
          "output_type": "stream",
          "text": [
            "<mysql.connector.connection_cext.CMySQLConnection object at 0x7f0702bf6c88>\n",
            "('events_data',)\n",
            "('gender_age_train',)\n",
            "('phone_brand_device_model',)\n"
          ],
          "name": "stdout"
        }
      ]
    },
    {
      "cell_type": "code",
      "metadata": {
        "id": "EZGAQFj5E2Lo",
        "colab_type": "code",
        "colab": {
          "base_uri": "https://localhost:8080/",
          "height": 35
        },
        "outputId": "4d49d2c9-0170-4e18-e998-4b8cfb59fca0"
      },
      "source": [
        "cursor.execute(\"SELECT count(*) FROM gender_age_train\")\n",
        "#cursor.fetchall()\n",
        "for x in cursor:\n",
        "  print(x)\n",
        "#row_count = cursor.rowcount\n",
        "#print(\"%d\"%cursor.rowcount)\n",
        "#cnx.close()"
      ],
      "execution_count": 41,
      "outputs": [
        {
          "output_type": "stream",
          "text": [
            "(74645,)\n"
          ],
          "name": "stdout"
        }
      ]
    },
    {
      "cell_type": "code",
      "metadata": {
        "id": "9bJYXkgxjuwv",
        "colab_type": "code",
        "colab": {}
      },
      "source": [
        ""
      ],
      "execution_count": 0,
      "outputs": []
    }
  ]
}