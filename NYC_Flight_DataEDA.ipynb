{
  "nbformat": 4,
  "nbformat_minor": 0,
  "metadata": {
    "kernelspec": {
      "display_name": "Python 3",
      "language": "python",
      "name": "python3"
    },
    "language_info": {
      "codemirror_mode": {
        "name": "ipython",
        "version": 3
      },
      "file_extension": ".py",
      "mimetype": "text/x-python",
      "name": "python",
      "nbconvert_exporter": "python",
      "pygments_lexer": "ipython3",
      "version": "3.7.3"
    },
    "colab": {
      "name": "NYC-Flight-DataEDA.ipynb",
      "provenance": [],
      "collapsed_sections": [],
      "include_colab_link": true
    }
  },
  "cells": [
    {
      "cell_type": "markdown",
      "metadata": {
        "id": "view-in-github",
        "colab_type": "text"
      },
      "source": [
        "<a href=\"https://colab.research.google.com/github/DsStudentSid/InitialPaythonAssignments/blob/master/NYC_Flight_DataEDA.ipynb\" target=\"_parent\"><img src=\"https://colab.research.google.com/assets/colab-badge.svg\" alt=\"Open In Colab\"/></a>"
      ]
    },
    {
      "cell_type": "code",
      "metadata": {
        "id": "yvS6p21f9iHL",
        "colab_type": "code",
        "colab": {},
        "outputId": "a4bbd177-a237-411a-b85c-ab81d44a524b"
      },
      "source": [
        "# This is first project is done by Siddharth Desshpande(deshpandesiddha@yahoo.com) - Term1&2 EDA assignment in Python using concepts of Numpy, Pandas etc\n",
        "# This project reads CSV data file for flights arrival and departure across different airport in NYC\n",
        "\n",
        "# Problem Statement\n",
        "# By Analysing Arrival and Departure time, can Airlines take actions to reduce/increase fleets \n",
        "# or decide if few flights can be flown from other nearby airports?\n",
        "\n",
        "\n",
        "#Section 1: Import of all required Libraries, setup for specific need\n",
        "\n",
        "import numpy as np\n",
        "\n",
        "import pandas as pd\n",
        "pd.set_option('mode.chained_assignment', None)      # To suppress pandas warnings.\n",
        "pd.set_option('display.max_colwidth', -1)           # To display all the data in each column\n",
        "pd.options.display.max_columns = 50                 # To display every column of the dataset in head()\n",
        "\n",
        "import warnings\n",
        "warnings.filterwarnings('ignore')                   # To suppress all the warnings in the notebook.\n",
        "\n",
        "import matplotlib.pyplot as nyc_plt\n",
        "%matplotlib inline\n",
        "\n",
        "import seaborn as sns\n",
        "sns.set(style='whitegrid', font_scale=1.3, color_codes=True)      # To apply seaborn styles to the plots.\n",
        "\n",
        "# Install chart_studio, please use this command. \n",
        "!pip install chart-studio\n",
        "\n",
        "# Install and update plotly using this command to the latest version (higher than version 4.0.0)\n",
        "!pip install plotly --upgrade\n",
        "\n",
        "# Making plotly specific imports\n",
        "# These imports are necessary to use plotly offline without signing in to their website.\n",
        "from plotly.offline import init_notebook_mode, iplot\n",
        "import plotly.graph_objs as go\n",
        "import chart_studio.plotly as py\n",
        "from plotly import tools\n",
        "init_notebook_mode(connected=True)\n",
        "\n",
        "#Section 2: load input data set whcih is CSV data file (flight departure and arrival timings)\n",
        "df_flighttime = pd.read_csv(r'C:\\Siddharth\\Personal\\IT-Banking\\MaziMahiti\\INSAID\\Project1\\NYC_Flight_Data.csv')\n",
        "df_flighttime.head()"
      ],
      "execution_count": 0,
      "outputs": [
        {
          "output_type": "stream",
          "text": [
            "Requirement already satisfied: chart-studio in c:\\siddharth\\personal\\it-banking\\mazimahiti\\insaid\\anaconda\\lib\\site-packages (1.0.0)\n",
            "Requirement already satisfied: six in c:\\siddharth\\personal\\it-banking\\mazimahiti\\insaid\\anaconda\\lib\\site-packages (from chart-studio) (1.12.0)\n",
            "Requirement already satisfied: retrying>=1.3.3 in c:\\siddharth\\personal\\it-banking\\mazimahiti\\insaid\\anaconda\\lib\\site-packages (from chart-studio) (1.3.3)\n",
            "Requirement already satisfied: requests in c:\\siddharth\\personal\\it-banking\\mazimahiti\\insaid\\anaconda\\lib\\site-packages (from chart-studio) (2.22.0)\n",
            "Requirement already satisfied: plotly in c:\\siddharth\\personal\\it-banking\\mazimahiti\\insaid\\anaconda\\lib\\site-packages (from chart-studio) (4.4.1)\n",
            "Requirement already satisfied: urllib3!=1.25.0,!=1.25.1,<1.26,>=1.21.1 in c:\\siddharth\\personal\\it-banking\\mazimahiti\\insaid\\anaconda\\lib\\site-packages (from requests->chart-studio) (1.24.2)\n",
            "Requirement already satisfied: certifi>=2017.4.17 in c:\\siddharth\\personal\\it-banking\\mazimahiti\\insaid\\anaconda\\lib\\site-packages (from requests->chart-studio) (2019.6.16)\n",
            "Requirement already satisfied: idna<2.9,>=2.5 in c:\\siddharth\\personal\\it-banking\\mazimahiti\\insaid\\anaconda\\lib\\site-packages (from requests->chart-studio) (2.8)\n",
            "Requirement already satisfied: chardet<3.1.0,>=3.0.2 in c:\\siddharth\\personal\\it-banking\\mazimahiti\\insaid\\anaconda\\lib\\site-packages (from requests->chart-studio) (3.0.4)\n",
            "Requirement already up-to-date: plotly in c:\\siddharth\\personal\\it-banking\\mazimahiti\\insaid\\anaconda\\lib\\site-packages (4.4.1)\n",
            "Requirement already satisfied, skipping upgrade: retrying>=1.3.3 in c:\\siddharth\\personal\\it-banking\\mazimahiti\\insaid\\anaconda\\lib\\site-packages (from plotly) (1.3.3)\n",
            "Requirement already satisfied, skipping upgrade: six in c:\\siddharth\\personal\\it-banking\\mazimahiti\\insaid\\anaconda\\lib\\site-packages (from plotly) (1.12.0)\n"
          ],
          "name": "stdout"
        },
        {
          "output_type": "display_data",
          "data": {
            "text/html": [
              "        <script type=\"text/javascript\">\n",
              "        window.PlotlyConfig = {MathJaxConfig: 'local'};\n",
              "        if (window.MathJax) {MathJax.Hub.Config({SVG: {font: \"STIX-Web\"}});}\n",
              "        if (typeof require !== 'undefined') {\n",
              "        require.undef(\"plotly\");\n",
              "        requirejs.config({\n",
              "            paths: {\n",
              "                'plotly': ['https://cdn.plot.ly/plotly-latest.min']\n",
              "            }\n",
              "        });\n",
              "        require(['plotly'], function(Plotly) {\n",
              "            window._Plotly = Plotly;\n",
              "        });\n",
              "        }\n",
              "        </script>\n",
              "        "
            ]
          },
          "metadata": {
            "tags": []
          }
        },
        {
          "output_type": "execute_result",
          "data": {
            "text/html": [
              "<div>\n",
              "<style scoped>\n",
              "    .dataframe tbody tr th:only-of-type {\n",
              "        vertical-align: middle;\n",
              "    }\n",
              "\n",
              "    .dataframe tbody tr th {\n",
              "        vertical-align: top;\n",
              "    }\n",
              "\n",
              "    .dataframe thead th {\n",
              "        text-align: right;\n",
              "    }\n",
              "</style>\n",
              "<table border=\"1\" class=\"dataframe\">\n",
              "  <thead>\n",
              "    <tr style=\"text-align: right;\">\n",
              "      <th></th>\n",
              "      <th>year</th>\n",
              "      <th>month</th>\n",
              "      <th>day</th>\n",
              "      <th>dep_time</th>\n",
              "      <th>sched_dep_time</th>\n",
              "      <th>dep_delay</th>\n",
              "      <th>arr_time</th>\n",
              "      <th>sched_arr_time</th>\n",
              "      <th>arr_delay</th>\n",
              "      <th>carrier</th>\n",
              "      <th>flight</th>\n",
              "      <th>tailnum</th>\n",
              "      <th>origin</th>\n",
              "      <th>dest</th>\n",
              "      <th>air_time</th>\n",
              "      <th>distance</th>\n",
              "      <th>hour</th>\n",
              "      <th>minute</th>\n",
              "      <th>time_hour</th>\n",
              "    </tr>\n",
              "  </thead>\n",
              "  <tbody>\n",
              "    <tr>\n",
              "      <th>0</th>\n",
              "      <td>2013</td>\n",
              "      <td>1</td>\n",
              "      <td>1</td>\n",
              "      <td>517.0</td>\n",
              "      <td>515</td>\n",
              "      <td>2.0</td>\n",
              "      <td>830.0</td>\n",
              "      <td>819</td>\n",
              "      <td>11.0</td>\n",
              "      <td>UA</td>\n",
              "      <td>1545</td>\n",
              "      <td>N14228</td>\n",
              "      <td>EWR</td>\n",
              "      <td>IAH</td>\n",
              "      <td>227.0</td>\n",
              "      <td>1400</td>\n",
              "      <td>5</td>\n",
              "      <td>15</td>\n",
              "      <td>1/1/2013 5:00</td>\n",
              "    </tr>\n",
              "    <tr>\n",
              "      <th>1</th>\n",
              "      <td>2013</td>\n",
              "      <td>1</td>\n",
              "      <td>1</td>\n",
              "      <td>533.0</td>\n",
              "      <td>529</td>\n",
              "      <td>4.0</td>\n",
              "      <td>850.0</td>\n",
              "      <td>830</td>\n",
              "      <td>20.0</td>\n",
              "      <td>UA</td>\n",
              "      <td>1714</td>\n",
              "      <td>N24211</td>\n",
              "      <td>LGA</td>\n",
              "      <td>IAH</td>\n",
              "      <td>227.0</td>\n",
              "      <td>1416</td>\n",
              "      <td>5</td>\n",
              "      <td>29</td>\n",
              "      <td>1/1/2013 5:00</td>\n",
              "    </tr>\n",
              "    <tr>\n",
              "      <th>2</th>\n",
              "      <td>2013</td>\n",
              "      <td>1</td>\n",
              "      <td>1</td>\n",
              "      <td>542.0</td>\n",
              "      <td>540</td>\n",
              "      <td>2.0</td>\n",
              "      <td>923.0</td>\n",
              "      <td>850</td>\n",
              "      <td>33.0</td>\n",
              "      <td>AA</td>\n",
              "      <td>1141</td>\n",
              "      <td>N619AA</td>\n",
              "      <td>JFK</td>\n",
              "      <td>MIA</td>\n",
              "      <td>160.0</td>\n",
              "      <td>1089</td>\n",
              "      <td>5</td>\n",
              "      <td>40</td>\n",
              "      <td>1/1/2013 5:00</td>\n",
              "    </tr>\n",
              "    <tr>\n",
              "      <th>3</th>\n",
              "      <td>2013</td>\n",
              "      <td>1</td>\n",
              "      <td>1</td>\n",
              "      <td>544.0</td>\n",
              "      <td>545</td>\n",
              "      <td>-1.0</td>\n",
              "      <td>1004.0</td>\n",
              "      <td>1022</td>\n",
              "      <td>-18.0</td>\n",
              "      <td>B6</td>\n",
              "      <td>725</td>\n",
              "      <td>N804JB</td>\n",
              "      <td>JFK</td>\n",
              "      <td>BQN</td>\n",
              "      <td>183.0</td>\n",
              "      <td>1576</td>\n",
              "      <td>5</td>\n",
              "      <td>45</td>\n",
              "      <td>1/1/2013 5:00</td>\n",
              "    </tr>\n",
              "    <tr>\n",
              "      <th>4</th>\n",
              "      <td>2013</td>\n",
              "      <td>1</td>\n",
              "      <td>1</td>\n",
              "      <td>554.0</td>\n",
              "      <td>600</td>\n",
              "      <td>-6.0</td>\n",
              "      <td>812.0</td>\n",
              "      <td>837</td>\n",
              "      <td>-25.0</td>\n",
              "      <td>DL</td>\n",
              "      <td>461</td>\n",
              "      <td>N668DN</td>\n",
              "      <td>LGA</td>\n",
              "      <td>ATL</td>\n",
              "      <td>116.0</td>\n",
              "      <td>762</td>\n",
              "      <td>6</td>\n",
              "      <td>0</td>\n",
              "      <td>1/1/2013 6:00</td>\n",
              "    </tr>\n",
              "  </tbody>\n",
              "</table>\n",
              "</div>"
            ],
            "text/plain": [
              "   year  month  day  dep_time  sched_dep_time  dep_delay  arr_time  \\\n",
              "0  2013  1      1    517.0     515             2.0        830.0      \n",
              "1  2013  1      1    533.0     529             4.0        850.0      \n",
              "2  2013  1      1    542.0     540             2.0        923.0      \n",
              "3  2013  1      1    544.0     545            -1.0        1004.0     \n",
              "4  2013  1      1    554.0     600            -6.0        812.0      \n",
              "\n",
              "   sched_arr_time  arr_delay carrier  flight tailnum origin dest  air_time  \\\n",
              "0  819             11.0       UA      1545    N14228  EWR    IAH  227.0      \n",
              "1  830             20.0       UA      1714    N24211  LGA    IAH  227.0      \n",
              "2  850             33.0       AA      1141    N619AA  JFK    MIA  160.0      \n",
              "3  1022           -18.0       B6      725     N804JB  JFK    BQN  183.0      \n",
              "4  837            -25.0       DL      461     N668DN  LGA    ATL  116.0      \n",
              "\n",
              "   distance  hour  minute      time_hour  \n",
              "0  1400      5     15      1/1/2013 5:00  \n",
              "1  1416      5     29      1/1/2013 5:00  \n",
              "2  1089      5     40      1/1/2013 5:00  \n",
              "3  1576      5     45      1/1/2013 5:00  \n",
              "4  762       6     0       1/1/2013 6:00  "
            ]
          },
          "metadata": {
            "tags": []
          },
          "execution_count": 1
        }
      ]
    },
    {
      "cell_type": "code",
      "metadata": {
        "id": "2BZoTUaF9iHS",
        "colab_type": "code",
        "colab": {},
        "outputId": "53b8b712-08c2-4e31-b929-7b0d43a106f6"
      },
      "source": [
        "# Description of Dataset\n",
        "# This dataset provide 2013 year inboud and oubound timings for different flight carriers departing from 3 airports in NYC-USA\n",
        "# Data also provides information about delay in departing and arriving timings of flights.\n",
        "\n",
        "df_flighttime.info()"
      ],
      "execution_count": 0,
      "outputs": [
        {
          "output_type": "stream",
          "text": [
            "<class 'pandas.core.frame.DataFrame'>\n",
            "RangeIndex: 336776 entries, 0 to 336775\n",
            "Data columns (total 19 columns):\n",
            "year              336776 non-null int64\n",
            "month             336776 non-null int64\n",
            "day               336776 non-null int64\n",
            "dep_time          328521 non-null float64\n",
            "sched_dep_time    336776 non-null int64\n",
            "dep_delay         328521 non-null float64\n",
            "arr_time          328063 non-null float64\n",
            "sched_arr_time    336776 non-null int64\n",
            "arr_delay         327346 non-null float64\n",
            "carrier           336776 non-null object\n",
            "flight            336776 non-null int64\n",
            "tailnum           334264 non-null object\n",
            "origin            336776 non-null object\n",
            "dest              336776 non-null object\n",
            "air_time          327346 non-null float64\n",
            "distance          336776 non-null int64\n",
            "hour              336776 non-null int64\n",
            "minute            336776 non-null int64\n",
            "time_hour         336776 non-null object\n",
            "dtypes: float64(5), int64(9), object(5)\n",
            "memory usage: 48.8+ MB\n"
          ],
          "name": "stdout"
        }
      ]
    },
    {
      "cell_type": "code",
      "metadata": {
        "id": "RWFKoQ1_9iHU",
        "colab_type": "code",
        "colab": {}
      },
      "source": [
        "#info function gives us the following insights into the df_menu dataframe:\n",
        "\n",
        "#There are a total of 336776 samples (rows) and 19 columns in the dataframe.\n",
        "#There are 14 columns with a numeric datatype and 5 columns with an object datatype.\n",
        "#There are 6 columns with missing values in the data.\n"
      ],
      "execution_count": 0,
      "outputs": []
    },
    {
      "cell_type": "code",
      "metadata": {
        "id": "wYZqKMLF9iHX",
        "colab_type": "code",
        "colab": {},
        "outputId": "9210092a-90b4-4104-dc18-5854dcc2c8c9"
      },
      "source": [
        "df_flighttime.describe()"
      ],
      "execution_count": 0,
      "outputs": [
        {
          "output_type": "execute_result",
          "data": {
            "text/html": [
              "<div>\n",
              "<style scoped>\n",
              "    .dataframe tbody tr th:only-of-type {\n",
              "        vertical-align: middle;\n",
              "    }\n",
              "\n",
              "    .dataframe tbody tr th {\n",
              "        vertical-align: top;\n",
              "    }\n",
              "\n",
              "    .dataframe thead th {\n",
              "        text-align: right;\n",
              "    }\n",
              "</style>\n",
              "<table border=\"1\" class=\"dataframe\">\n",
              "  <thead>\n",
              "    <tr style=\"text-align: right;\">\n",
              "      <th></th>\n",
              "      <th>year</th>\n",
              "      <th>month</th>\n",
              "      <th>day</th>\n",
              "      <th>dep_time</th>\n",
              "      <th>sched_dep_time</th>\n",
              "      <th>dep_delay</th>\n",
              "      <th>arr_time</th>\n",
              "      <th>sched_arr_time</th>\n",
              "      <th>arr_delay</th>\n",
              "      <th>flight</th>\n",
              "      <th>air_time</th>\n",
              "      <th>distance</th>\n",
              "      <th>hour</th>\n",
              "      <th>minute</th>\n",
              "    </tr>\n",
              "  </thead>\n",
              "  <tbody>\n",
              "    <tr>\n",
              "      <th>count</th>\n",
              "      <td>336776.0</td>\n",
              "      <td>336776.000000</td>\n",
              "      <td>336776.000000</td>\n",
              "      <td>328521.000000</td>\n",
              "      <td>336776.000000</td>\n",
              "      <td>328521.000000</td>\n",
              "      <td>328063.000000</td>\n",
              "      <td>336776.000000</td>\n",
              "      <td>327346.000000</td>\n",
              "      <td>336776.000000</td>\n",
              "      <td>327346.000000</td>\n",
              "      <td>336776.000000</td>\n",
              "      <td>336776.000000</td>\n",
              "      <td>336776.000000</td>\n",
              "    </tr>\n",
              "    <tr>\n",
              "      <th>mean</th>\n",
              "      <td>2013.0</td>\n",
              "      <td>6.548510</td>\n",
              "      <td>15.710787</td>\n",
              "      <td>1349.109947</td>\n",
              "      <td>1344.254840</td>\n",
              "      <td>12.639070</td>\n",
              "      <td>1502.054999</td>\n",
              "      <td>1536.380220</td>\n",
              "      <td>6.895377</td>\n",
              "      <td>1971.923620</td>\n",
              "      <td>150.686460</td>\n",
              "      <td>1039.912604</td>\n",
              "      <td>13.180247</td>\n",
              "      <td>26.230100</td>\n",
              "    </tr>\n",
              "    <tr>\n",
              "      <th>std</th>\n",
              "      <td>0.0</td>\n",
              "      <td>3.414457</td>\n",
              "      <td>8.768607</td>\n",
              "      <td>488.281791</td>\n",
              "      <td>467.335756</td>\n",
              "      <td>40.210061</td>\n",
              "      <td>533.264132</td>\n",
              "      <td>497.457142</td>\n",
              "      <td>44.633292</td>\n",
              "      <td>1632.471938</td>\n",
              "      <td>93.688305</td>\n",
              "      <td>733.233033</td>\n",
              "      <td>4.661316</td>\n",
              "      <td>19.300846</td>\n",
              "    </tr>\n",
              "    <tr>\n",
              "      <th>min</th>\n",
              "      <td>2013.0</td>\n",
              "      <td>1.000000</td>\n",
              "      <td>1.000000</td>\n",
              "      <td>1.000000</td>\n",
              "      <td>106.000000</td>\n",
              "      <td>-43.000000</td>\n",
              "      <td>1.000000</td>\n",
              "      <td>1.000000</td>\n",
              "      <td>-86.000000</td>\n",
              "      <td>1.000000</td>\n",
              "      <td>20.000000</td>\n",
              "      <td>17.000000</td>\n",
              "      <td>1.000000</td>\n",
              "      <td>0.000000</td>\n",
              "    </tr>\n",
              "    <tr>\n",
              "      <th>25%</th>\n",
              "      <td>2013.0</td>\n",
              "      <td>4.000000</td>\n",
              "      <td>8.000000</td>\n",
              "      <td>907.000000</td>\n",
              "      <td>906.000000</td>\n",
              "      <td>-5.000000</td>\n",
              "      <td>1104.000000</td>\n",
              "      <td>1124.000000</td>\n",
              "      <td>-17.000000</td>\n",
              "      <td>553.000000</td>\n",
              "      <td>82.000000</td>\n",
              "      <td>502.000000</td>\n",
              "      <td>9.000000</td>\n",
              "      <td>8.000000</td>\n",
              "    </tr>\n",
              "    <tr>\n",
              "      <th>50%</th>\n",
              "      <td>2013.0</td>\n",
              "      <td>7.000000</td>\n",
              "      <td>16.000000</td>\n",
              "      <td>1401.000000</td>\n",
              "      <td>1359.000000</td>\n",
              "      <td>-2.000000</td>\n",
              "      <td>1535.000000</td>\n",
              "      <td>1556.000000</td>\n",
              "      <td>-5.000000</td>\n",
              "      <td>1496.000000</td>\n",
              "      <td>129.000000</td>\n",
              "      <td>872.000000</td>\n",
              "      <td>13.000000</td>\n",
              "      <td>29.000000</td>\n",
              "    </tr>\n",
              "    <tr>\n",
              "      <th>75%</th>\n",
              "      <td>2013.0</td>\n",
              "      <td>10.000000</td>\n",
              "      <td>23.000000</td>\n",
              "      <td>1744.000000</td>\n",
              "      <td>1729.000000</td>\n",
              "      <td>11.000000</td>\n",
              "      <td>1940.000000</td>\n",
              "      <td>1945.000000</td>\n",
              "      <td>14.000000</td>\n",
              "      <td>3465.000000</td>\n",
              "      <td>192.000000</td>\n",
              "      <td>1389.000000</td>\n",
              "      <td>17.000000</td>\n",
              "      <td>44.000000</td>\n",
              "    </tr>\n",
              "    <tr>\n",
              "      <th>max</th>\n",
              "      <td>2013.0</td>\n",
              "      <td>12.000000</td>\n",
              "      <td>31.000000</td>\n",
              "      <td>2400.000000</td>\n",
              "      <td>2359.000000</td>\n",
              "      <td>1301.000000</td>\n",
              "      <td>2400.000000</td>\n",
              "      <td>2359.000000</td>\n",
              "      <td>1272.000000</td>\n",
              "      <td>8500.000000</td>\n",
              "      <td>695.000000</td>\n",
              "      <td>4983.000000</td>\n",
              "      <td>23.000000</td>\n",
              "      <td>59.000000</td>\n",
              "    </tr>\n",
              "  </tbody>\n",
              "</table>\n",
              "</div>"
            ],
            "text/plain": [
              "           year          month            day       dep_time  sched_dep_time  \\\n",
              "count  336776.0  336776.000000  336776.000000  328521.000000  336776.000000    \n",
              "mean   2013.0    6.548510       15.710787      1349.109947    1344.254840      \n",
              "std    0.0       3.414457       8.768607       488.281791     467.335756       \n",
              "min    2013.0    1.000000       1.000000       1.000000       106.000000       \n",
              "25%    2013.0    4.000000       8.000000       907.000000     906.000000       \n",
              "50%    2013.0    7.000000       16.000000      1401.000000    1359.000000      \n",
              "75%    2013.0    10.000000      23.000000      1744.000000    1729.000000      \n",
              "max    2013.0    12.000000      31.000000      2400.000000    2359.000000      \n",
              "\n",
              "           dep_delay       arr_time  sched_arr_time      arr_delay  \\\n",
              "count  328521.000000  328063.000000  336776.000000   327346.000000   \n",
              "mean   12.639070      1502.054999    1536.380220     6.895377        \n",
              "std    40.210061      533.264132     497.457142      44.633292       \n",
              "min   -43.000000      1.000000       1.000000       -86.000000       \n",
              "25%   -5.000000       1104.000000    1124.000000    -17.000000       \n",
              "50%   -2.000000       1535.000000    1556.000000    -5.000000        \n",
              "75%    11.000000      1940.000000    1945.000000     14.000000       \n",
              "max    1301.000000    2400.000000    2359.000000     1272.000000     \n",
              "\n",
              "              flight       air_time       distance           hour  \\\n",
              "count  336776.000000  327346.000000  336776.000000  336776.000000   \n",
              "mean   1971.923620    150.686460     1039.912604    13.180247       \n",
              "std    1632.471938    93.688305      733.233033     4.661316        \n",
              "min    1.000000       20.000000      17.000000      1.000000        \n",
              "25%    553.000000     82.000000      502.000000     9.000000        \n",
              "50%    1496.000000    129.000000     872.000000     13.000000       \n",
              "75%    3465.000000    192.000000     1389.000000    17.000000       \n",
              "max    8500.000000    695.000000     4983.000000    23.000000       \n",
              "\n",
              "              minute  \n",
              "count  336776.000000  \n",
              "mean   26.230100      \n",
              "std    19.300846      \n",
              "min    0.000000       \n",
              "25%    8.000000       \n",
              "50%    29.000000      \n",
              "75%    44.000000      \n",
              "max    59.000000      "
            ]
          },
          "metadata": {
            "tags": []
          },
          "execution_count": 3
        }
      ]
    },
    {
      "cell_type": "code",
      "metadata": {
        "id": "yZAXfTi09iHZ",
        "colab_type": "code",
        "colab": {}
      },
      "source": [
        "#describe function gives us the following insights into the data:\n",
        "\n",
        "#Sched_dept_time column is having an almost normal distribution because the mean of sched_dept_time (1344.254840)\n",
        "#value is close to the median of sched_dep_time(1359.00)value.\n",
        "#Sched_arr_time column is having an almost normal distribution because the mean of sched_arr_time(1536.380220) \n",
        "#value is close to the median of sched_arr_time(1556.00) value.\n",
        "\n",
        "#The distribution of dep_delay is positive (right) skewed because the mean of dep_delay (12.639070) \n",
        "#lies to the right of the median(50%) value (11.00), on a distribution plot. \n",
        "#The distribution of arr_delay is positive (right) skewed because the mean of arr_delay (6.895377) \n",
        "#lies to the right of the median(50%) value (-5.00), on a distribution plot. \n",
        "\n",
        "#The max value of dep_delay (1301.000) is an outlier because it lie far away from the mean value(12.639070).\n",
        "#The max value of arr_delay (1272.000) is an outlier because it lie far away from the mean value(6.895377).\n",
        "#Similarly comparing the 75% and max values of the other columns we can see that there are outliers present in some other columns.\n"
      ],
      "execution_count": 0,
      "outputs": []
    },
    {
      "cell_type": "code",
      "metadata": {
        "id": "ED5GgEpe9iHa",
        "colab_type": "code",
        "colab": {},
        "outputId": "bb6744f9-19d7-4fed-ebb3-99a810da0301"
      },
      "source": [
        "# To install pandas profiling please run this command.\n",
        "\n",
        "!pip install pandas-profiling --upgrade"
      ],
      "execution_count": 0,
      "outputs": [
        {
          "output_type": "stream",
          "text": [
            "Requirement already up-to-date: pandas-profiling in c:\\siddharth\\personal\\it-banking\\mazimahiti\\insaid\\anaconda\\lib\\site-packages (2.3.0)\n",
            "Requirement already satisfied, skipping upgrade: missingno>=0.4.2 in c:\\siddharth\\personal\\it-banking\\mazimahiti\\insaid\\anaconda\\lib\\site-packages (from pandas-profiling) (0.4.2)\n",
            "Requirement already satisfied, skipping upgrade: matplotlib>=1.4 in c:\\siddharth\\personal\\it-banking\\mazimahiti\\insaid\\anaconda\\lib\\site-packages (from pandas-profiling) (3.1.0)\n",
            "Requirement already satisfied, skipping upgrade: phik>=0.9.8 in c:\\siddharth\\personal\\it-banking\\mazimahiti\\insaid\\anaconda\\lib\\site-packages (from pandas-profiling) (0.9.8)\n",
            "Requirement already satisfied, skipping upgrade: htmlmin>=0.1.12 in c:\\siddharth\\personal\\it-banking\\mazimahiti\\insaid\\anaconda\\lib\\site-packages (from pandas-profiling) (0.1.12)\n",
            "Requirement already satisfied, skipping upgrade: astropy in c:\\siddharth\\personal\\it-banking\\mazimahiti\\insaid\\anaconda\\lib\\site-packages (from pandas-profiling) (3.2.1)\n",
            "Requirement already satisfied, skipping upgrade: pandas>=0.19 in c:\\siddharth\\personal\\it-banking\\mazimahiti\\insaid\\anaconda\\lib\\site-packages (from pandas-profiling) (0.24.2)\n",
            "Requirement already satisfied, skipping upgrade: confuse>=1.0.0 in c:\\siddharth\\personal\\it-banking\\mazimahiti\\insaid\\anaconda\\lib\\site-packages (from pandas-profiling) (1.0.0)\n",
            "Requirement already satisfied, skipping upgrade: jinja2>=2.8 in c:\\siddharth\\personal\\it-banking\\mazimahiti\\insaid\\anaconda\\lib\\site-packages (from pandas-profiling) (2.10.1)\n",
            "Requirement already satisfied, skipping upgrade: seaborn in c:\\siddharth\\personal\\it-banking\\mazimahiti\\insaid\\anaconda\\lib\\site-packages (from missingno>=0.4.2->pandas-profiling) (0.9.0)\n",
            "Requirement already satisfied, skipping upgrade: scipy in c:\\siddharth\\personal\\it-banking\\mazimahiti\\insaid\\anaconda\\lib\\site-packages (from missingno>=0.4.2->pandas-profiling) (1.2.1)\n",
            "Requirement already satisfied, skipping upgrade: numpy in c:\\siddharth\\personal\\it-banking\\mazimahiti\\insaid\\anaconda\\lib\\site-packages (from missingno>=0.4.2->pandas-profiling) (1.16.4)\n",
            "Requirement already satisfied, skipping upgrade: cycler>=0.10 in c:\\siddharth\\personal\\it-banking\\mazimahiti\\insaid\\anaconda\\lib\\site-packages (from matplotlib>=1.4->pandas-profiling) (0.10.0)\n",
            "Requirement already satisfied, skipping upgrade: kiwisolver>=1.0.1 in c:\\siddharth\\personal\\it-banking\\mazimahiti\\insaid\\anaconda\\lib\\site-packages (from matplotlib>=1.4->pandas-profiling) (1.1.0)\n",
            "Requirement already satisfied, skipping upgrade: pyparsing!=2.0.4,!=2.1.2,!=2.1.6,>=2.0.1 in c:\\siddharth\\personal\\it-banking\\mazimahiti\\insaid\\anaconda\\lib\\site-packages (from matplotlib>=1.4->pandas-profiling) (2.4.0)\n",
            "Requirement already satisfied, skipping upgrade: python-dateutil>=2.1 in c:\\siddharth\\personal\\it-banking\\mazimahiti\\insaid\\anaconda\\lib\\site-packages (from matplotlib>=1.4->pandas-profiling) (2.8.0)\n",
            "Requirement already satisfied, skipping upgrade: nbconvert>=5.3.1 in c:\\siddharth\\personal\\it-banking\\mazimahiti\\insaid\\anaconda\\lib\\site-packages (from phik>=0.9.8->pandas-profiling) (5.5.0)\n",
            "Requirement already satisfied, skipping upgrade: jupyter-client>=5.2.3 in c:\\siddharth\\personal\\it-banking\\mazimahiti\\insaid\\anaconda\\lib\\site-packages (from phik>=0.9.8->pandas-profiling) (5.3.1)\n",
            "Requirement already satisfied, skipping upgrade: pytest>=4.0.2 in c:\\siddharth\\personal\\it-banking\\mazimahiti\\insaid\\anaconda\\lib\\site-packages (from phik>=0.9.8->pandas-profiling) (5.0.1)\n",
            "Requirement already satisfied, skipping upgrade: numba>=0.38.1 in c:\\siddharth\\personal\\it-banking\\mazimahiti\\insaid\\anaconda\\lib\\site-packages (from phik>=0.9.8->pandas-profiling) (0.44.1)\n",
            "Requirement already satisfied, skipping upgrade: pytest-pylint>=0.13.0 in c:\\siddharth\\personal\\it-banking\\mazimahiti\\insaid\\anaconda\\lib\\site-packages (from phik>=0.9.8->pandas-profiling) (0.14.1)\n",
            "Requirement already satisfied, skipping upgrade: pytz>=2011k in c:\\siddharth\\personal\\it-banking\\mazimahiti\\insaid\\anaconda\\lib\\site-packages (from pandas>=0.19->pandas-profiling) (2019.1)\n",
            "Requirement already satisfied, skipping upgrade: pyyaml in c:\\siddharth\\personal\\it-banking\\mazimahiti\\insaid\\anaconda\\lib\\site-packages (from confuse>=1.0.0->pandas-profiling) (5.1.1)\n",
            "Requirement already satisfied, skipping upgrade: MarkupSafe>=0.23 in c:\\siddharth\\personal\\it-banking\\mazimahiti\\insaid\\anaconda\\lib\\site-packages (from jinja2>=2.8->pandas-profiling) (1.1.1)\n",
            "Requirement already satisfied, skipping upgrade: six in c:\\siddharth\\personal\\it-banking\\mazimahiti\\insaid\\anaconda\\lib\\site-packages (from cycler>=0.10->matplotlib>=1.4->pandas-profiling) (1.12.0)\n",
            "Requirement already satisfied, skipping upgrade: setuptools in c:\\siddharth\\personal\\it-banking\\mazimahiti\\insaid\\anaconda\\lib\\site-packages (from kiwisolver>=1.0.1->matplotlib>=1.4->pandas-profiling) (41.0.1)\n",
            "Requirement already satisfied, skipping upgrade: entrypoints>=0.2.2 in c:\\siddharth\\personal\\it-banking\\mazimahiti\\insaid\\anaconda\\lib\\site-packages (from nbconvert>=5.3.1->phik>=0.9.8->pandas-profiling) (0.3)\n",
            "Requirement already satisfied, skipping upgrade: nbformat>=4.4 in c:\\siddharth\\personal\\it-banking\\mazimahiti\\insaid\\anaconda\\lib\\site-packages (from nbconvert>=5.3.1->phik>=0.9.8->pandas-profiling) (4.4.0)\n",
            "Requirement already satisfied, skipping upgrade: defusedxml in c:\\siddharth\\personal\\it-banking\\mazimahiti\\insaid\\anaconda\\lib\\site-packages (from nbconvert>=5.3.1->phik>=0.9.8->pandas-profiling) (0.6.0)\n",
            "Requirement already satisfied, skipping upgrade: mistune>=0.8.1 in c:\\siddharth\\personal\\it-banking\\mazimahiti\\insaid\\anaconda\\lib\\site-packages (from nbconvert>=5.3.1->phik>=0.9.8->pandas-profiling) (0.8.4)\n",
            "Requirement already satisfied, skipping upgrade: jupyter-core in c:\\siddharth\\personal\\it-banking\\mazimahiti\\insaid\\anaconda\\lib\\site-packages (from nbconvert>=5.3.1->phik>=0.9.8->pandas-profiling) (4.5.0)\n",
            "Requirement already satisfied, skipping upgrade: bleach in c:\\siddharth\\personal\\it-banking\\mazimahiti\\insaid\\anaconda\\lib\\site-packages (from nbconvert>=5.3.1->phik>=0.9.8->pandas-profiling) (3.1.0)\n",
            "Requirement already satisfied, skipping upgrade: pandocfilters>=1.4.1 in c:\\siddharth\\personal\\it-banking\\mazimahiti\\insaid\\anaconda\\lib\\site-packages (from nbconvert>=5.3.1->phik>=0.9.8->pandas-profiling) (1.4.2)\n",
            "Requirement already satisfied, skipping upgrade: traitlets>=4.2 in c:\\siddharth\\personal\\it-banking\\mazimahiti\\insaid\\anaconda\\lib\\site-packages (from nbconvert>=5.3.1->phik>=0.9.8->pandas-profiling) (4.3.2)\n",
            "Requirement already satisfied, skipping upgrade: testpath in c:\\siddharth\\personal\\it-banking\\mazimahiti\\insaid\\anaconda\\lib\\site-packages (from nbconvert>=5.3.1->phik>=0.9.8->pandas-profiling) (0.4.2)\n",
            "Requirement already satisfied, skipping upgrade: pygments in c:\\siddharth\\personal\\it-banking\\mazimahiti\\insaid\\anaconda\\lib\\site-packages (from nbconvert>=5.3.1->phik>=0.9.8->pandas-profiling) (2.4.2)\n",
            "Requirement already satisfied, skipping upgrade: pyzmq>=13 in c:\\siddharth\\personal\\it-banking\\mazimahiti\\insaid\\anaconda\\lib\\site-packages (from jupyter-client>=5.2.3->phik>=0.9.8->pandas-profiling) (18.0.0)\n",
            "Requirement already satisfied, skipping upgrade: tornado>=4.1 in c:\\siddharth\\personal\\it-banking\\mazimahiti\\insaid\\anaconda\\lib\\site-packages (from jupyter-client>=5.2.3->phik>=0.9.8->pandas-profiling) (6.0.3)\n",
            "Requirement already satisfied, skipping upgrade: py>=1.5.0 in c:\\siddharth\\personal\\it-banking\\mazimahiti\\insaid\\anaconda\\lib\\site-packages (from pytest>=4.0.2->phik>=0.9.8->pandas-profiling) (1.8.0)\n",
            "Requirement already satisfied, skipping upgrade: packaging in c:\\siddharth\\personal\\it-banking\\mazimahiti\\insaid\\anaconda\\lib\\site-packages (from pytest>=4.0.2->phik>=0.9.8->pandas-profiling) (19.0)\n",
            "Requirement already satisfied, skipping upgrade: attrs>=17.4.0 in c:\\siddharth\\personal\\it-banking\\mazimahiti\\insaid\\anaconda\\lib\\site-packages (from pytest>=4.0.2->phik>=0.9.8->pandas-profiling) (19.1.0)\n",
            "Requirement already satisfied, skipping upgrade: more-itertools>=4.0.0 in c:\\siddharth\\personal\\it-banking\\mazimahiti\\insaid\\anaconda\\lib\\site-packages (from pytest>=4.0.2->phik>=0.9.8->pandas-profiling) (7.0.0)\n",
            "Requirement already satisfied, skipping upgrade: atomicwrites>=1.0 in c:\\siddharth\\personal\\it-banking\\mazimahiti\\insaid\\anaconda\\lib\\site-packages (from pytest>=4.0.2->phik>=0.9.8->pandas-profiling) (1.3.0)\n",
            "Requirement already satisfied, skipping upgrade: pluggy<1.0,>=0.12 in c:\\siddharth\\personal\\it-banking\\mazimahiti\\insaid\\anaconda\\lib\\site-packages (from pytest>=4.0.2->phik>=0.9.8->pandas-profiling) (0.12.0)\n",
            "Requirement already satisfied, skipping upgrade: importlib-metadata>=0.12 in c:\\siddharth\\personal\\it-banking\\mazimahiti\\insaid\\anaconda\\lib\\site-packages (from pytest>=4.0.2->phik>=0.9.8->pandas-profiling) (0.17)\n",
            "Requirement already satisfied, skipping upgrade: wcwidth in c:\\siddharth\\personal\\it-banking\\mazimahiti\\insaid\\anaconda\\lib\\site-packages (from pytest>=4.0.2->phik>=0.9.8->pandas-profiling) (0.1.7)\n",
            "Requirement already satisfied, skipping upgrade: colorama in c:\\siddharth\\personal\\it-banking\\mazimahiti\\insaid\\anaconda\\lib\\site-packages (from pytest>=4.0.2->phik>=0.9.8->pandas-profiling) (0.4.1)\n",
            "Requirement already satisfied, skipping upgrade: llvmlite>=0.29.0 in c:\\siddharth\\personal\\it-banking\\mazimahiti\\insaid\\anaconda\\lib\\site-packages (from numba>=0.38.1->phik>=0.9.8->pandas-profiling) (0.29.0)\n",
            "Requirement already satisfied, skipping upgrade: pylint>=1.4.5 in c:\\siddharth\\personal\\it-banking\\mazimahiti\\insaid\\anaconda\\lib\\site-packages (from pytest-pylint>=0.13.0->phik>=0.9.8->pandas-profiling) (2.3.1)\n",
            "Requirement already satisfied, skipping upgrade: jsonschema!=2.5.0,>=2.4 in c:\\siddharth\\personal\\it-banking\\mazimahiti\\insaid\\anaconda\\lib\\site-packages (from nbformat>=4.4->nbconvert>=5.3.1->phik>=0.9.8->pandas-profiling) (3.0.1)\n",
            "Requirement already satisfied, skipping upgrade: ipython-genutils in c:\\siddharth\\personal\\it-banking\\mazimahiti\\insaid\\anaconda\\lib\\site-packages (from nbformat>=4.4->nbconvert>=5.3.1->phik>=0.9.8->pandas-profiling) (0.2.0)\n",
            "Requirement already satisfied, skipping upgrade: webencodings in c:\\siddharth\\personal\\it-banking\\mazimahiti\\insaid\\anaconda\\lib\\site-packages (from bleach->nbconvert>=5.3.1->phik>=0.9.8->pandas-profiling) (0.5.1)\n",
            "Requirement already satisfied, skipping upgrade: decorator in c:\\siddharth\\personal\\it-banking\\mazimahiti\\insaid\\anaconda\\lib\\site-packages (from traitlets>=4.2->nbconvert>=5.3.1->phik>=0.9.8->pandas-profiling) (4.4.0)\n",
            "Requirement already satisfied, skipping upgrade: zipp>=0.5 in c:\\siddharth\\personal\\it-banking\\mazimahiti\\insaid\\anaconda\\lib\\site-packages (from importlib-metadata>=0.12->pytest>=4.0.2->phik>=0.9.8->pandas-profiling) (0.5.1)\n",
            "Requirement already satisfied, skipping upgrade: astroid<3,>=2.2.0 in c:\\siddharth\\personal\\it-banking\\mazimahiti\\insaid\\anaconda\\lib\\site-packages (from pylint>=1.4.5->pytest-pylint>=0.13.0->phik>=0.9.8->pandas-profiling) (2.2.5)\n",
            "Requirement already satisfied, skipping upgrade: isort<5,>=4.2.5 in c:\\siddharth\\personal\\it-banking\\mazimahiti\\insaid\\anaconda\\lib\\site-packages (from pylint>=1.4.5->pytest-pylint>=0.13.0->phik>=0.9.8->pandas-profiling) (4.3.21)\n",
            "Requirement already satisfied, skipping upgrade: mccabe<0.7,>=0.6 in c:\\siddharth\\personal\\it-banking\\mazimahiti\\insaid\\anaconda\\lib\\site-packages (from pylint>=1.4.5->pytest-pylint>=0.13.0->phik>=0.9.8->pandas-profiling) (0.6.1)\n",
            "Requirement already satisfied, skipping upgrade: pyrsistent>=0.14.0 in c:\\siddharth\\personal\\it-banking\\mazimahiti\\insaid\\anaconda\\lib\\site-packages (from jsonschema!=2.5.0,>=2.4->nbformat>=4.4->nbconvert>=5.3.1->phik>=0.9.8->pandas-profiling) (0.14.11)\n",
            "Requirement already satisfied, skipping upgrade: wrapt in c:\\siddharth\\personal\\it-banking\\mazimahiti\\insaid\\anaconda\\lib\\site-packages (from astroid<3,>=2.2.0->pylint>=1.4.5->pytest-pylint>=0.13.0->phik>=0.9.8->pandas-profiling) (1.11.2)\n",
            "Requirement already satisfied, skipping upgrade: typed-ast>=1.3.0; implementation_name == \"cpython\" in c:\\siddharth\\personal\\it-banking\\mazimahiti\\insaid\\anaconda\\lib\\site-packages (from astroid<3,>=2.2.0->pylint>=1.4.5->pytest-pylint>=0.13.0->phik>=0.9.8->pandas-profiling) (1.4.0)\n",
            "Requirement already satisfied, skipping upgrade: lazy-object-proxy in c:\\siddharth\\personal\\it-banking\\mazimahiti\\insaid\\anaconda\\lib\\site-packages (from astroid<3,>=2.2.0->pylint>=1.4.5->pytest-pylint>=0.13.0->phik>=0.9.8->pandas-profiling) (1.4.1)\n"
          ],
          "name": "stdout"
        }
      ]
    },
    {
      "cell_type": "code",
      "metadata": {
        "id": "b2XbLIdx9iHc",
        "colab_type": "code",
        "colab": {}
      },
      "source": [
        "import pandas_profiling\n",
        "\n",
        "# To output pandas profiling report to an external html file.\n",
        "# Saving the output as profiling_before_preprocessing.html\n",
        "\n",
        "profile = df_flighttime.profile_report(title=\"NYC Flight data Profiling before Data Preprocessing\")\n",
        "profile.to_file(output_file=\"NYC flight_profiling_before_preprocessing.html\")"
      ],
      "execution_count": 0,
      "outputs": []
    },
    {
      "cell_type": "code",
      "metadata": {
        "id": "72h5_tJA9iHe",
        "colab_type": "code",
        "colab": {}
      },
      "source": [
        "#Observations from Pandas Profiling before Data Processing \n",
        "\n",
        "#Dataset info:\n",
        "#Number of variables: 19\n",
        "#Number of observations: 336776\n",
        "#Missing cells: 46595 (0.7%)\n",
        "\n",
        "#Variables types: \n",
        "#Numeric = 9\n",
        "#Categorical = 5\n",
        "#Text (Unique) = 0\n",
        "#Rejected = 5\n",
        "\n",
        "#year has constant value \"2013\".\n",
        "#air_time & arr_time has 9430 highest % (2.8%) of missing values.\n",
        "#arr_delay has 5409 (1.6%) of zeros.\n",
        "#dep_delay is highly correlated with arr_delay (ρ = 0.9148027589).\n",
        "#distance is highly correlated with air_time (ρ = 0.9906496472).\n",
        "#dest has a high cardinality: 105 distinct values.\n",
        "\n",
        "#arr_delay has a skewness of 3.71681748 and kurtosis of 29.233044.\n",
        "#The distribution is positive (right) skewed as the mean (6.895376757) is to the right of the median (-5).\n",
        "#95% samples have a arr_delay less than 91 mins.\n",
        "#The high value of kurtosis implies that many values are there at the end and there is a presence of outliers in the data (maximum value = 1272 is an outlier).\n",
        "\n",
        "#dep_time has a skewness of -0.02474345303 and kurtosis of -1.088319991.\n",
        "#Minimum value = 1 is an outlier, as it lies far away from the Q1 (25th percentile) value (907) and 5th percentile (624).\n",
        "\n",
        "#dest has data divided into 105 distinct values.\n",
        "#O'Hare International Airport  has the highest share with 17283 samples (5.1% share) and then Breakfast has 49 samples (14.4% share).\n",
        "\n",
        "#origin has data divided into 3 distinct values.\n",
        "#EWR  has 120835 samples (35.9% share), JFK has 111279 samples (33.0% share) and LGA has 104662 samples (31.1% share).\n",
        "\n",
        "#All the remaining columns can be studied in the same way."
      ],
      "execution_count": 0,
      "outputs": []
    },
    {
      "cell_type": "code",
      "metadata": {
        "id": "ChwxXPK29iHg",
        "colab_type": "code",
        "colab": {}
      },
      "source": [
        ""
      ],
      "execution_count": 0,
      "outputs": []
    },
    {
      "cell_type": "code",
      "metadata": {
        "id": "TNB3dbZg9iHi",
        "colab_type": "code",
        "colab": {},
        "outputId": "53af318c-97ed-46d2-d1b1-2272a57d781c"
      },
      "source": [
        "#Now we will perform data processing on our dataset to make data usable for EDA\n",
        "\n",
        "#we will drop Year column as all values are from 2013\n",
        "#we will also drop columns flight, tail num as they do not provide any valuable information about data for EDA\n",
        "df_flighttime.head()\n",
        "df_backup = df_flighttime\n",
        "df_flighttime.drop(['year', 'flight', 'tailnum'], axis=1, inplace=True)\n",
        "df_flighttime.head()"
      ],
      "execution_count": 0,
      "outputs": [
        {
          "output_type": "execute_result",
          "data": {
            "text/html": [
              "<div>\n",
              "<style scoped>\n",
              "    .dataframe tbody tr th:only-of-type {\n",
              "        vertical-align: middle;\n",
              "    }\n",
              "\n",
              "    .dataframe tbody tr th {\n",
              "        vertical-align: top;\n",
              "    }\n",
              "\n",
              "    .dataframe thead th {\n",
              "        text-align: right;\n",
              "    }\n",
              "</style>\n",
              "<table border=\"1\" class=\"dataframe\">\n",
              "  <thead>\n",
              "    <tr style=\"text-align: right;\">\n",
              "      <th></th>\n",
              "      <th>month</th>\n",
              "      <th>day</th>\n",
              "      <th>dep_time</th>\n",
              "      <th>sched_dep_time</th>\n",
              "      <th>dep_delay</th>\n",
              "      <th>arr_time</th>\n",
              "      <th>sched_arr_time</th>\n",
              "      <th>arr_delay</th>\n",
              "      <th>carrier</th>\n",
              "      <th>origin</th>\n",
              "      <th>dest</th>\n",
              "      <th>air_time</th>\n",
              "      <th>distance</th>\n",
              "      <th>hour</th>\n",
              "      <th>minute</th>\n",
              "      <th>time_hour</th>\n",
              "    </tr>\n",
              "  </thead>\n",
              "  <tbody>\n",
              "    <tr>\n",
              "      <th>0</th>\n",
              "      <td>1</td>\n",
              "      <td>1</td>\n",
              "      <td>517.0</td>\n",
              "      <td>515</td>\n",
              "      <td>2.0</td>\n",
              "      <td>830.0</td>\n",
              "      <td>819</td>\n",
              "      <td>11.0</td>\n",
              "      <td>UA</td>\n",
              "      <td>EWR</td>\n",
              "      <td>IAH</td>\n",
              "      <td>227.0</td>\n",
              "      <td>1400</td>\n",
              "      <td>5</td>\n",
              "      <td>15</td>\n",
              "      <td>1/1/2013 5:00</td>\n",
              "    </tr>\n",
              "    <tr>\n",
              "      <th>1</th>\n",
              "      <td>1</td>\n",
              "      <td>1</td>\n",
              "      <td>533.0</td>\n",
              "      <td>529</td>\n",
              "      <td>4.0</td>\n",
              "      <td>850.0</td>\n",
              "      <td>830</td>\n",
              "      <td>20.0</td>\n",
              "      <td>UA</td>\n",
              "      <td>LGA</td>\n",
              "      <td>IAH</td>\n",
              "      <td>227.0</td>\n",
              "      <td>1416</td>\n",
              "      <td>5</td>\n",
              "      <td>29</td>\n",
              "      <td>1/1/2013 5:00</td>\n",
              "    </tr>\n",
              "    <tr>\n",
              "      <th>2</th>\n",
              "      <td>1</td>\n",
              "      <td>1</td>\n",
              "      <td>542.0</td>\n",
              "      <td>540</td>\n",
              "      <td>2.0</td>\n",
              "      <td>923.0</td>\n",
              "      <td>850</td>\n",
              "      <td>33.0</td>\n",
              "      <td>AA</td>\n",
              "      <td>JFK</td>\n",
              "      <td>MIA</td>\n",
              "      <td>160.0</td>\n",
              "      <td>1089</td>\n",
              "      <td>5</td>\n",
              "      <td>40</td>\n",
              "      <td>1/1/2013 5:00</td>\n",
              "    </tr>\n",
              "    <tr>\n",
              "      <th>3</th>\n",
              "      <td>1</td>\n",
              "      <td>1</td>\n",
              "      <td>544.0</td>\n",
              "      <td>545</td>\n",
              "      <td>-1.0</td>\n",
              "      <td>1004.0</td>\n",
              "      <td>1022</td>\n",
              "      <td>-18.0</td>\n",
              "      <td>B6</td>\n",
              "      <td>JFK</td>\n",
              "      <td>BQN</td>\n",
              "      <td>183.0</td>\n",
              "      <td>1576</td>\n",
              "      <td>5</td>\n",
              "      <td>45</td>\n",
              "      <td>1/1/2013 5:00</td>\n",
              "    </tr>\n",
              "    <tr>\n",
              "      <th>4</th>\n",
              "      <td>1</td>\n",
              "      <td>1</td>\n",
              "      <td>554.0</td>\n",
              "      <td>600</td>\n",
              "      <td>-6.0</td>\n",
              "      <td>812.0</td>\n",
              "      <td>837</td>\n",
              "      <td>-25.0</td>\n",
              "      <td>DL</td>\n",
              "      <td>LGA</td>\n",
              "      <td>ATL</td>\n",
              "      <td>116.0</td>\n",
              "      <td>762</td>\n",
              "      <td>6</td>\n",
              "      <td>0</td>\n",
              "      <td>1/1/2013 6:00</td>\n",
              "    </tr>\n",
              "  </tbody>\n",
              "</table>\n",
              "</div>"
            ],
            "text/plain": [
              "   month  day  dep_time  sched_dep_time  dep_delay  arr_time  sched_arr_time  \\\n",
              "0  1      1    517.0     515             2.0        830.0     819              \n",
              "1  1      1    533.0     529             4.0        850.0     830              \n",
              "2  1      1    542.0     540             2.0        923.0     850              \n",
              "3  1      1    544.0     545            -1.0        1004.0    1022             \n",
              "4  1      1    554.0     600            -6.0        812.0     837              \n",
              "\n",
              "   arr_delay carrier origin dest  air_time  distance  hour  minute  \\\n",
              "0  11.0       UA      EWR    IAH  227.0     1400      5     15       \n",
              "1  20.0       UA      LGA    IAH  227.0     1416      5     29       \n",
              "2  33.0       AA      JFK    MIA  160.0     1089      5     40       \n",
              "3 -18.0       B6      JFK    BQN  183.0     1576      5     45       \n",
              "4 -25.0       DL      LGA    ATL  116.0     762       6     0        \n",
              "\n",
              "       time_hour  \n",
              "0  1/1/2013 5:00  \n",
              "1  1/1/2013 5:00  \n",
              "2  1/1/2013 5:00  \n",
              "3  1/1/2013 5:00  \n",
              "4  1/1/2013 6:00  "
            ]
          },
          "metadata": {
            "tags": []
          },
          "execution_count": 4
        }
      ]
    },
    {
      "cell_type": "code",
      "metadata": {
        "id": "6I-70wBj9iHl",
        "colab_type": "code",
        "colab": {}
      },
      "source": [
        "#dep_time (float), sched_dep_time (int), arr_time (float) and sched_arr_time (int) are numberic fields. \n",
        "#we need to convert them in _datetime format\n",
        "\n",
        "#print(pd.to_datetime((str(df_flighttime.dep_time[0]/100),'%H:M')))\n",
        "#df_flighttime['Time'] = pd.to_datetime(df_flighttime['dep_time'], format='%H%M').dt.time\n",
        "#df_flighttime[\"new_deptime\"] = pd.to_datetime(df_flighttime.dep_time)).dt.strftime('%H:%M')\n",
        "#pd.to_datetime datetime to_datetime(df_flighttime.dep_time/100, format='%H%M')\n",
        "#a = (df_flighttime.dep_time[0]/100)\n",
        "#df_flighttime.dept_time = df_flighttime.dep_time.str[:2] + ':' + df_flighttime.dep_time.str[-2:]\n",
        "#print(a)\n",
        "#df_flighttime\n",
        "#df_flighttime\n",
        "#df_flighttime.assign(newtime=pd.to_datetime(df_flighttime.dep_time, format='%H%M').dt.time)\n",
        "#df_flighttime.head()"
      ],
      "execution_count": 0,
      "outputs": []
    },
    {
      "cell_type": "code",
      "metadata": {
        "id": "7v8PRdSf9iHn",
        "colab_type": "code",
        "colab": {},
        "outputId": "11f58992-8fdc-46ce-e5c1-1a481b2e7c04"
      },
      "source": [
        "#Identifying which colummns have NULL values\n",
        "#df_flighttime = df_backup\n",
        "df_flighttime.isnull().sum()"
      ],
      "execution_count": 0,
      "outputs": [
        {
          "output_type": "execute_result",
          "data": {
            "text/plain": [
              "month             0   \n",
              "day               0   \n",
              "dep_time          8255\n",
              "sched_dep_time    0   \n",
              "dep_delay         8255\n",
              "arr_time          8713\n",
              "sched_arr_time    0   \n",
              "arr_delay         9430\n",
              "carrier           0   \n",
              "origin            0   \n",
              "dest              0   \n",
              "air_time          9430\n",
              "distance          0   \n",
              "hour              0   \n",
              "minute            0   \n",
              "time_hour         0   \n",
              "dtype: int64"
            ]
          },
          "metadata": {
            "tags": []
          },
          "execution_count": 5
        }
      ]
    },
    {
      "cell_type": "code",
      "metadata": {
        "id": "3a6to2kB9iHp",
        "colab_type": "code",
        "colab": {}
      },
      "source": [
        "#As few values in Dep_time are NULL, considering sched_dep_time same as actual dep_time for those flights\n",
        "#copying sched_dep_time to dep_time where values are NULL\n",
        "df_flighttime[\"dep_time\"] = df_flighttime[\"dep_time\"].fillna(df_flighttime[\"sched_dep_time\"])\n",
        "\n",
        "#As few values in arr_time are NULL, considering sched_arr_time same as actual arr_time for those flights\n",
        "#copying sched_arr_time to arr_time where values are NULL\n",
        "df_flighttime[\"arr_time\"] = df_flighttime[\"arr_time\"].fillna(df_flighttime[\"sched_arr_time\"])\n",
        "\n",
        "# Converting 24:00 to 00:00 time\n",
        "df_flighttime[\"dep_time\"] = df_flighttime[\"dep_time\"].astype(str).str.replace('2400', '0000')\n",
        "df_flighttime[\"arr_time\"] = df_flighttime[\"arr_time\"].astype(str).str.replace('2400', '0000')\n",
        "\n",
        "#Making all dep_delay and arr_delay values to '0' where NULL\n",
        "df_flighttime['dep_delay'] = df_flighttime['dep_delay'].fillna(0)\n",
        "df_flighttime['arr_delay'] = df_flighttime['arr_delay'].fillna(0)\n",
        "\n",
        "#Finding median of air_time rows where values are non-NULL\n",
        "air_time_median = df_flighttime[~(df_flighttime['air_time'] == '')]['air_time'].median()\n",
        "df_flighttime[\"air_time\"] = df_flighttime[\"air_time\"].fillna(air_time_median)\n",
        "\n",
        "#Adding Leading Zeros to make total Length of the column to 4\n",
        "df_flighttime['dep_time'] = df_flighttime['dep_time'].astype(str).str.zfill(6)\n",
        "df_flighttime['sched_dep_time'] = df_flighttime['sched_dep_time'].astype(str).str.zfill(4)\n",
        "df_flighttime['arr_time'] = df_flighttime['arr_time'].astype(str).str.zfill(6)\n",
        "df_flighttime['sched_arr_time'] = df_flighttime['sched_arr_time'].astype(str).str.zfill(4)\n",
        "\n",
        "#Removing decimal places from String values to convert in timestamps\n",
        "df_flighttime['dep_time'] = df_flighttime['dep_time'].astype(str).replace('\\.0', '', regex=True)\n",
        "df_flighttime['sched_dep_time'] = df_flighttime['sched_dep_time'].astype(str).replace('\\.0', '', regex=True)\n",
        "df_flighttime['arr_time'] = df_flighttime['arr_time'].astype(str).replace('\\.0', '', regex=True)\n",
        "df_flighttime['sched_arr_time'] = df_flighttime['sched_arr_time'].astype(str).replace('\\.0', '', regex=True)\n",
        "df_flighttime['air_time'] = df_flighttime['air_time'].astype(str).replace('\\.0', '', regex=True)\n",
        "\n",
        "#converting into Timestamp format\n",
        "#df_flighttime.dep_time[0] = '0517'\n",
        "#df_flighttime.dep_time[0] = pd.to_datetime(df_flighttime.dep_time[0], format='%H%M')\n",
        "#print(type(df_flighttime.dep_time[0]))\n",
        "df_flighttime.dep_time = df_flighttime.dep_time.astype(str)\n",
        "df_flighttime.dep_time = df_flighttime.dep_time.str[:2] + ':' + df_flighttime.dep_time.str[-2:]\n",
        "df_flighttime['dep_time'] = pd.to_datetime(df_flighttime['dep_time'], format='%H:%M').dt.time\n",
        "\n",
        "df_flighttime.arr_time = df_flighttime.arr_time.astype(str)\n",
        "df_flighttime.arr_time = df_flighttime.arr_time.str[:2] + ':' + df_flighttime.arr_time.str[-2:]\n",
        "df_flighttime['arr_time'] = pd.to_datetime(df_flighttime['arr_time'], format='%H:%M').dt.time\n",
        "\n",
        "df_flighttime.sched_dep_time = df_flighttime.sched_dep_time.astype(str)\n",
        "df_flighttime.sched_dep_time = df_flighttime.sched_dep_time.str[:2] + ':' + df_flighttime.sched_dep_time.str[-2:]\n",
        "df_flighttime['sched_dep_time'] = pd.to_datetime(df_flighttime['sched_dep_time'], format='%H:%M').dt.time\n",
        "\n",
        "df_flighttime.sched_arr_time = df_flighttime.sched_arr_time.astype(str)\n",
        "df_flighttime.sched_arr_time = df_flighttime.sched_arr_time.str[:2] + ':' + df_flighttime.sched_arr_time.str[-2:]\n",
        "df_flighttime['sched_arr_time'] = pd.to_datetime(df_flighttime['sched_arr_time'], format='%H:%M').dt.time\n",
        "\n",
        "#for i in range(91492,91495):\n",
        "#   print (i, df_flighttime.iloc[i]['dep_time'])\n",
        "#for i in range(815,819):\n",
        "#   print (i, df_flighttime.iloc[i]['arr_time'])\n",
        "#for i in range(1775,1784):\n",
        "#   print (i, df_flighttime.iloc[i]['dep_delay'])\n",
        "#for i in range(1775,1784):\n",
        "#    print (i, df_flighttime.iloc[i]['arr_delay'])\n",
        "#for i in range(471,754):\n",
        "#    print (i, df_flighttime.iloc[i]['air_time'])\n",
        "#for i in range(0,10):\n",
        "#    print (i, df_flighttime.iloc[i]['sched_dep_time'])\n",
        "#for i in range(1700,3580):\n",
        "#    print (i, df_flighttime.iloc[i]['arr_time'])\n",
        "#for i in range(56778,56809):\n",
        "#    print (i, df_flighttime.iloc[i]['sched_arr_time'])"
      ],
      "execution_count": 0,
      "outputs": []
    },
    {
      "cell_type": "code",
      "metadata": {
        "id": "Aa7gv0DQ9iHr",
        "colab_type": "code",
        "colab": {},
        "outputId": "4811ded9-0a3b-4c7a-abd2-591cfcdb55e1"
      },
      "source": [
        "df_flighttime.info()"
      ],
      "execution_count": 0,
      "outputs": [
        {
          "output_type": "stream",
          "text": [
            "<class 'pandas.core.frame.DataFrame'>\n",
            "RangeIndex: 336776 entries, 0 to 336775\n",
            "Data columns (total 16 columns):\n",
            "month             336776 non-null int64\n",
            "day               336776 non-null int64\n",
            "dep_time          336776 non-null object\n",
            "sched_dep_time    336776 non-null object\n",
            "dep_delay         336776 non-null float64\n",
            "arr_time          336776 non-null object\n",
            "sched_arr_time    336776 non-null object\n",
            "arr_delay         336776 non-null float64\n",
            "carrier           336776 non-null object\n",
            "origin            336776 non-null object\n",
            "dest              336776 non-null object\n",
            "air_time          336776 non-null object\n",
            "distance          336776 non-null int64\n",
            "hour              336776 non-null int64\n",
            "minute            336776 non-null int64\n",
            "time_hour         336776 non-null object\n",
            "dtypes: float64(2), int64(5), object(9)\n",
            "memory usage: 41.1+ MB\n"
          ],
          "name": "stdout"
        }
      ]
    },
    {
      "cell_type": "code",
      "metadata": {
        "scrolled": true,
        "id": "7Skzmd169iHt",
        "colab_type": "code",
        "colab": {},
        "outputId": "f4e42146-5f17-4083-8fc3-1e1a365d2250"
      },
      "source": [
        "df_flighttime.head()"
      ],
      "execution_count": 0,
      "outputs": [
        {
          "output_type": "execute_result",
          "data": {
            "text/html": [
              "<div>\n",
              "<style scoped>\n",
              "    .dataframe tbody tr th:only-of-type {\n",
              "        vertical-align: middle;\n",
              "    }\n",
              "\n",
              "    .dataframe tbody tr th {\n",
              "        vertical-align: top;\n",
              "    }\n",
              "\n",
              "    .dataframe thead th {\n",
              "        text-align: right;\n",
              "    }\n",
              "</style>\n",
              "<table border=\"1\" class=\"dataframe\">\n",
              "  <thead>\n",
              "    <tr style=\"text-align: right;\">\n",
              "      <th></th>\n",
              "      <th>month</th>\n",
              "      <th>day</th>\n",
              "      <th>dep_time</th>\n",
              "      <th>sched_dep_time</th>\n",
              "      <th>dep_delay</th>\n",
              "      <th>arr_time</th>\n",
              "      <th>sched_arr_time</th>\n",
              "      <th>arr_delay</th>\n",
              "      <th>carrier</th>\n",
              "      <th>origin</th>\n",
              "      <th>dest</th>\n",
              "      <th>air_time</th>\n",
              "      <th>distance</th>\n",
              "      <th>hour</th>\n",
              "      <th>minute</th>\n",
              "      <th>time_hour</th>\n",
              "    </tr>\n",
              "  </thead>\n",
              "  <tbody>\n",
              "    <tr>\n",
              "      <th>0</th>\n",
              "      <td>1</td>\n",
              "      <td>1</td>\n",
              "      <td>05:17:00</td>\n",
              "      <td>05:15:00</td>\n",
              "      <td>2.0</td>\n",
              "      <td>08:30:00</td>\n",
              "      <td>08:19:00</td>\n",
              "      <td>11.0</td>\n",
              "      <td>UA</td>\n",
              "      <td>EWR</td>\n",
              "      <td>IAH</td>\n",
              "      <td>227</td>\n",
              "      <td>1400</td>\n",
              "      <td>5</td>\n",
              "      <td>15</td>\n",
              "      <td>1/1/2013 5:00</td>\n",
              "    </tr>\n",
              "    <tr>\n",
              "      <th>1</th>\n",
              "      <td>1</td>\n",
              "      <td>1</td>\n",
              "      <td>05:33:00</td>\n",
              "      <td>05:29:00</td>\n",
              "      <td>4.0</td>\n",
              "      <td>08:50:00</td>\n",
              "      <td>08:30:00</td>\n",
              "      <td>20.0</td>\n",
              "      <td>UA</td>\n",
              "      <td>LGA</td>\n",
              "      <td>IAH</td>\n",
              "      <td>227</td>\n",
              "      <td>1416</td>\n",
              "      <td>5</td>\n",
              "      <td>29</td>\n",
              "      <td>1/1/2013 5:00</td>\n",
              "    </tr>\n",
              "    <tr>\n",
              "      <th>2</th>\n",
              "      <td>1</td>\n",
              "      <td>1</td>\n",
              "      <td>05:42:00</td>\n",
              "      <td>05:40:00</td>\n",
              "      <td>2.0</td>\n",
              "      <td>09:23:00</td>\n",
              "      <td>08:50:00</td>\n",
              "      <td>33.0</td>\n",
              "      <td>AA</td>\n",
              "      <td>JFK</td>\n",
              "      <td>MIA</td>\n",
              "      <td>160</td>\n",
              "      <td>1089</td>\n",
              "      <td>5</td>\n",
              "      <td>40</td>\n",
              "      <td>1/1/2013 5:00</td>\n",
              "    </tr>\n",
              "    <tr>\n",
              "      <th>3</th>\n",
              "      <td>1</td>\n",
              "      <td>1</td>\n",
              "      <td>05:44:00</td>\n",
              "      <td>05:45:00</td>\n",
              "      <td>-1.0</td>\n",
              "      <td>10:04:00</td>\n",
              "      <td>10:22:00</td>\n",
              "      <td>-18.0</td>\n",
              "      <td>B6</td>\n",
              "      <td>JFK</td>\n",
              "      <td>BQN</td>\n",
              "      <td>183</td>\n",
              "      <td>1576</td>\n",
              "      <td>5</td>\n",
              "      <td>45</td>\n",
              "      <td>1/1/2013 5:00</td>\n",
              "    </tr>\n",
              "    <tr>\n",
              "      <th>4</th>\n",
              "      <td>1</td>\n",
              "      <td>1</td>\n",
              "      <td>05:54:00</td>\n",
              "      <td>06:00:00</td>\n",
              "      <td>-6.0</td>\n",
              "      <td>08:12:00</td>\n",
              "      <td>08:37:00</td>\n",
              "      <td>-25.0</td>\n",
              "      <td>DL</td>\n",
              "      <td>LGA</td>\n",
              "      <td>ATL</td>\n",
              "      <td>116</td>\n",
              "      <td>762</td>\n",
              "      <td>6</td>\n",
              "      <td>0</td>\n",
              "      <td>1/1/2013 6:00</td>\n",
              "    </tr>\n",
              "  </tbody>\n",
              "</table>\n",
              "</div>"
            ],
            "text/plain": [
              "   month  day  dep_time sched_dep_time  dep_delay  arr_time sched_arr_time  \\\n",
              "0  1      1    05:17:00  05:15:00       2.0        08:30:00  08:19:00        \n",
              "1  1      1    05:33:00  05:29:00       4.0        08:50:00  08:30:00        \n",
              "2  1      1    05:42:00  05:40:00       2.0        09:23:00  08:50:00        \n",
              "3  1      1    05:44:00  05:45:00      -1.0        10:04:00  10:22:00        \n",
              "4  1      1    05:54:00  06:00:00      -6.0        08:12:00  08:37:00        \n",
              "\n",
              "   arr_delay carrier origin dest air_time  distance  hour  minute  \\\n",
              "0  11.0       UA      EWR    IAH  227      1400      5     15       \n",
              "1  20.0       UA      LGA    IAH  227      1416      5     29       \n",
              "2  33.0       AA      JFK    MIA  160      1089      5     40       \n",
              "3 -18.0       B6      JFK    BQN  183      1576      5     45       \n",
              "4 -25.0       DL      LGA    ATL  116      762       6     0        \n",
              "\n",
              "       time_hour  \n",
              "0  1/1/2013 5:00  \n",
              "1  1/1/2013 5:00  \n",
              "2  1/1/2013 5:00  \n",
              "3  1/1/2013 5:00  \n",
              "4  1/1/2013 6:00  "
            ]
          },
          "metadata": {
            "tags": []
          },
          "execution_count": 8
        }
      ]
    },
    {
      "cell_type": "code",
      "metadata": {
        "id": "KXcq8DUH9iHv",
        "colab_type": "code",
        "colab": {}
      },
      "source": [
        "#Calculating Taxing_Time = (Arr_time - Dep_time) - Air_time\n",
        "#import datetime\n",
        "\n",
        "#t1 = pd.to_datetime('1/1/2015 01:00')\n",
        "#t2 = pd.to_datetime('1/1/2015 03:30')\n",
        "\n",
        "#type(df_flighttime.dep_time[0])\n",
        "#t1 = df_flighttime['dep_time'].astype('datetime')\n",
        "#t2 = df_flighttime['arr_time'].astype('datetime')\n",
        "#type(t1)\n",
        "#type(t2)\n",
        "#date = str(datetime.datetime.strptime('2018-01-01', '%Y-%m-%d').date())\n",
        "#df_flighttime['dep_time'] = pd.to_datetime(date + \" \" + df_flighttime.dep_time.astype(str))\n",
        "#df_flighttime['arr_time'] = pd.to_datetime(date + \" \" + df_flighttime.arr_time.astype(str))\n",
        "#print(pd.Timedelta(t2 - t1).seconds / 60.0)\n",
        "#print(df_flighttime.taxi_time)\n",
        "#df_flighttime.assign(taxi_time = ((df_flighttime.arr_time) - (df_flighttime.dep_time))/timedelta(minutes=1))#- df_flighttime.air_time)\n",
        "#df_flighttime.info()\n",
        "\n"
      ],
      "execution_count": 0,
      "outputs": []
    },
    {
      "cell_type": "code",
      "metadata": {
        "id": "DdittOWL9iHx",
        "colab_type": "code",
        "colab": {}
      },
      "source": [
        "# To output pandas profiling report to an external html file.\n",
        "# Saving the output as NYC flight_profiling_after_preprocessing.html\n",
        "\n",
        "profile = df_flighttime.profile_report(title=\"NYC Flight data Profiling after Data Preprocessing\")\n",
        "profile.to_file(output_file=\"NYC flight_profiling_after_preprocessing.html\")"
      ],
      "execution_count": 0,
      "outputs": []
    },
    {
      "cell_type": "code",
      "metadata": {
        "id": "Lt1VwRp59iHz",
        "colab_type": "code",
        "colab": {}
      },
      "source": [
        "#EDA based on below questions.\n",
        "\n",
        "# - Based on airports - \n",
        "# 1. How many flights departed from each airport (JFK, EWR and LGA), which is bussiest airport?\n",
        "# 2. Which is most commonly used airlines amoung airports in NYC?\n",
        "# 3. which are top 10 destinations prefeted by customers for travel\n",
        "\n",
        "# - Based on flight timings -\n",
        "# 4. How many flights departed early time (depart delay is <= -1)\n",
        "# 5. How many flights departed on time (depart delay = 0)\n",
        "# 6. How many flights departed late (depart delay is >=1)\n",
        "# 7. Monthly categorization of delay\n",
        "# 7. How many short distance flights (air_time <=120)\n",
        "# 8. How many mderate distance flights (air_time > 120 mins)"
      ],
      "execution_count": 0,
      "outputs": []
    },
    {
      "cell_type": "code",
      "metadata": {
        "id": "CKFfTB-G9iH1",
        "colab_type": "code",
        "colab": {},
        "outputId": "8b8a3281-ac09-4851-e748-642522af09d3"
      },
      "source": [
        "# 1. How many flights departed from each airport (JFK, EWR and LGA), which is bussiest airport?\n",
        "\n",
        "df_flighttime['origin'].value_counts()"
      ],
      "execution_count": 0,
      "outputs": [
        {
          "output_type": "execute_result",
          "data": {
            "text/plain": [
              "EWR    120835\n",
              "JFK    111279\n",
              "LGA    104662\n",
              "Name: origin, dtype: int64"
            ]
          },
          "metadata": {
            "tags": []
          },
          "execution_count": 10
        }
      ]
    },
    {
      "cell_type": "code",
      "metadata": {
        "id": "3GexPJN49iH3",
        "colab_type": "code",
        "colab": {},
        "outputId": "76d20fd2-4979-4c96-91ca-62081945b886"
      },
      "source": [
        "df_flighttime['origin'].value_counts().plot(kind='pie', explode=[0.05,0.05,0.05], fontsize=14, autopct='%3.1f%%', \n",
        "                                               figsize=(10,10), shadow=True, startangle=135, legend=True, cmap='summer')\n",
        "\n",
        "nyc_plt.ylabel('Original Airport in NYC')\n",
        "nyc_plt.title('Pie chart showing the proportion of each of 3 Airports in NYC')"
      ],
      "execution_count": 0,
      "outputs": [
        {
          "output_type": "execute_result",
          "data": {
            "text/plain": [
              "Text(0.5, 1.0, 'Pie chart showing the proportion of each of 3 Airports in NYC')"
            ]
          },
          "metadata": {
            "tags": []
          },
          "execution_count": 219
        },
        {
          "output_type": "display_data",
          "data": {
            "image/png": "[encoded data removed]",
            "text/plain": [
              "<Figure size 720x720 with 1 Axes>"
            ]
          },
          "metadata": {
            "tags": []
          }
        }
      ]
    },
    {
      "cell_type": "code",
      "metadata": {
        "scrolled": true,
        "id": "N4VSZYqp9iH6",
        "colab_type": "code",
        "colab": {},
        "outputId": "b98761b6-028b-4786-a289-cbaaa400b729"
      },
      "source": [
        "# 2. Which is most commonly used airlines amoung airports in NYC?.\n",
        "\n",
        "df_flighttime['carrier'].value_counts().sort_values().plot(kind='barh', figsize=(15,7), fontsize=13, color='blue')\n",
        "nyc_plt.xlabel('Count')\n",
        "\n",
        "#United Airlines(UA), Jet Blue (B9) and Delta Airlines (DL) are top 3 motsly used carrier in US as majority of the custmers flying from 3 major airports within NYC prefer this airline."
      ],
      "execution_count": 0,
      "outputs": [
        {
          "output_type": "execute_result",
          "data": {
            "text/plain": [
              "Text(0.5, 0, 'Count')"
            ]
          },
          "metadata": {
            "tags": []
          },
          "execution_count": 12
        },
        {
          "output_type": "display_data",
          "data": {
            "image/png": "[encoded data removed]",
            "text/plain": [
              "<Figure size 1080x504 with 1 Axes>"
            ]
          },
          "metadata": {
            "tags": []
          }
        }
      ]
    },
    {
      "cell_type": "code",
      "metadata": {
        "scrolled": true,
        "id": "Z-AEfJvX9iH-",
        "colab_type": "code",
        "colab": {},
        "outputId": "455f6e49-8505-4de2-d10a-044ce49396ef"
      },
      "source": [
        "# 3. which are top 10 destinations prefeted by customers for travel\n",
        "\n",
        "df_flighttime['dest'].value_counts().sort_values(ascending=False)[:10].plot(kind='bar', figsize=(15,7), fontsize=13, color='brown')\n",
        "nyc_plt.ylabel('Count')\n",
        "\n",
        "#O'Hare International Airport(ORD), Atlanta International Airport (ATL) and Los Angeles International Airport (LAX) are top 3 destinations US prefered by the custmers."
      ],
      "execution_count": 0,
      "outputs": [
        {
          "output_type": "execute_result",
          "data": {
            "text/plain": [
              "Text(0, 0.5, 'Count')"
            ]
          },
          "metadata": {
            "tags": []
          },
          "execution_count": 13
        },
        {
          "output_type": "display_data",
          "data": {
            "image/png": "[encoded data removed]",
            "text/plain": [
              "<Figure size 1080x504 with 1 Axes>"
            ]
          },
          "metadata": {
            "tags": []
          }
        }
      ]
    },
    {
      "cell_type": "code",
      "metadata": {
        "id": "-G2qneRx9iID",
        "colab_type": "code",
        "colab": {}
      },
      "source": [
        "#4. How many flights departed early time (depart delay is <= -1)\n",
        "# 5. How many flights departed on time (depart delay = 0)\n",
        "# 6. How many flights departed late (depart delay is >=1)\n",
        "\n",
        "for delay in df_flighttime:\n",
        "    df_flighttime.loc[df_flighttime['dep_delay'] == 0, 'Status'] = 'On_Time'\n",
        "    df_flighttime.loc[df_flighttime['dep_delay'] >= 1, 'Status'] = 'Delayed_Departure'\n",
        "    df_flighttime.loc[df_flighttime['dep_delay'] <= -1, 'Status'] = 'Before_Time_Departure'"
      ],
      "execution_count": 0,
      "outputs": []
    },
    {
      "cell_type": "code",
      "metadata": {
        "id": "g6Arg7Zm9iIF",
        "colab_type": "code",
        "colab": {},
        "outputId": "ef182d8d-a1b2-4559-ca49-f9119c421e97"
      },
      "source": [
        "f,ax=nyc_plt.subplots(1,2,figsize=(20,8))\n",
        "df_flighttime['Status'].value_counts().plot.pie(explode=[0.05,0.05,0.05],autopct='%1.1f%%',ax=ax[0],shadow=True)\n",
        "ax[0].set_title('Status')\n",
        "ax[0].set_ylabel('%')\n",
        "sns.countplot('Status',order = df_flighttime['Status'].value_counts().index, data=df_flighttime,ax=ax[1])\n",
        "ax[1].set_title('Status')\n",
        "nyc_plt.show()\n",
        "\n",
        "print('Status represents wether the flight was departed on time (0), delayed (>=1), Before Time (<=1)')"
      ],
      "execution_count": 0,
      "outputs": [
        {
          "output_type": "display_data",
          "data": {
            "image/png": "[encoded data removed]",
            "text/plain": [
              "<Figure size 1440x576 with 2 Axes>"
            ]
          },
          "metadata": {
            "tags": []
          }
        },
        {
          "output_type": "stream",
          "text": [
            "Status represents wether the flight was departed on time (0), delayed (>=1), Before Time (<=1)\n"
          ],
          "name": "stdout"
        }
      ]
    },
    {
      "cell_type": "code",
      "metadata": {
        "id": "1lx_GDaw9iIG",
        "colab_type": "code",
        "colab": {},
        "outputId": "2968fdfb-fde6-44c3-f77e-73e8c076098f"
      },
      "source": [
        "# 7. Monthly categorization of delay\n",
        "\n",
        "Delayedflights = df_flighttime[(df_flighttime.Status == 'Delayed_Departure')]\n",
        "f,ax=nyc_plt.subplots(1,2,figsize=(20,8))\n",
        "Delayedflights[['month','arr_delay']].groupby(['month']).mean().plot(ax=ax[0])\n",
        "ax[0].set_title('Average delay by month')\n",
        "Delayedflights[['month','arr_delay']].groupby(['month']).sum().plot(ax=ax[1])\n",
        "ax[1].set_title('Total minutes delay by month')\n",
        "nyc_plt.show()\n",
        "\n",
        "#More Delays during April, June and July 2013, with a least delay during Nov 2013."
      ],
      "execution_count": 0,
      "outputs": [
        {
          "output_type": "display_data",
          "data": {
            "image/png": "[encoded data removed]",
            "text/plain": [
              "<Figure size 1440x576 with 2 Axes>"
            ]
          },
          "metadata": {
            "tags": []
          }
        }
      ]
    },
    {
      "cell_type": "code",
      "metadata": {
        "id": "zQywE7U_9iII",
        "colab_type": "code",
        "colab": {}
      },
      "source": [
        "# 7. How many short distance flights (air_time <= 120 mins)\n",
        "# 8. How many are long distance flights (air_time >120 mins)\n",
        "\n",
        "for flightdist in df_flighttime:\n",
        "    df_flighttime.loc[df_flighttime['air_time'] <= '120', 'FlightLength'] = 'Short_Flight'\n",
        "    df_flighttime.loc[df_flighttime['air_time'] > '120', 'FlightLength'] = 'Long_Dist_Flight'"
      ],
      "execution_count": 0,
      "outputs": []
    },
    {
      "cell_type": "code",
      "metadata": {
        "id": "I4q_VqfL9iIK",
        "colab_type": "code",
        "colab": {},
        "outputId": "6ea2c84e-7432-4ae1-e269-ee6a408c6b35"
      },
      "source": [
        "f,ax=nyc_plt.subplots(1,2,figsize=(20,8))\n",
        "df_flighttime['FlightLength'].value_counts().plot.pie(explode=[0.05,0.05],autopct='%1.1f%%',ax=ax[0],shadow=True)\n",
        "ax[0].set_title('FlightLength')\n",
        "ax[0].set_ylabel('%')\n",
        "sns.countplot('FlightLength',order = df_flighttime['FlightLength'].value_counts().index, data=df_flighttime,ax=ax[1])\n",
        "ax[1].set_title('FlightLength')\n",
        "nyc_plt.show()\n",
        "\n",
        "print('FlightLength represents wether the flight was Short Flight (upto 1 Hr), Medium Dist Flight (1 to 2 Hrs), Long Dist Flight(more than 2 Hrs)')"
      ],
      "execution_count": 0,
      "outputs": [
        {
          "output_type": "display_data",
          "data": {
            "image/png": "[encoded data removed]",
            "text/plain": [
              "<Figure size 1440x576 with 2 Axes>"
            ]
          },
          "metadata": {
            "tags": []
          }
        },
        {
          "output_type": "stream",
          "text": [
            "FlightLength represents wether the flight was Short Flight (upto 1 Hr), Medium Dist Flight (1 to 2 Hrs), Long Dist Flight(more than 2 Hrs)\n"
          ],
          "name": "stdout"
        }
      ]
    },
    {
      "cell_type": "code",
      "metadata": {
        "id": "655bBOdf9iIM",
        "colab_type": "code",
        "colab": {}
      },
      "source": [
        "# Inferences which can be drawn from EDA \n",
        "\n",
        "#This data is only for 1 year. This it would be too hasty to make significant inferences from this data\n",
        "#So far we can conclude that all 3 airports in NYC are equally busy. \n",
        "\n",
        "#United Airlines(UA), Jet Blue (B9) and Delta Airlines (DL) are most busy airlines.\n",
        "#However there is signifcant difference in usage of top 4 airlines vs others\n",
        "\n",
        "#O'Hare (ORD), Atlanta (ATL) and Los Angeles (LAX) are top 3 destinations US prefered by the custmers.\n",
        "\n",
        "#Many flights are getting departed before time (more than 50%)\n",
        "#HoweverSignificant number of flights (38%) are having delayed departure.\n",
        "\n",
        "#More Delays are happening during April, June and July 2013, with a least delay during Nov 2013.\n",
        "\n",
        "# Majority of the flights getting departed are more than 2 hrs of flight.\n",
        "\n",
        "\n",
        "\n",
        "#Actionable Insights\n",
        "\n",
        "#While the dataset itself doesn't offer a solution to the delay issue, it's clear that delay reduction has many intertwined variables. \n",
        "\n",
        "#It is also important to identify if any operational delay of ground staff or any late reporting of passengers at the gate having compunding effects on delays\n",
        "\n",
        "#Also it is importat to note if a solution applicable to one type of delay will heavily affect the others, resulting in a compounded effect that will allow more \n",
        "#efficient operations; benefiting passengers, airports, carriers.\n",
        "\n",
        "#It is also important to get multiple last few years of data to see any improvements or detoriation observed over years. \n",
        "\n",
        "#Also it is must to have weather details to have correct insigts.\n",
        "\n",
        "\n",
        "\n",
        "\n",
        "\n",
        "\n",
        "\n",
        "\n",
        "\n",
        "\n",
        "\n",
        "\n",
        "\n",
        "\n",
        "\n",
        "\n",
        "\n",
        "\n",
        "\n",
        "\n",
        "\n",
        "\n",
        "\n",
        "\n",
        "\n",
        "\n",
        "\n",
        "\n"
      ],
      "execution_count": 0,
      "outputs": []
    }
  ]
}