{
  "nbformat": 4,
  "nbformat_minor": 0,
  "metadata": {
    "colab": {
      "name": "Copy of capstone1.ipynb",
      "provenance": [],
      "collapsed_sections": [],
      "include_colab_link": true
    },
    "kernelspec": {
      "name": "python3",
      "display_name": "Python 3"
    }
  },
  "cells": [
    {
      "cell_type": "markdown",
      "metadata": {
        "id": "view-in-github",
        "colab_type": "text"
      },
      "source": [
        "<a href=\"https://colab.research.google.com/github/DsStudentSid/InitialPaythonAssignments/blob/master/capstone-group.ipynb\" target=\"_parent\"><img src=\"https://colab.research.google.com/assets/colab-badge.svg\" alt=\"Open In Colab\"/></a>"
      ]
    },
    {
      "cell_type": "code",
      "metadata": {
        "id": "qPqEhEWZoeXw",
        "colab_type": "code",
        "outputId": "daddbbdf-3ae4-4bea-b1c7-cdb5c844e7c9",
        "colab": {
          "base_uri": "https://localhost:8080/",
          "height": 124
        }
      },
      "source": [
        "pip install mysql-connector-python"
      ],
      "execution_count": 28,
      "outputs": [
        {
          "output_type": "stream",
          "text": [
            "Requirement already satisfied: mysql-connector-python in /usr/local/lib/python3.6/dist-packages (8.0.19)\n",
            "Requirement already satisfied: protobuf==3.6.1 in /usr/local/lib/python3.6/dist-packages (from mysql-connector-python) (3.6.1)\n",
            "Requirement already satisfied: dnspython==1.16.0 in /usr/local/lib/python3.6/dist-packages (from mysql-connector-python) (1.16.0)\n",
            "Requirement already satisfied: six>=1.9 in /usr/local/lib/python3.6/dist-packages (from protobuf==3.6.1->mysql-connector-python) (1.12.0)\n",
            "Requirement already satisfied: setuptools in /usr/local/lib/python3.6/dist-packages (from protobuf==3.6.1->mysql-connector-python) (45.1.0)\n"
          ],
          "name": "stdout"
        }
      ]
    },
    {
      "cell_type": "code",
      "metadata": {
        "id": "zZymDujTmQJy",
        "colab_type": "code",
        "outputId": "efcf5ea5-97ab-4dcd-d39a-5e74e6a8b165",
        "colab": {
          "base_uri": "https://localhost:8080/",
          "height": 69
        }
      },
      "source": [
        "import mysql.connector as ms\n",
        "\n",
        "cnx = ms.connect(host='cpanel.insaid.co',user='student', password='student',database='Capstone1')\n",
        "cursor = cnx.cursor()\n",
        "\n",
        "cursor.execute(\"SHOW TABLES\")\n",
        "\n",
        "tables = cursor.fetchall() ## it returns list of tables present in the database\n",
        "\n",
        "## showing all the tables one by one\n",
        "for table in tables:\n",
        "    print(table)\n"
      ],
      "execution_count": 43,
      "outputs": [
        {
          "output_type": "stream",
          "text": [
            "('events_data',)\n",
            "('gender_age_train',)\n",
            "('phone_brand_device_model',)\n"
          ],
          "name": "stdout"
        }
      ]
    },
    {
      "cell_type": "markdown",
      "metadata": {
        "id": "JPZtX9gwE5rf",
        "colab_type": "text"
      },
      "source": [
        "**Gender Age Table**"
      ]
    },
    {
      "cell_type": "code",
      "metadata": {
        "id": "I1_HAoRjEyP_",
        "colab_type": "code",
        "outputId": "0fb944fd-d817-4ea4-ce85-bdaee9277e90",
        "colab": {
          "base_uri": "https://localhost:8080/",
          "height": 52
        }
      },
      "source": [
        "sql_select_Query = (\"select * from gender_age_train\")\n",
        "cursor.execute(sql_select_Query)\n",
        "print(cursor)\n",
        "gender_age_data=cursor.fetchall()\n",
        "print(gender_age_data[0])"
      ],
      "execution_count": 44,
      "outputs": [
        {
          "output_type": "stream",
          "text": [
            "CMySQLCursor: select * from gender_age_train\n",
            "(-8076087639492063270, 'M', 35, 'M32-38')\n"
          ],
          "name": "stdout"
        }
      ]
    },
    {
      "cell_type": "code",
      "metadata": {
        "id": "hCQK_Q_VG_va",
        "colab_type": "code",
        "colab": {}
      },
      "source": [
        ""
      ],
      "execution_count": 0,
      "outputs": []
    },
    {
      "cell_type": "code",
      "metadata": {
        "id": "fQ2c4CCYpbXL",
        "colab_type": "code",
        "colab": {}
      },
      "source": [
        "#for x in gender_age_data:\n",
        "#  print(x)"
      ],
      "execution_count": 0,
      "outputs": []
    },
    {
      "cell_type": "code",
      "metadata": {
        "id": "9duzDWk3uSbZ",
        "colab_type": "code",
        "colab": {}
      },
      "source": [
        "\n",
        "import numpy as np\n",
        "import pandas as pd\n",
        "import matplotlib.pyplot as plt\n",
        "%matplotlib inline\n",
        "import seaborn as sns\n",
        "\n",
        "\n",
        "import warnings\n",
        "warnings.filterwarnings(\"ignore\")\n",
        "warnings.filterwarnings(\"ignore\",category=DeprecationWarning)"
      ],
      "execution_count": 0,
      "outputs": []
    },
    {
      "cell_type": "code",
      "metadata": {
        "id": "smTY16SVuGL3",
        "colab_type": "code",
        "outputId": "346480d3-4657-4ada-ffd0-fcf0dc127cdd",
        "colab": {
          "base_uri": "https://localhost:8080/",
          "height": 35
        }
      },
      "source": [
        "gender_age_df = pd.DataFrame(gender_age_data)\n",
        "column_names = [i[0] for i in cursor.description]\n",
        "\n",
        "gender_age_df.columns = column_names\n",
        "len(gender_age_df)"
      ],
      "execution_count": 47,
      "outputs": [
        {
          "output_type": "execute_result",
          "data": {
            "text/plain": [
              "74645"
            ]
          },
          "metadata": {
            "tags": []
          },
          "execution_count": 47
        }
      ]
    },
    {
      "cell_type": "code",
      "metadata": {
        "id": "1H-EjarQvFJP",
        "colab_type": "code",
        "outputId": "98b6c3af-d990-4e26-cfd4-ddf9072aae11",
        "colab": {
          "base_uri": "https://localhost:8080/",
          "height": 35
        }
      },
      "source": [
        "gender_age_df.to_csv(\"gender_age.csv\")\n",
        "gender_age_df.columns"
      ],
      "execution_count": 48,
      "outputs": [
        {
          "output_type": "execute_result",
          "data": {
            "text/plain": [
              "Index(['device_id', 'gender', 'age', 'group'], dtype='object')"
            ]
          },
          "metadata": {
            "tags": []
          },
          "execution_count": 48
        }
      ]
    },
    {
      "cell_type": "code",
      "metadata": {
        "id": "zaJLBfsYvsb7",
        "colab_type": "code",
        "outputId": "62a07947-b98f-4ef0-ffef-0c631e641758",
        "colab": {
          "base_uri": "https://localhost:8080/",
          "height": 202
        }
      },
      "source": [
        "gender_age_df.head()"
      ],
      "execution_count": 49,
      "outputs": [
        {
          "output_type": "execute_result",
          "data": {
            "text/html": [
              "<div>\n",
              "<style scoped>\n",
              "    .dataframe tbody tr th:only-of-type {\n",
              "        vertical-align: middle;\n",
              "    }\n",
              "\n",
              "    .dataframe tbody tr th {\n",
              "        vertical-align: top;\n",
              "    }\n",
              "\n",
              "    .dataframe thead th {\n",
              "        text-align: right;\n",
              "    }\n",
              "</style>\n",
              "<table border=\"1\" class=\"dataframe\">\n",
              "  <thead>\n",
              "    <tr style=\"text-align: right;\">\n",
              "      <th></th>\n",
              "      <th>device_id</th>\n",
              "      <th>gender</th>\n",
              "      <th>age</th>\n",
              "      <th>group</th>\n",
              "    </tr>\n",
              "  </thead>\n",
              "  <tbody>\n",
              "    <tr>\n",
              "      <th>0</th>\n",
              "      <td>-8076087639492063270</td>\n",
              "      <td>M</td>\n",
              "      <td>35</td>\n",
              "      <td>M32-38</td>\n",
              "    </tr>\n",
              "    <tr>\n",
              "      <th>1</th>\n",
              "      <td>-2897161552818060146</td>\n",
              "      <td>M</td>\n",
              "      <td>35</td>\n",
              "      <td>M32-38</td>\n",
              "    </tr>\n",
              "    <tr>\n",
              "      <th>2</th>\n",
              "      <td>-8260683887967679142</td>\n",
              "      <td>M</td>\n",
              "      <td>35</td>\n",
              "      <td>M32-38</td>\n",
              "    </tr>\n",
              "    <tr>\n",
              "      <th>3</th>\n",
              "      <td>-4938849341048082022</td>\n",
              "      <td>M</td>\n",
              "      <td>30</td>\n",
              "      <td>M29-31</td>\n",
              "    </tr>\n",
              "    <tr>\n",
              "      <th>4</th>\n",
              "      <td>245133531816851882</td>\n",
              "      <td>M</td>\n",
              "      <td>30</td>\n",
              "      <td>M29-31</td>\n",
              "    </tr>\n",
              "  </tbody>\n",
              "</table>\n",
              "</div>"
            ],
            "text/plain": [
              "             device_id gender  age   group\n",
              "0 -8076087639492063270      M   35  M32-38\n",
              "1 -2897161552818060146      M   35  M32-38\n",
              "2 -8260683887967679142      M   35  M32-38\n",
              "3 -4938849341048082022      M   30  M29-31\n",
              "4   245133531816851882      M   30  M29-31"
            ]
          },
          "metadata": {
            "tags": []
          },
          "execution_count": 49
        }
      ]
    },
    {
      "cell_type": "code",
      "metadata": {
        "id": "ZrYeZfEYwHRa",
        "colab_type": "code",
        "outputId": "5ad16619-f1d0-4b74-b57a-b2c048e66bdf",
        "colab": {
          "base_uri": "https://localhost:8080/",
          "height": 104
        }
      },
      "source": [
        "gender_age_df.dtypes"
      ],
      "execution_count": 50,
      "outputs": [
        {
          "output_type": "execute_result",
          "data": {
            "text/plain": [
              "device_id     int64\n",
              "gender       object\n",
              "age           int64\n",
              "group        object\n",
              "dtype: object"
            ]
          },
          "metadata": {
            "tags": []
          },
          "execution_count": 50
        }
      ]
    },
    {
      "cell_type": "code",
      "metadata": {
        "id": "1zfWg2rPwyf-",
        "colab_type": "code",
        "outputId": "3efe4239-7eac-4af3-f900-e4ddfff1b1cf",
        "colab": {
          "base_uri": "https://localhost:8080/",
          "height": 173
        }
      },
      "source": [
        "gender_age_df.info()"
      ],
      "execution_count": 51,
      "outputs": [
        {
          "output_type": "stream",
          "text": [
            "<class 'pandas.core.frame.DataFrame'>\n",
            "RangeIndex: 74645 entries, 0 to 74644\n",
            "Data columns (total 4 columns):\n",
            "device_id    74645 non-null int64\n",
            "gender       74645 non-null object\n",
            "age          74645 non-null int64\n",
            "group        74645 non-null object\n",
            "dtypes: int64(2), object(2)\n",
            "memory usage: 2.3+ MB\n"
          ],
          "name": "stdout"
        }
      ]
    },
    {
      "cell_type": "code",
      "metadata": {
        "id": "ZzQU5z1IxXr7",
        "colab_type": "code",
        "outputId": "0c0acf4e-9e45-445e-8207-af2c17a20693",
        "colab": {
          "base_uri": "https://localhost:8080/",
          "height": 294
        }
      },
      "source": [
        "gender_age_df.describe()"
      ],
      "execution_count": 52,
      "outputs": [
        {
          "output_type": "execute_result",
          "data": {
            "text/html": [
              "<div>\n",
              "<style scoped>\n",
              "    .dataframe tbody tr th:only-of-type {\n",
              "        vertical-align: middle;\n",
              "    }\n",
              "\n",
              "    .dataframe tbody tr th {\n",
              "        vertical-align: top;\n",
              "    }\n",
              "\n",
              "    .dataframe thead th {\n",
              "        text-align: right;\n",
              "    }\n",
              "</style>\n",
              "<table border=\"1\" class=\"dataframe\">\n",
              "  <thead>\n",
              "    <tr style=\"text-align: right;\">\n",
              "      <th></th>\n",
              "      <th>device_id</th>\n",
              "      <th>age</th>\n",
              "    </tr>\n",
              "  </thead>\n",
              "  <tbody>\n",
              "    <tr>\n",
              "      <th>count</th>\n",
              "      <td>7.464500e+04</td>\n",
              "      <td>74645.000000</td>\n",
              "    </tr>\n",
              "    <tr>\n",
              "      <th>mean</th>\n",
              "      <td>-7.491354e+14</td>\n",
              "      <td>31.410342</td>\n",
              "    </tr>\n",
              "    <tr>\n",
              "      <th>std</th>\n",
              "      <td>5.327150e+18</td>\n",
              "      <td>9.868735</td>\n",
              "    </tr>\n",
              "    <tr>\n",
              "      <th>min</th>\n",
              "      <td>-9.223067e+18</td>\n",
              "      <td>1.000000</td>\n",
              "    </tr>\n",
              "    <tr>\n",
              "      <th>25%</th>\n",
              "      <td>-4.617367e+18</td>\n",
              "      <td>25.000000</td>\n",
              "    </tr>\n",
              "    <tr>\n",
              "      <th>50%</th>\n",
              "      <td>-1.841362e+16</td>\n",
              "      <td>29.000000</td>\n",
              "    </tr>\n",
              "    <tr>\n",
              "      <th>75%</th>\n",
              "      <td>4.636656e+18</td>\n",
              "      <td>36.000000</td>\n",
              "    </tr>\n",
              "    <tr>\n",
              "      <th>max</th>\n",
              "      <td>9.222849e+18</td>\n",
              "      <td>96.000000</td>\n",
              "    </tr>\n",
              "  </tbody>\n",
              "</table>\n",
              "</div>"
            ],
            "text/plain": [
              "          device_id           age\n",
              "count  7.464500e+04  74645.000000\n",
              "mean  -7.491354e+14     31.410342\n",
              "std    5.327150e+18      9.868735\n",
              "min   -9.223067e+18      1.000000\n",
              "25%   -4.617367e+18     25.000000\n",
              "50%   -1.841362e+16     29.000000\n",
              "75%    4.636656e+18     36.000000\n",
              "max    9.222849e+18     96.000000"
            ]
          },
          "metadata": {
            "tags": []
          },
          "execution_count": 52
        }
      ]
    },
    {
      "cell_type": "code",
      "metadata": {
        "id": "tJK_s-0tLZzZ",
        "colab_type": "code",
        "outputId": "55eacea4-4d8a-42f7-8c08-34f4936eced4",
        "colab": {
          "base_uri": "https://localhost:8080/",
          "height": 52
        }
      },
      "source": [
        "gender_age_df.group.unique()"
      ],
      "execution_count": 53,
      "outputs": [
        {
          "output_type": "execute_result",
          "data": {
            "text/plain": [
              "array(['M32-38', 'M29-31', 'F24-26', 'F33-42', 'F27-28', 'M39+', 'M23-26',\n",
              "       'M27-28', 'M22-', 'F43+', 'F23-', 'F29-32'], dtype=object)"
            ]
          },
          "metadata": {
            "tags": []
          },
          "execution_count": 53
        }
      ]
    },
    {
      "cell_type": "code",
      "metadata": {
        "id": "J0pDEyNLMCJD",
        "colab_type": "code",
        "outputId": "c5b1a29a-b355-4bee-f561-00707e1023fa",
        "colab": {
          "base_uri": "https://localhost:8080/",
          "height": 243
        }
      },
      "source": [
        "gender_age_df.group.value_counts()"
      ],
      "execution_count": 54,
      "outputs": [
        {
          "output_type": "execute_result",
          "data": {
            "text/plain": [
              "M23-26    9605\n",
              "M32-38    9476\n",
              "M39+      8581\n",
              "M22-      7488\n",
              "M29-31    7309\n",
              "F33-42    5561\n",
              "M27-28    5445\n",
              "F23-      5050\n",
              "F29-32    4628\n",
              "F43+      4194\n",
              "F24-26    4190\n",
              "F27-28    3118\n",
              "Name: group, dtype: int64"
            ]
          },
          "metadata": {
            "tags": []
          },
          "execution_count": 54
        }
      ]
    },
    {
      "cell_type": "code",
      "metadata": {
        "id": "V8FOy4jm6Pwi",
        "colab_type": "code",
        "outputId": "db037f6b-733e-4f3a-be87-82222ad33fcb",
        "colab": {
          "base_uri": "https://localhost:8080/",
          "height": 327
        }
      },
      "source": [
        "gender_age_df['group'].value_counts().plot.bar(title='Freq dist of group Type')\n"
      ],
      "execution_count": 55,
      "outputs": [
        {
          "output_type": "execute_result",
          "data": {
            "text/plain": [
              "<matplotlib.axes._subplots.AxesSubplot at 0x7fe9c198a9b0>"
            ]
          },
          "metadata": {
            "tags": []
          },
          "execution_count": 55
        },
        {
          "output_type": "display_data",
          "data": {
            "image/png": "[encoded data removed]",
            "text/plain": [
              "<Figure size 432x288 with 1 Axes>"
            ]
          },
          "metadata": {
            "tags": []
          }
        }
      ]
    },
    {
      "cell_type": "markdown",
      "metadata": {
        "id": "bK_qyK1bEc14",
        "colab_type": "text"
      },
      "source": [
        "\n",
        "\n",
        "**Phone brand device Table**\n",
        "\n"
      ]
    },
    {
      "cell_type": "code",
      "metadata": {
        "id": "rU5LxdD2C65n",
        "colab_type": "code",
        "outputId": "f6a6b3d2-d8b1-4d39-a268-1cf1b9be9d9f",
        "colab": {
          "base_uri": "https://localhost:8080/",
          "height": 52
        }
      },
      "source": [
        "device_select_Query = (\"select * from phone_brand_device_model\")\n",
        "cursor.execute(device_select_Query)\n",
        "print(cursor)\n",
        "phone_brand_device=cursor.fetchall()\n",
        "print(phone_brand_device[0])"
      ],
      "execution_count": 56,
      "outputs": [
        {
          "output_type": "stream",
          "text": [
            "CMySQLCursor: select * from phone_brand_device_model\n",
            "(1877775838486905855, 'vivo', 'Y13')\n"
          ],
          "name": "stdout"
        }
      ]
    },
    {
      "cell_type": "code",
      "metadata": {
        "id": "5nqZty5WDti2",
        "colab_type": "code",
        "outputId": "93254a83-fe12-474e-c70c-209e025a24c4",
        "colab": {
          "base_uri": "https://localhost:8080/",
          "height": 35
        }
      },
      "source": [
        "phone_brand_df = pd.DataFrame(phone_brand_device)\n",
        "column_names = [i[0] for i in cursor.description]\n",
        "\n",
        "phone_brand_df.columns = column_names\n",
        "len(phone_brand_df)"
      ],
      "execution_count": 57,
      "outputs": [
        {
          "output_type": "execute_result",
          "data": {
            "text/plain": [
              "87726"
            ]
          },
          "metadata": {
            "tags": []
          },
          "execution_count": 57
        }
      ]
    },
    {
      "cell_type": "code",
      "metadata": {
        "id": "xSrm3dc-EFG4",
        "colab_type": "code",
        "outputId": "905064c8-7637-4b4d-ee15-2e9b55f653d7",
        "colab": {
          "base_uri": "https://localhost:8080/",
          "height": 35
        }
      },
      "source": [
        "phone_brand_df.to_csv(\"phone_brand.csv\")\n",
        "phone_brand_df.columns"
      ],
      "execution_count": 58,
      "outputs": [
        {
          "output_type": "execute_result",
          "data": {
            "text/plain": [
              "Index(['device_id', 'phone_brand', 'device_model'], dtype='object')"
            ]
          },
          "metadata": {
            "tags": []
          },
          "execution_count": 58
        }
      ]
    },
    {
      "cell_type": "code",
      "metadata": {
        "id": "jhwwWaEBGFQo",
        "colab_type": "code",
        "outputId": "049b35b6-2216-4a9b-c2c7-24234c04337f",
        "colab": {
          "base_uri": "https://localhost:8080/",
          "height": 202
        }
      },
      "source": [
        "phone_brand_df.head()"
      ],
      "execution_count": 59,
      "outputs": [
        {
          "output_type": "execute_result",
          "data": {
            "text/html": [
              "<div>\n",
              "<style scoped>\n",
              "    .dataframe tbody tr th:only-of-type {\n",
              "        vertical-align: middle;\n",
              "    }\n",
              "\n",
              "    .dataframe tbody tr th {\n",
              "        vertical-align: top;\n",
              "    }\n",
              "\n",
              "    .dataframe thead th {\n",
              "        text-align: right;\n",
              "    }\n",
              "</style>\n",
              "<table border=\"1\" class=\"dataframe\">\n",
              "  <thead>\n",
              "    <tr style=\"text-align: right;\">\n",
              "      <th></th>\n",
              "      <th>device_id</th>\n",
              "      <th>phone_brand</th>\n",
              "      <th>device_model</th>\n",
              "    </tr>\n",
              "  </thead>\n",
              "  <tbody>\n",
              "    <tr>\n",
              "      <th>0</th>\n",
              "      <td>1877775838486905855</td>\n",
              "      <td>vivo</td>\n",
              "      <td>Y13</td>\n",
              "    </tr>\n",
              "    <tr>\n",
              "      <th>1</th>\n",
              "      <td>-3766087376657242966</td>\n",
              "      <td>小米</td>\n",
              "      <td>V183</td>\n",
              "    </tr>\n",
              "    <tr>\n",
              "      <th>2</th>\n",
              "      <td>-6238937574958215831</td>\n",
              "      <td>OPPO</td>\n",
              "      <td>R7s</td>\n",
              "    </tr>\n",
              "    <tr>\n",
              "      <th>3</th>\n",
              "      <td>8973197758510677470</td>\n",
              "      <td>三星</td>\n",
              "      <td>A368t</td>\n",
              "    </tr>\n",
              "    <tr>\n",
              "      <th>4</th>\n",
              "      <td>-2015528097870762664</td>\n",
              "      <td>小米</td>\n",
              "      <td>红米Note2</td>\n",
              "    </tr>\n",
              "  </tbody>\n",
              "</table>\n",
              "</div>"
            ],
            "text/plain": [
              "             device_id phone_brand device_model\n",
              "0  1877775838486905855        vivo          Y13\n",
              "1 -3766087376657242966          小米         V183\n",
              "2 -6238937574958215831        OPPO          R7s\n",
              "3  8973197758510677470          三星        A368t\n",
              "4 -2015528097870762664          小米      红米Note2"
            ]
          },
          "metadata": {
            "tags": []
          },
          "execution_count": 59
        }
      ]
    },
    {
      "cell_type": "code",
      "metadata": {
        "id": "wtpHQjxMGiaN",
        "colab_type": "code",
        "outputId": "bbffc73f-bfc1-456f-d27a-3bef5a799136",
        "colab": {
          "base_uri": "https://localhost:8080/",
          "height": 156
        }
      },
      "source": [
        "phone_brand_df.info()"
      ],
      "execution_count": 60,
      "outputs": [
        {
          "output_type": "stream",
          "text": [
            "<class 'pandas.core.frame.DataFrame'>\n",
            "RangeIndex: 87726 entries, 0 to 87725\n",
            "Data columns (total 3 columns):\n",
            "device_id       87726 non-null int64\n",
            "phone_brand     87726 non-null object\n",
            "device_model    87726 non-null object\n",
            "dtypes: int64(1), object(2)\n",
            "memory usage: 2.0+ MB\n"
          ],
          "name": "stdout"
        }
      ]
    },
    {
      "cell_type": "code",
      "metadata": {
        "id": "AJL8kXZmGnvs",
        "colab_type": "code",
        "outputId": "59c684c0-64a2-4e7e-aa58-62ff4d6cedf3",
        "colab": {
          "base_uri": "https://localhost:8080/",
          "height": 294
        }
      },
      "source": [
        "phone_brand_df.describe()"
      ],
      "execution_count": 61,
      "outputs": [
        {
          "output_type": "execute_result",
          "data": {
            "text/html": [
              "<div>\n",
              "<style scoped>\n",
              "    .dataframe tbody tr th:only-of-type {\n",
              "        vertical-align: middle;\n",
              "    }\n",
              "\n",
              "    .dataframe tbody tr th {\n",
              "        vertical-align: top;\n",
              "    }\n",
              "\n",
              "    .dataframe thead th {\n",
              "        text-align: right;\n",
              "    }\n",
              "</style>\n",
              "<table border=\"1\" class=\"dataframe\">\n",
              "  <thead>\n",
              "    <tr style=\"text-align: right;\">\n",
              "      <th></th>\n",
              "      <th>device_id</th>\n",
              "    </tr>\n",
              "  </thead>\n",
              "  <tbody>\n",
              "    <tr>\n",
              "      <th>count</th>\n",
              "      <td>8.772600e+04</td>\n",
              "    </tr>\n",
              "    <tr>\n",
              "      <th>mean</th>\n",
              "      <td>-5.212557e+15</td>\n",
              "    </tr>\n",
              "    <tr>\n",
              "      <th>std</th>\n",
              "      <td>5.330157e+18</td>\n",
              "    </tr>\n",
              "    <tr>\n",
              "      <th>min</th>\n",
              "      <td>-9.223322e+18</td>\n",
              "    </tr>\n",
              "    <tr>\n",
              "      <th>25%</th>\n",
              "      <td>-4.623331e+18</td>\n",
              "    </tr>\n",
              "    <tr>\n",
              "      <th>50%</th>\n",
              "      <td>-3.109802e+16</td>\n",
              "    </tr>\n",
              "    <tr>\n",
              "      <th>75%</th>\n",
              "      <td>4.635194e+18</td>\n",
              "    </tr>\n",
              "    <tr>\n",
              "      <th>max</th>\n",
              "      <td>9.222849e+18</td>\n",
              "    </tr>\n",
              "  </tbody>\n",
              "</table>\n",
              "</div>"
            ],
            "text/plain": [
              "          device_id\n",
              "count  8.772600e+04\n",
              "mean  -5.212557e+15\n",
              "std    5.330157e+18\n",
              "min   -9.223322e+18\n",
              "25%   -4.623331e+18\n",
              "50%   -3.109802e+16\n",
              "75%    4.635194e+18\n",
              "max    9.222849e+18"
            ]
          },
          "metadata": {
            "tags": []
          },
          "execution_count": 61
        }
      ]
    },
    {
      "cell_type": "code",
      "metadata": {
        "id": "oaia19m2Kz0T",
        "colab_type": "code",
        "outputId": "705a2d20-d7ca-4752-cce8-1de937aff886",
        "colab": {
          "base_uri": "https://localhost:8080/",
          "height": 52
        }
      },
      "source": [
        "phone_brand_df.device_model.unique()"
      ],
      "execution_count": 62,
      "outputs": [
        {
          "output_type": "execute_result",
          "data": {
            "text/plain": [
              "array(['Y13', 'V183', 'R7s', ..., 'Galaxy Tab S T705', 'IVO 8800',\n",
              "       'U59GT'], dtype=object)"
            ]
          },
          "metadata": {
            "tags": []
          },
          "execution_count": 62
        }
      ]
    },
    {
      "cell_type": "code",
      "metadata": {
        "id": "rrRv5i-E67a2",
        "colab_type": "code",
        "outputId": "56125eca-f4a4-4d6b-b55b-27d1f404caad",
        "colab": {
          "base_uri": "https://localhost:8080/",
          "height": 208
        }
      },
      "source": [
        "df3 = pd.merge(gender_age_df, phone_brand_df)\n",
        "df3.info()"
      ],
      "execution_count": 64,
      "outputs": [
        {
          "output_type": "stream",
          "text": [
            "<class 'pandas.core.frame.DataFrame'>\n",
            "Int64Index: 74617 entries, 0 to 74616\n",
            "Data columns (total 6 columns):\n",
            "device_id       74617 non-null int64\n",
            "gender          74617 non-null object\n",
            "age             74617 non-null int64\n",
            "group           74617 non-null object\n",
            "phone_brand     74617 non-null object\n",
            "device_model    74617 non-null object\n",
            "dtypes: int64(2), object(4)\n",
            "memory usage: 4.0+ MB\n"
          ],
          "name": "stdout"
        }
      ]
    },
    {
      "cell_type": "code",
      "metadata": {
        "id": "VzCuvQ_oaNQt",
        "colab_type": "code",
        "outputId": "fb757f70-7df0-41b1-97ff-01dd2d91263e",
        "colab": {
          "base_uri": "https://localhost:8080/",
          "height": 202
        }
      },
      "source": [
        "df3.head()"
      ],
      "execution_count": 65,
      "outputs": [
        {
          "output_type": "execute_result",
          "data": {
            "text/html": [
              "<div>\n",
              "<style scoped>\n",
              "    .dataframe tbody tr th:only-of-type {\n",
              "        vertical-align: middle;\n",
              "    }\n",
              "\n",
              "    .dataframe tbody tr th {\n",
              "        vertical-align: top;\n",
              "    }\n",
              "\n",
              "    .dataframe thead th {\n",
              "        text-align: right;\n",
              "    }\n",
              "</style>\n",
              "<table border=\"1\" class=\"dataframe\">\n",
              "  <thead>\n",
              "    <tr style=\"text-align: right;\">\n",
              "      <th></th>\n",
              "      <th>device_id</th>\n",
              "      <th>gender</th>\n",
              "      <th>age</th>\n",
              "      <th>group</th>\n",
              "      <th>phone_brand</th>\n",
              "      <th>device_model</th>\n",
              "    </tr>\n",
              "  </thead>\n",
              "  <tbody>\n",
              "    <tr>\n",
              "      <th>0</th>\n",
              "      <td>-8076087639492063270</td>\n",
              "      <td>M</td>\n",
              "      <td>35</td>\n",
              "      <td>M32-38</td>\n",
              "      <td>小米</td>\n",
              "      <td>MI 2</td>\n",
              "    </tr>\n",
              "    <tr>\n",
              "      <th>1</th>\n",
              "      <td>-2897161552818060146</td>\n",
              "      <td>M</td>\n",
              "      <td>35</td>\n",
              "      <td>M32-38</td>\n",
              "      <td>小米</td>\n",
              "      <td>MI 2</td>\n",
              "    </tr>\n",
              "    <tr>\n",
              "      <th>2</th>\n",
              "      <td>-8260683887967679142</td>\n",
              "      <td>M</td>\n",
              "      <td>35</td>\n",
              "      <td>M32-38</td>\n",
              "      <td>小米</td>\n",
              "      <td>MI 2</td>\n",
              "    </tr>\n",
              "    <tr>\n",
              "      <th>3</th>\n",
              "      <td>-4938849341048082022</td>\n",
              "      <td>M</td>\n",
              "      <td>30</td>\n",
              "      <td>M29-31</td>\n",
              "      <td>三星</td>\n",
              "      <td>Galaxy S4</td>\n",
              "    </tr>\n",
              "    <tr>\n",
              "      <th>4</th>\n",
              "      <td>245133531816851882</td>\n",
              "      <td>M</td>\n",
              "      <td>30</td>\n",
              "      <td>M29-31</td>\n",
              "      <td>SUGAR</td>\n",
              "      <td>时尚手机</td>\n",
              "    </tr>\n",
              "  </tbody>\n",
              "</table>\n",
              "</div>"
            ],
            "text/plain": [
              "             device_id gender  age   group phone_brand device_model\n",
              "0 -8076087639492063270      M   35  M32-38          小米         MI 2\n",
              "1 -2897161552818060146      M   35  M32-38          小米         MI 2\n",
              "2 -8260683887967679142      M   35  M32-38          小米         MI 2\n",
              "3 -4938849341048082022      M   30  M29-31          三星    Galaxy S4\n",
              "4   245133531816851882      M   30  M29-31       SUGAR         时尚手机"
            ]
          },
          "metadata": {
            "tags": []
          },
          "execution_count": 65
        }
      ]
    },
    {
      "cell_type": "markdown",
      "metadata": {
        "id": "SHxFVCdEGsla",
        "colab_type": "text"
      },
      "source": [
        "**Event Data table**"
      ]
    },
    {
      "cell_type": "code",
      "metadata": {
        "id": "yDisYF1rJlbW",
        "colab_type": "code",
        "colab": {
          "base_uri": "https://localhost:8080/",
          "height": 52
        },
        "outputId": "1e69701e-b5ff-47b6-e956-457857ecdbb1"
      },
      "source": [
        "#To load Event data Frame\n",
        "sql_select_Query = (\"select * from events_data\")\n",
        "cursor.execute(sql_select_Query)\n",
        "print(cursor)\n",
        "Event_Data=cursor.fetchall()\n",
        "print(Event_Data[0])"
      ],
      "execution_count": 66,
      "outputs": [
        {
          "output_type": "stream",
          "text": [
            "CMySQLCursor: select * from events_data\n",
            "(1, 29182687948017175, datetime.datetime(2016, 5, 1, 0, 55, 25), 77.266052, 28.68161, 'Delhi', 'Delhi')\n"
          ],
          "name": "stdout"
        }
      ]
    },
    {
      "cell_type": "code",
      "metadata": {
        "id": "rrzbEuGPWjql",
        "colab_type": "code",
        "colab": {}
      },
      "source": [
        "#!pip install -U -q PyDrive\n",
        "#from pydrive.auth import GoogleAuth\n",
        "#from pydrive.drive import GoogleDrive\n",
        "#from google.colab import auth\n",
        "#from oauth2client.client import GoogleCredentials"
      ],
      "execution_count": 0,
      "outputs": []
    },
    {
      "cell_type": "code",
      "metadata": {
        "id": "wuCAwTY3Jj0L",
        "colab_type": "code",
        "colab": {}
      },
      "source": [
        ""
      ],
      "execution_count": 0,
      "outputs": []
    },
    {
      "cell_type": "code",
      "metadata": {
        "id": "eld5QIA5Wo3W",
        "colab_type": "code",
        "colab": {}
      },
      "source": [
        "# Authenticate and create the PyDrive client.\n",
        "#auth.authenticate_user()\n",
        "#gauth = GoogleAuth()\n",
        "#gauth.credentials = GoogleCredentials.get_application_default()\n",
        "#drive = GoogleDrive(gauth)"
      ],
      "execution_count": 0,
      "outputs": []
    },
    {
      "cell_type": "code",
      "metadata": {
        "id": "nwUkdm8mW6bV",
        "colab_type": "code",
        "outputId": "793cc43c-fcd2-4dd3-d8af-ad5ebdced0ae",
        "colab": {
          "base_uri": "https://localhost:8080/",
          "height": 35
        }
      },
      "source": [
        "#link = 'https://drive.google.com/open?id=1nlZw1xzY3tW8TlKJL18yMCfi3T6Eo9o_' # The shareable link\n",
        "#fluff, id = link.split('=')\n",
        "#print (id) # Verify that you have everything after '='"
      ],
      "execution_count": 104,
      "outputs": [
        {
          "output_type": "stream",
          "text": [
            "1nlZw1xzY3tW8TlKJL18yMCfi3T6Eo9o_\n"
          ],
          "name": "stdout"
        }
      ]
    },
    {
      "cell_type": "code",
      "metadata": {
        "id": "eZkc_1v9G4e6",
        "colab_type": "code",
        "colab": {}
      },
      "source": [
        "#downloaded = drive.CreateFile({'id':id}) \n",
        "#downloaded.GetContentFile('events_data_file.csv')  \n",
        "#event_data_df = pd.read_csv('events_data_file.csv')\n",
        "# Dataset is now stored in a Pandas Dataframe"
      ],
      "execution_count": 0,
      "outputs": []
    },
    {
      "cell_type": "code",
      "metadata": {
        "id": "XHK7r_o4YdBk",
        "colab_type": "code",
        "outputId": "a0b7c8c4-e50d-4c57-c41d-7f8d3e532218",
        "colab": {
          "base_uri": "https://localhost:8080/",
          "height": 35
        }
      },
      "source": [
        "event_data_df = pd.DataFrame(Event_Data)\n",
        "column_names = [i[0] for i in cursor.description]\n",
        "\n",
        "event_data_df.columns = column_names\n",
        "len(event_data_df)\n"
      ],
      "execution_count": 67,
      "outputs": [
        {
          "output_type": "execute_result",
          "data": {
            "text/plain": [
              "3252950"
            ]
          },
          "metadata": {
            "tags": []
          },
          "execution_count": 67
        }
      ]
    },
    {
      "cell_type": "code",
      "metadata": {
        "id": "cA2tM-yTOrwj",
        "colab_type": "code",
        "colab": {
          "base_uri": "https://localhost:8080/",
          "height": 202
        },
        "outputId": "7bb1ab09-4db7-4b8c-8d5c-a8dd823a3bff"
      },
      "source": [
        "event_data_df.head()"
      ],
      "execution_count": 68,
      "outputs": [
        {
          "output_type": "execute_result",
          "data": {
            "text/html": [
              "<div>\n",
              "<style scoped>\n",
              "    .dataframe tbody tr th:only-of-type {\n",
              "        vertical-align: middle;\n",
              "    }\n",
              "\n",
              "    .dataframe tbody tr th {\n",
              "        vertical-align: top;\n",
              "    }\n",
              "\n",
              "    .dataframe thead th {\n",
              "        text-align: right;\n",
              "    }\n",
              "</style>\n",
              "<table border=\"1\" class=\"dataframe\">\n",
              "  <thead>\n",
              "    <tr style=\"text-align: right;\">\n",
              "      <th></th>\n",
              "      <th>event_id</th>\n",
              "      <th>device_id</th>\n",
              "      <th>timestamp</th>\n",
              "      <th>longitude</th>\n",
              "      <th>latitude</th>\n",
              "      <th>city</th>\n",
              "      <th>state</th>\n",
              "    </tr>\n",
              "  </thead>\n",
              "  <tbody>\n",
              "    <tr>\n",
              "      <th>0</th>\n",
              "      <td>1</td>\n",
              "      <td>2.918269e+16</td>\n",
              "      <td>2016-05-01 00:55:25</td>\n",
              "      <td>77.266052</td>\n",
              "      <td>28.68161</td>\n",
              "      <td>Delhi</td>\n",
              "      <td>Delhi</td>\n",
              "    </tr>\n",
              "    <tr>\n",
              "      <th>1</th>\n",
              "      <td>7104</td>\n",
              "      <td>2.918269e+16</td>\n",
              "      <td>2016-05-02 09:37:02</td>\n",
              "      <td>77.266052</td>\n",
              "      <td>28.68161</td>\n",
              "      <td>Delhi</td>\n",
              "      <td>Delhi</td>\n",
              "    </tr>\n",
              "    <tr>\n",
              "      <th>2</th>\n",
              "      <td>29661</td>\n",
              "      <td>2.918269e+16</td>\n",
              "      <td>2016-05-04 00:56:04</td>\n",
              "      <td>77.266052</td>\n",
              "      <td>28.68161</td>\n",
              "      <td>Delhi</td>\n",
              "      <td>Delhi</td>\n",
              "    </tr>\n",
              "    <tr>\n",
              "      <th>3</th>\n",
              "      <td>33133</td>\n",
              "      <td>2.918269e+16</td>\n",
              "      <td>2016-05-06 05:01:15</td>\n",
              "      <td>77.266052</td>\n",
              "      <td>28.68161</td>\n",
              "      <td>Delhi</td>\n",
              "      <td>Delhi</td>\n",
              "    </tr>\n",
              "    <tr>\n",
              "      <th>4</th>\n",
              "      <td>38980</td>\n",
              "      <td>2.918269e+16</td>\n",
              "      <td>2016-05-06 09:55:04</td>\n",
              "      <td>77.266052</td>\n",
              "      <td>28.68161</td>\n",
              "      <td>Delhi</td>\n",
              "      <td>Delhi</td>\n",
              "    </tr>\n",
              "  </tbody>\n",
              "</table>\n",
              "</div>"
            ],
            "text/plain": [
              "   event_id     device_id           timestamp  ...  latitude   city  state\n",
              "0         1  2.918269e+16 2016-05-01 00:55:25  ...  28.68161  Delhi  Delhi\n",
              "1      7104  2.918269e+16 2016-05-02 09:37:02  ...  28.68161  Delhi  Delhi\n",
              "2     29661  2.918269e+16 2016-05-04 00:56:04  ...  28.68161  Delhi  Delhi\n",
              "3     33133  2.918269e+16 2016-05-06 05:01:15  ...  28.68161  Delhi  Delhi\n",
              "4     38980  2.918269e+16 2016-05-06 09:55:04  ...  28.68161  Delhi  Delhi\n",
              "\n",
              "[5 rows x 7 columns]"
            ]
          },
          "metadata": {
            "tags": []
          },
          "execution_count": 68
        }
      ]
    },
    {
      "cell_type": "code",
      "metadata": {
        "id": "PEcMtxF-YjW3",
        "colab_type": "code",
        "outputId": "a190e5db-42d3-4934-ea67-e9c221bd55c4",
        "colab": {
          "base_uri": "https://localhost:8080/",
          "height": 225
        }
      },
      "source": [
        "event_data_df.info()"
      ],
      "execution_count": 69,
      "outputs": [
        {
          "output_type": "stream",
          "text": [
            "<class 'pandas.core.frame.DataFrame'>\n",
            "RangeIndex: 3252950 entries, 0 to 3252949\n",
            "Data columns (total 7 columns):\n",
            "event_id     int64\n",
            "device_id    float64\n",
            "timestamp    datetime64[ns]\n",
            "longitude    float64\n",
            "latitude     float64\n",
            "city         object\n",
            "state        object\n",
            "dtypes: datetime64[ns](1), float64(3), int64(1), object(2)\n",
            "memory usage: 173.7+ MB\n"
          ],
          "name": "stdout"
        }
      ]
    },
    {
      "cell_type": "code",
      "metadata": {
        "id": "W0XHOk_3Yosu",
        "colab_type": "code",
        "outputId": "708216bf-20a1-44a7-fc15-848b5aef75a5",
        "colab": {
          "base_uri": "https://localhost:8080/",
          "height": 294
        }
      },
      "source": [
        "event_data_df.describe()"
      ],
      "execution_count": 70,
      "outputs": [
        {
          "output_type": "execute_result",
          "data": {
            "text/html": [
              "<div>\n",
              "<style scoped>\n",
              "    .dataframe tbody tr th:only-of-type {\n",
              "        vertical-align: middle;\n",
              "    }\n",
              "\n",
              "    .dataframe tbody tr th {\n",
              "        vertical-align: top;\n",
              "    }\n",
              "\n",
              "    .dataframe thead th {\n",
              "        text-align: right;\n",
              "    }\n",
              "</style>\n",
              "<table border=\"1\" class=\"dataframe\">\n",
              "  <thead>\n",
              "    <tr style=\"text-align: right;\">\n",
              "      <th></th>\n",
              "      <th>event_id</th>\n",
              "      <th>device_id</th>\n",
              "      <th>longitude</th>\n",
              "      <th>latitude</th>\n",
              "    </tr>\n",
              "  </thead>\n",
              "  <tbody>\n",
              "    <tr>\n",
              "      <th>count</th>\n",
              "      <td>3.252950e+06</td>\n",
              "      <td>3.252497e+06</td>\n",
              "      <td>3.252527e+06</td>\n",
              "      <td>3.252527e+06</td>\n",
              "    </tr>\n",
              "    <tr>\n",
              "      <th>mean</th>\n",
              "      <td>1.626476e+06</td>\n",
              "      <td>1.012200e+17</td>\n",
              "      <td>7.815868e+01</td>\n",
              "      <td>2.168851e+01</td>\n",
              "    </tr>\n",
              "    <tr>\n",
              "      <th>std</th>\n",
              "      <td>9.390459e+05</td>\n",
              "      <td>5.316758e+18</td>\n",
              "      <td>4.235570e+00</td>\n",
              "      <td>5.789111e+00</td>\n",
              "    </tr>\n",
              "    <tr>\n",
              "      <th>min</th>\n",
              "      <td>1.000000e+00</td>\n",
              "      <td>-9.222957e+18</td>\n",
              "      <td>1.256700e+01</td>\n",
              "      <td>8.190110e+00</td>\n",
              "    </tr>\n",
              "    <tr>\n",
              "      <th>25%</th>\n",
              "      <td>8.132382e+05</td>\n",
              "      <td>-4.540611e+18</td>\n",
              "      <td>7.583543e+01</td>\n",
              "      <td>1.780170e+01</td>\n",
              "    </tr>\n",
              "    <tr>\n",
              "      <th>50%</th>\n",
              "      <td>1.626476e+06</td>\n",
              "      <td>1.726820e+17</td>\n",
              "      <td>7.726814e+01</td>\n",
              "      <td>2.216454e+01</td>\n",
              "    </tr>\n",
              "    <tr>\n",
              "      <th>75%</th>\n",
              "      <td>2.439713e+06</td>\n",
              "      <td>4.861813e+18</td>\n",
              "      <td>8.031916e+01</td>\n",
              "      <td>2.868278e+01</td>\n",
              "    </tr>\n",
              "    <tr>\n",
              "      <th>max</th>\n",
              "      <td>3.252950e+06</td>\n",
              "      <td>9.222849e+18</td>\n",
              "      <td>9.545946e+01</td>\n",
              "      <td>4.187190e+01</td>\n",
              "    </tr>\n",
              "  </tbody>\n",
              "</table>\n",
              "</div>"
            ],
            "text/plain": [
              "           event_id     device_id     longitude      latitude\n",
              "count  3.252950e+06  3.252497e+06  3.252527e+06  3.252527e+06\n",
              "mean   1.626476e+06  1.012200e+17  7.815868e+01  2.168851e+01\n",
              "std    9.390459e+05  5.316758e+18  4.235570e+00  5.789111e+00\n",
              "min    1.000000e+00 -9.222957e+18  1.256700e+01  8.190110e+00\n",
              "25%    8.132382e+05 -4.540611e+18  7.583543e+01  1.780170e+01\n",
              "50%    1.626476e+06  1.726820e+17  7.726814e+01  2.216454e+01\n",
              "75%    2.439713e+06  4.861813e+18  8.031916e+01  2.868278e+01\n",
              "max    3.252950e+06  9.222849e+18  9.545946e+01  4.187190e+01"
            ]
          },
          "metadata": {
            "tags": []
          },
          "execution_count": 70
        }
      ]
    },
    {
      "cell_type": "code",
      "metadata": {
        "id": "X2ppjkUHC7FK",
        "colab_type": "code",
        "outputId": "6d5917ed-9e2a-4722-f748-e5ce071c5bb7",
        "colab": {
          "base_uri": "https://localhost:8080/",
          "height": 35
        }
      },
      "source": [
        "sum(pd.isnull(event_data_df['longitude']))"
      ],
      "execution_count": 71,
      "outputs": [
        {
          "output_type": "execute_result",
          "data": {
            "text/plain": [
              "423"
            ]
          },
          "metadata": {
            "tags": []
          },
          "execution_count": 71
        }
      ]
    },
    {
      "cell_type": "code",
      "metadata": {
        "id": "C9X3C4ZPDGpw",
        "colab_type": "code",
        "outputId": "578ea805-8310-4cc9-c3a7-53aff1a4018d",
        "colab": {
          "base_uri": "https://localhost:8080/",
          "height": 35
        }
      },
      "source": [
        "sum(pd.isnull(event_data_df['latitude']))"
      ],
      "execution_count": 72,
      "outputs": [
        {
          "output_type": "execute_result",
          "data": {
            "text/plain": [
              "423"
            ]
          },
          "metadata": {
            "tags": []
          },
          "execution_count": 72
        }
      ]
    },
    {
      "cell_type": "code",
      "metadata": {
        "id": "TBRXsqB3DLMz",
        "colab_type": "code",
        "outputId": "9c5db236-a8c2-4ad4-efa2-04d6153f768f",
        "colab": {
          "base_uri": "https://localhost:8080/",
          "height": 35
        }
      },
      "source": [
        "sum(pd.isnull(event_data_df['state']))\n"
      ],
      "execution_count": 73,
      "outputs": [
        {
          "output_type": "execute_result",
          "data": {
            "text/plain": [
              "0"
            ]
          },
          "metadata": {
            "tags": []
          },
          "execution_count": 73
        }
      ]
    },
    {
      "cell_type": "code",
      "metadata": {
        "id": "tSZQi6L0DSVR",
        "colab_type": "code",
        "outputId": "4a056591-be5f-492c-b697-c9319b70b2d2",
        "colab": {
          "base_uri": "https://localhost:8080/",
          "height": 35
        }
      },
      "source": [
        "sum(pd.isnull(event_data_df['city']))"
      ],
      "execution_count": 74,
      "outputs": [
        {
          "output_type": "execute_result",
          "data": {
            "text/plain": [
              "0"
            ]
          },
          "metadata": {
            "tags": []
          },
          "execution_count": 74
        }
      ]
    },
    {
      "cell_type": "code",
      "metadata": {
        "id": "OlyyT6ZCF7tf",
        "colab_type": "code",
        "colab": {}
      },
      "source": [
        "#new_event_data_df = event_data_df.copy() "
      ],
      "execution_count": 0,
      "outputs": []
    },
    {
      "cell_type": "code",
      "metadata": {
        "id": "AXv6rbC0GBnu",
        "colab_type": "code",
        "outputId": "9fc2fca7-57e6-4c16-fc37-7b5623421066",
        "colab": {
          "base_uri": "https://localhost:8080/",
          "height": 202
        }
      },
      "source": [
        "#new_event_data_df.head()"
      ],
      "execution_count": 114,
      "outputs": [
        {
          "output_type": "execute_result",
          "data": {
            "text/html": [
              "<div>\n",
              "<style scoped>\n",
              "    .dataframe tbody tr th:only-of-type {\n",
              "        vertical-align: middle;\n",
              "    }\n",
              "\n",
              "    .dataframe tbody tr th {\n",
              "        vertical-align: top;\n",
              "    }\n",
              "\n",
              "    .dataframe thead th {\n",
              "        text-align: right;\n",
              "    }\n",
              "</style>\n",
              "<table border=\"1\" class=\"dataframe\">\n",
              "  <thead>\n",
              "    <tr style=\"text-align: right;\">\n",
              "      <th></th>\n",
              "      <th>event_id</th>\n",
              "      <th>device_id</th>\n",
              "      <th>timestamp</th>\n",
              "      <th>longitude</th>\n",
              "      <th>latitude</th>\n",
              "      <th>city</th>\n",
              "      <th>state</th>\n",
              "    </tr>\n",
              "  </thead>\n",
              "  <tbody>\n",
              "    <tr>\n",
              "      <th>0</th>\n",
              "      <td>1.0</td>\n",
              "      <td>2.918269e+16</td>\n",
              "      <td>2016-05-01 00:55:25</td>\n",
              "      <td>77.266049</td>\n",
              "      <td>28.68161</td>\n",
              "      <td>Delhi</td>\n",
              "      <td>Delhi</td>\n",
              "    </tr>\n",
              "    <tr>\n",
              "      <th>1</th>\n",
              "      <td>7104.0</td>\n",
              "      <td>2.918269e+16</td>\n",
              "      <td>2016-05-02 09:37:02</td>\n",
              "      <td>77.266049</td>\n",
              "      <td>28.68161</td>\n",
              "      <td>Delhi</td>\n",
              "      <td>Delhi</td>\n",
              "    </tr>\n",
              "    <tr>\n",
              "      <th>2</th>\n",
              "      <td>29661.0</td>\n",
              "      <td>2.918269e+16</td>\n",
              "      <td>2016-05-04 00:56:04</td>\n",
              "      <td>77.266049</td>\n",
              "      <td>28.68161</td>\n",
              "      <td>Delhi</td>\n",
              "      <td>Delhi</td>\n",
              "    </tr>\n",
              "    <tr>\n",
              "      <th>3</th>\n",
              "      <td>33133.0</td>\n",
              "      <td>2.918269e+16</td>\n",
              "      <td>2016-05-06 05:01:15</td>\n",
              "      <td>77.266049</td>\n",
              "      <td>28.68161</td>\n",
              "      <td>Delhi</td>\n",
              "      <td>Delhi</td>\n",
              "    </tr>\n",
              "    <tr>\n",
              "      <th>4</th>\n",
              "      <td>38980.0</td>\n",
              "      <td>2.918269e+16</td>\n",
              "      <td>2016-05-06 09:55:04</td>\n",
              "      <td>77.266049</td>\n",
              "      <td>28.68161</td>\n",
              "      <td>Delhi</td>\n",
              "      <td>Delhi</td>\n",
              "    </tr>\n",
              "  </tbody>\n",
              "</table>\n",
              "</div>"
            ],
            "text/plain": [
              "   event_id     device_id            timestamp  ...  latitude   city  state\n",
              "0       1.0  2.918269e+16  2016-05-01 00:55:25  ...  28.68161  Delhi  Delhi\n",
              "1    7104.0  2.918269e+16  2016-05-02 09:37:02  ...  28.68161  Delhi  Delhi\n",
              "2   29661.0  2.918269e+16  2016-05-04 00:56:04  ...  28.68161  Delhi  Delhi\n",
              "3   33133.0  2.918269e+16  2016-05-06 05:01:15  ...  28.68161  Delhi  Delhi\n",
              "4   38980.0  2.918269e+16  2016-05-06 09:55:04  ...  28.68161  Delhi  Delhi\n",
              "\n",
              "[5 rows x 7 columns]"
            ]
          },
          "metadata": {
            "tags": []
          },
          "execution_count": 114
        }
      ]
    },
    {
      "cell_type": "code",
      "metadata": {
        "id": "owWVWA3SGIGE",
        "colab_type": "code",
        "outputId": "19396718-64ff-49b8-fd92-7a6af4565613",
        "colab": {
          "base_uri": "https://localhost:8080/",
          "height": 72
        }
      },
      "source": [
        "pip install geopy"
      ],
      "execution_count": 75,
      "outputs": [
        {
          "output_type": "stream",
          "text": [
            "Requirement already satisfied: geopy in /usr/local/lib/python3.6/dist-packages (1.17.0)\n",
            "Requirement already satisfied: geographiclib<2,>=1.49 in /usr/local/lib/python3.6/dist-packages (from geopy) (1.50)\n"
          ],
          "name": "stdout"
        }
      ]
    },
    {
      "cell_type": "code",
      "metadata": {
        "id": "vlDDwON0HFRx",
        "colab_type": "code",
        "colab": {}
      },
      "source": [
        "from geopy.geocoders import Nominatim\n",
        "geolocator = Nominatim(user_agent=\"test\")"
      ],
      "execution_count": 0,
      "outputs": []
    },
    {
      "cell_type": "code",
      "metadata": {
        "id": "UmvUSG4UExHp",
        "colab_type": "code",
        "colab": {}
      },
      "source": [
        "# Here trying to get rid of Null value of longitude it's not working now\n",
        "\n",
        "\n",
        "#new_event_data_df['longitude'].apply(get_rid_of_nulls)\n",
        "#new_event_data_df['longitude'] = new_event_data_df.longitude.apply(lambda x: x if not pd.isnull(x) else geolocator.geocode('Delhi').longitude)"
      ],
      "execution_count": 0,
      "outputs": []
    },
    {
      "cell_type": "code",
      "metadata": {
        "id": "YxMZwgmQIRm4",
        "colab_type": "code",
        "colab": {}
      },
      "source": [
        "#sum(pd.isnull(new_event_data_df['longitude']))"
      ],
      "execution_count": 0,
      "outputs": []
    },
    {
      "cell_type": "code",
      "metadata": {
        "id": "d952hrPDTjZ7",
        "colab_type": "code",
        "colab": {}
      },
      "source": [
        "#df4 = pd.merge(df3, event_data_df)\n",
        "#df4.info()"
      ],
      "execution_count": 0,
      "outputs": []
    },
    {
      "cell_type": "code",
      "metadata": {
        "id": "udDUGH8CUHwb",
        "colab_type": "code",
        "colab": {}
      },
      "source": [
        "#df4.head()"
      ],
      "execution_count": 0,
      "outputs": []
    },
    {
      "cell_type": "code",
      "metadata": {
        "id": "DD2HLDPfVSNa",
        "colab_type": "code",
        "colab": {}
      },
      "source": [
        "#df4.describe()"
      ],
      "execution_count": 0,
      "outputs": []
    },
    {
      "cell_type": "code",
      "metadata": {
        "id": "J3_xSwknVCIT",
        "colab_type": "code",
        "colab": {}
      },
      "source": [
        "#df4.device_id.unique()"
      ],
      "execution_count": 0,
      "outputs": []
    },
    {
      "cell_type": "code",
      "metadata": {
        "id": "8c6MlCX6Dw5q",
        "colab_type": "code",
        "outputId": "c50f8bb3-ebaa-4b8b-af45-a1519c7f6ea6",
        "colab": {
          "base_uri": "https://localhost:8080/",
          "height": 395
        }
      },
      "source": [
        "dfnew = pd.merge(df3, event_data_df, on='device_id', how='right')\n",
        "dfnew.head()"
      ],
      "execution_count": 85,
      "outputs": [
        {
          "output_type": "execute_result",
          "data": {
            "text/html": [
              "<div>\n",
              "<style scoped>\n",
              "    .dataframe tbody tr th:only-of-type {\n",
              "        vertical-align: middle;\n",
              "    }\n",
              "\n",
              "    .dataframe tbody tr th {\n",
              "        vertical-align: top;\n",
              "    }\n",
              "\n",
              "    .dataframe thead th {\n",
              "        text-align: right;\n",
              "    }\n",
              "</style>\n",
              "<table border=\"1\" class=\"dataframe\">\n",
              "  <thead>\n",
              "    <tr style=\"text-align: right;\">\n",
              "      <th></th>\n",
              "      <th>device_id</th>\n",
              "      <th>gender</th>\n",
              "      <th>age</th>\n",
              "      <th>group</th>\n",
              "      <th>phone_brand</th>\n",
              "      <th>device_model</th>\n",
              "      <th>event_id</th>\n",
              "      <th>timestamp</th>\n",
              "      <th>longitude</th>\n",
              "      <th>latitude</th>\n",
              "      <th>city</th>\n",
              "      <th>state</th>\n",
              "    </tr>\n",
              "  </thead>\n",
              "  <tbody>\n",
              "    <tr>\n",
              "      <th>0</th>\n",
              "      <td>-6.552729e+15</td>\n",
              "      <td>M</td>\n",
              "      <td>28.0</td>\n",
              "      <td>M27-28</td>\n",
              "      <td>vivo</td>\n",
              "      <td>X3T</td>\n",
              "      <td>189757</td>\n",
              "      <td>2016-05-07 21:40:38</td>\n",
              "      <td>78.487473</td>\n",
              "      <td>17.338947</td>\n",
              "      <td>Rajendranagar</td>\n",
              "      <td>AndhraPradesh</td>\n",
              "    </tr>\n",
              "    <tr>\n",
              "      <th>1</th>\n",
              "      <td>-6.552729e+15</td>\n",
              "      <td>M</td>\n",
              "      <td>28.0</td>\n",
              "      <td>M27-28</td>\n",
              "      <td>vivo</td>\n",
              "      <td>X3T</td>\n",
              "      <td>190875</td>\n",
              "      <td>2016-05-04 22:31:06</td>\n",
              "      <td>78.487473</td>\n",
              "      <td>17.338947</td>\n",
              "      <td>Rajendranagar</td>\n",
              "      <td>AndhraPradesh</td>\n",
              "    </tr>\n",
              "    <tr>\n",
              "      <th>2</th>\n",
              "      <td>-6.552729e+15</td>\n",
              "      <td>M</td>\n",
              "      <td>28.0</td>\n",
              "      <td>M27-28</td>\n",
              "      <td>vivo</td>\n",
              "      <td>X3T</td>\n",
              "      <td>236452</td>\n",
              "      <td>2016-05-04 21:45:10</td>\n",
              "      <td>78.487473</td>\n",
              "      <td>17.338947</td>\n",
              "      <td>Rajendranagar</td>\n",
              "      <td>AndhraPradesh</td>\n",
              "    </tr>\n",
              "    <tr>\n",
              "      <th>3</th>\n",
              "      <td>-6.552729e+15</td>\n",
              "      <td>M</td>\n",
              "      <td>28.0</td>\n",
              "      <td>M27-28</td>\n",
              "      <td>vivo</td>\n",
              "      <td>X3T</td>\n",
              "      <td>237777</td>\n",
              "      <td>2016-05-04 22:33:57</td>\n",
              "      <td>78.487473</td>\n",
              "      <td>17.338947</td>\n",
              "      <td>Rajendranagar</td>\n",
              "      <td>AndhraPradesh</td>\n",
              "    </tr>\n",
              "    <tr>\n",
              "      <th>4</th>\n",
              "      <td>-6.552729e+15</td>\n",
              "      <td>M</td>\n",
              "      <td>28.0</td>\n",
              "      <td>M27-28</td>\n",
              "      <td>vivo</td>\n",
              "      <td>X3T</td>\n",
              "      <td>289077</td>\n",
              "      <td>2016-05-04 21:14:14</td>\n",
              "      <td>78.487473</td>\n",
              "      <td>17.338947</td>\n",
              "      <td>Rajendranagar</td>\n",
              "      <td>AndhraPradesh</td>\n",
              "    </tr>\n",
              "  </tbody>\n",
              "</table>\n",
              "</div>"
            ],
            "text/plain": [
              "      device_id gender   age  ...   latitude           city          state\n",
              "0 -6.552729e+15      M  28.0  ...  17.338947  Rajendranagar  AndhraPradesh\n",
              "1 -6.552729e+15      M  28.0  ...  17.338947  Rajendranagar  AndhraPradesh\n",
              "2 -6.552729e+15      M  28.0  ...  17.338947  Rajendranagar  AndhraPradesh\n",
              "3 -6.552729e+15      M  28.0  ...  17.338947  Rajendranagar  AndhraPradesh\n",
              "4 -6.552729e+15      M  28.0  ...  17.338947  Rajendranagar  AndhraPradesh\n",
              "\n",
              "[5 rows x 12 columns]"
            ]
          },
          "metadata": {
            "tags": []
          },
          "execution_count": 85
        }
      ]
    },
    {
      "cell_type": "code",
      "metadata": {
        "id": "YKBJkCDfmbS5",
        "colab_type": "code",
        "outputId": "314f14cc-cc13-4062-8a75-17ad3256cc0e",
        "colab": {
          "base_uri": "https://localhost:8080/",
          "height": 312
        }
      },
      "source": [
        "dfnew.info()"
      ],
      "execution_count": 86,
      "outputs": [
        {
          "output_type": "stream",
          "text": [
            "<class 'pandas.core.frame.DataFrame'>\n",
            "Int64Index: 3252950 entries, 0 to 3252949\n",
            "Data columns (total 12 columns):\n",
            "device_id       float64\n",
            "gender          object\n",
            "age             float64\n",
            "group           object\n",
            "phone_brand     object\n",
            "device_model    object\n",
            "event_id        int64\n",
            "timestamp       datetime64[ns]\n",
            "longitude       float64\n",
            "latitude        float64\n",
            "city            object\n",
            "state           object\n",
            "dtypes: datetime64[ns](1), float64(4), int64(1), object(6)\n",
            "memory usage: 322.6+ MB\n"
          ],
          "name": "stdout"
        }
      ]
    },
    {
      "cell_type": "code",
      "metadata": {
        "id": "JaCvlz6MS1Ed",
        "colab_type": "code",
        "outputId": "c666c717-f74b-4b38-8772-629f9803a4c3",
        "colab": {
          "base_uri": "https://localhost:8080/",
          "height": 485
        }
      },
      "source": [
        "dfnew.phone_brand.value_counts()"
      ],
      "execution_count": 87,
      "outputs": [
        {
          "output_type": "execute_result",
          "data": {
            "text/plain": [
              "三星      4704\n",
              "小米      4403\n",
              "华为      2116\n",
              "vivo    1781\n",
              "OPPO    1103\n",
              "魅族       955\n",
              "酷派       759\n",
              "HTC      336\n",
              "乐视       287\n",
              "优米       194\n",
              "天语        92\n",
              "普耐尔       40\n",
              "波导        38\n",
              "一加        35\n",
              "宝捷讯       29\n",
              "中国移动      21\n",
              "联想        20\n",
              "努比亚       18\n",
              "亿通        17\n",
              "美图        13\n",
              "酷比魔方       8\n",
              "酷比         5\n",
              "米歌         3\n",
              "LG         3\n",
              "朵唯         1\n",
              "锤子         1\n",
              "Name: phone_brand, dtype: int64"
            ]
          },
          "metadata": {
            "tags": []
          },
          "execution_count": 87
        }
      ]
    },
    {
      "cell_type": "code",
      "metadata": {
        "id": "QGGWw2UlQ9gj",
        "colab_type": "code",
        "colab": {
          "base_uri": "https://localhost:8080/",
          "height": 1000
        },
        "outputId": "bc6bf907-2525-4827-ec94-e451df65aada"
      },
      "source": [
        "#Trying to update group column based on range of age column\n",
        "dfnew['group'] = pd.cut(x=dfnew['age'], bins=[1, 12, 19, 40, 60, 79, 100], labels=['Young', 'Teens', 'Youth', 'MidAge', 'Elderly', 'Old'])\n",
        "dfnew.drop_duplicates('age')"
      ],
      "execution_count": 89,
      "outputs": [
        {
          "output_type": "execute_result",
          "data": {
            "text/html": [
              "<div>\n",
              "<style scoped>\n",
              "    .dataframe tbody tr th:only-of-type {\n",
              "        vertical-align: middle;\n",
              "    }\n",
              "\n",
              "    .dataframe tbody tr th {\n",
              "        vertical-align: top;\n",
              "    }\n",
              "\n",
              "    .dataframe thead th {\n",
              "        text-align: right;\n",
              "    }\n",
              "</style>\n",
              "<table border=\"1\" class=\"dataframe\">\n",
              "  <thead>\n",
              "    <tr style=\"text-align: right;\">\n",
              "      <th></th>\n",
              "      <th>device_id</th>\n",
              "      <th>gender</th>\n",
              "      <th>age</th>\n",
              "      <th>group</th>\n",
              "      <th>phone_brand</th>\n",
              "      <th>device_model</th>\n",
              "      <th>event_id</th>\n",
              "      <th>timestamp</th>\n",
              "      <th>longitude</th>\n",
              "      <th>latitude</th>\n",
              "      <th>city</th>\n",
              "      <th>state</th>\n",
              "    </tr>\n",
              "  </thead>\n",
              "  <tbody>\n",
              "    <tr>\n",
              "      <th>0</th>\n",
              "      <td>-6.552729e+15</td>\n",
              "      <td>M</td>\n",
              "      <td>28.0</td>\n",
              "      <td>Youth</td>\n",
              "      <td>vivo</td>\n",
              "      <td>X3T</td>\n",
              "      <td>189757</td>\n",
              "      <td>2016-05-07 21:40:38</td>\n",
              "      <td>78.487473</td>\n",
              "      <td>17.338947</td>\n",
              "      <td>Rajendranagar</td>\n",
              "      <td>AndhraPradesh</td>\n",
              "    </tr>\n",
              "    <tr>\n",
              "      <th>54</th>\n",
              "      <td>-4.973076e+16</td>\n",
              "      <td>M</td>\n",
              "      <td>31.0</td>\n",
              "      <td>Youth</td>\n",
              "      <td>三星</td>\n",
              "      <td>K860i</td>\n",
              "      <td>512</td>\n",
              "      <td>2016-05-04 00:33:56</td>\n",
              "      <td>80.317383</td>\n",
              "      <td>13.176652</td>\n",
              "      <td>Chennai</td>\n",
              "      <td>TamilNadu</td>\n",
              "    </tr>\n",
              "    <tr>\n",
              "      <th>387</th>\n",
              "      <td>-2.954377e+17</td>\n",
              "      <td>M</td>\n",
              "      <td>20.0</td>\n",
              "      <td>Youth</td>\n",
              "      <td>小米</td>\n",
              "      <td>ELIFE S5.5</td>\n",
              "      <td>117922</td>\n",
              "      <td>2016-05-02 22:43:46</td>\n",
              "      <td>76.220306</td>\n",
              "      <td>10.561827</td>\n",
              "      <td>Thrissur</td>\n",
              "      <td>Kerala</td>\n",
              "    </tr>\n",
              "    <tr>\n",
              "      <th>395</th>\n",
              "      <td>-3.336618e+17</td>\n",
              "      <td>F</td>\n",
              "      <td>24.0</td>\n",
              "      <td>Youth</td>\n",
              "      <td>三星</td>\n",
              "      <td>A788t</td>\n",
              "      <td>150520</td>\n",
              "      <td>2016-05-07 12:21:25</td>\n",
              "      <td>78.141060</td>\n",
              "      <td>9.551846</td>\n",
              "      <td>Aruppukkottai</td>\n",
              "      <td>TamilNadu</td>\n",
              "    </tr>\n",
              "    <tr>\n",
              "      <th>443</th>\n",
              "      <td>-1.268112e+17</td>\n",
              "      <td>F</td>\n",
              "      <td>30.0</td>\n",
              "      <td>Youth</td>\n",
              "      <td>小米</td>\n",
              "      <td>红米2A</td>\n",
              "      <td>2841769</td>\n",
              "      <td>2016-05-05 23:27:40</td>\n",
              "      <td>80.345627</td>\n",
              "      <td>13.102865</td>\n",
              "      <td>Chennai</td>\n",
              "      <td>TamilNadu</td>\n",
              "    </tr>\n",
              "    <tr>\n",
              "      <th>444</th>\n",
              "      <td>1.647972e+16</td>\n",
              "      <td>F</td>\n",
              "      <td>41.0</td>\n",
              "      <td>MidAge</td>\n",
              "      <td>努比亚</td>\n",
              "      <td>Z7 Mini</td>\n",
              "      <td>207137</td>\n",
              "      <td>2016-05-04 17:44:02</td>\n",
              "      <td>84.187233</td>\n",
              "      <td>27.177624</td>\n",
              "      <td>Bagaha</td>\n",
              "      <td>Bihar</td>\n",
              "    </tr>\n",
              "    <tr>\n",
              "      <th>447</th>\n",
              "      <td>8.765877e+18</td>\n",
              "      <td>F</td>\n",
              "      <td>32.0</td>\n",
              "      <td>Youth</td>\n",
              "      <td>三星</td>\n",
              "      <td>Galaxy Grand 2</td>\n",
              "      <td>12768</td>\n",
              "      <td>2016-05-07 12:55:54</td>\n",
              "      <td>75.930756</td>\n",
              "      <td>22.802168</td>\n",
              "      <td>Indore</td>\n",
              "      <td>MadhyaPradesh</td>\n",
              "    </tr>\n",
              "    <tr>\n",
              "      <th>917</th>\n",
              "      <td>-8.358875e+15</td>\n",
              "      <td>F</td>\n",
              "      <td>60.0</td>\n",
              "      <td>MidAge</td>\n",
              "      <td>vivo</td>\n",
              "      <td>Y27</td>\n",
              "      <td>43786</td>\n",
              "      <td>2016-05-04 12:14:05</td>\n",
              "      <td>78.176025</td>\n",
              "      <td>12.206610</td>\n",
              "      <td>Dharmapuri</td>\n",
              "      <td>TamilNadu</td>\n",
              "    </tr>\n",
              "    <tr>\n",
              "      <th>948</th>\n",
              "      <td>-4.224128e+17</td>\n",
              "      <td>F</td>\n",
              "      <td>22.0</td>\n",
              "      <td>Youth</td>\n",
              "      <td>魅族</td>\n",
              "      <td>魅蓝Note 2</td>\n",
              "      <td>1235648</td>\n",
              "      <td>2016-05-04 00:54:25</td>\n",
              "      <td>78.552063</td>\n",
              "      <td>17.453049</td>\n",
              "      <td>Hyderabad</td>\n",
              "      <td>Telangana</td>\n",
              "    </tr>\n",
              "    <tr>\n",
              "      <th>955</th>\n",
              "      <td>-2.581588e+17</td>\n",
              "      <td>F</td>\n",
              "      <td>21.0</td>\n",
              "      <td>Youth</td>\n",
              "      <td>小米</td>\n",
              "      <td>红米note</td>\n",
              "      <td>927089</td>\n",
              "      <td>2016-05-04 12:41:08</td>\n",
              "      <td>83.054253</td>\n",
              "      <td>17.705706</td>\n",
              "      <td>Anakapalle</td>\n",
              "      <td>AndhraPradesh</td>\n",
              "    </tr>\n",
              "    <tr>\n",
              "      <th>956</th>\n",
              "      <td>2.599872e+16</td>\n",
              "      <td>F</td>\n",
              "      <td>27.0</td>\n",
              "      <td>Youth</td>\n",
              "      <td>三星</td>\n",
              "      <td>A880</td>\n",
              "      <td>1051892</td>\n",
              "      <td>2016-05-01 21:03:16</td>\n",
              "      <td>79.174446</td>\n",
              "      <td>10.866224</td>\n",
              "      <td>Thanjavur</td>\n",
              "      <td>TamilNadu</td>\n",
              "    </tr>\n",
              "    <tr>\n",
              "      <th>957</th>\n",
              "      <td>-4.458699e+17</td>\n",
              "      <td>F</td>\n",
              "      <td>66.0</td>\n",
              "      <td>Elderly</td>\n",
              "      <td>三星</td>\n",
              "      <td>A320t</td>\n",
              "      <td>25634</td>\n",
              "      <td>2016-05-06 21:40:25</td>\n",
              "      <td>73.382515</td>\n",
              "      <td>25.855511</td>\n",
              "      <td>Pali</td>\n",
              "      <td>Rajasthan</td>\n",
              "    </tr>\n",
              "    <tr>\n",
              "      <th>971</th>\n",
              "      <td>-3.305280e+17</td>\n",
              "      <td>F</td>\n",
              "      <td>65.0</td>\n",
              "      <td>Elderly</td>\n",
              "      <td>华为</td>\n",
              "      <td>Ascend P7</td>\n",
              "      <td>552614</td>\n",
              "      <td>2016-05-04 14:12:17</td>\n",
              "      <td>77.621391</td>\n",
              "      <td>13.029946</td>\n",
              "      <td>Bangalore</td>\n",
              "      <td>Karnataka</td>\n",
              "    </tr>\n",
              "    <tr>\n",
              "      <th>982</th>\n",
              "      <td>-2.288468e+17</td>\n",
              "      <td>F</td>\n",
              "      <td>63.0</td>\n",
              "      <td>Elderly</td>\n",
              "      <td>魅族</td>\n",
              "      <td>MX3</td>\n",
              "      <td>276182</td>\n",
              "      <td>2016-05-07 10:32:15</td>\n",
              "      <td>88.413498</td>\n",
              "      <td>22.561317</td>\n",
              "      <td>Chakdaha</td>\n",
              "      <td>WestBengal</td>\n",
              "    </tr>\n",
              "    <tr>\n",
              "      <th>985</th>\n",
              "      <td>-1.328790e+18</td>\n",
              "      <td>F</td>\n",
              "      <td>79.0</td>\n",
              "      <td>Elderly</td>\n",
              "      <td>酷派</td>\n",
              "      <td>大神F2</td>\n",
              "      <td>194570</td>\n",
              "      <td>2016-05-01 07:41:41</td>\n",
              "      <td>78.908951</td>\n",
              "      <td>17.607548</td>\n",
              "      <td>Bhongir</td>\n",
              "      <td>AndhraPradesh</td>\n",
              "    </tr>\n",
              "    <tr>\n",
              "      <th>1002</th>\n",
              "      <td>-4.305059e+18</td>\n",
              "      <td>F</td>\n",
              "      <td>29.0</td>\n",
              "      <td>Youth</td>\n",
              "      <td>三星</td>\n",
              "      <td>Galaxy Win Pro</td>\n",
              "      <td>32885</td>\n",
              "      <td>2016-05-03 05:32:48</td>\n",
              "      <td>75.096649</td>\n",
              "      <td>21.118441</td>\n",
              "      <td>Amalner</td>\n",
              "      <td>Maharashtra</td>\n",
              "    </tr>\n",
              "    <tr>\n",
              "      <th>1058</th>\n",
              "      <td>-1.025285e+18</td>\n",
              "      <td>M</td>\n",
              "      <td>56.0</td>\n",
              "      <td>MidAge</td>\n",
              "      <td>三星</td>\n",
              "      <td>Galaxy Note 2</td>\n",
              "      <td>2787439</td>\n",
              "      <td>2016-05-01 20:16:20</td>\n",
              "      <td>80.310760</td>\n",
              "      <td>13.169339</td>\n",
              "      <td>Chennai</td>\n",
              "      <td>TamilNadu</td>\n",
              "    </tr>\n",
              "    <tr>\n",
              "      <th>1059</th>\n",
              "      <td>5.021105e+15</td>\n",
              "      <td>F</td>\n",
              "      <td>50.0</td>\n",
              "      <td>MidAge</td>\n",
              "      <td>华为</td>\n",
              "      <td>荣耀6 Plus</td>\n",
              "      <td>12495</td>\n",
              "      <td>2016-05-06 12:44:58</td>\n",
              "      <td>77.220863</td>\n",
              "      <td>28.725042</td>\n",
              "      <td>Delhi</td>\n",
              "      <td>Delhi</td>\n",
              "    </tr>\n",
              "    <tr>\n",
              "      <th>1171</th>\n",
              "      <td>3.430755e+16</td>\n",
              "      <td>F</td>\n",
              "      <td>34.0</td>\n",
              "      <td>Youth</td>\n",
              "      <td>朵唯</td>\n",
              "      <td>D350</td>\n",
              "      <td>1702763</td>\n",
              "      <td>2016-05-05 01:45:44</td>\n",
              "      <td>80.305557</td>\n",
              "      <td>13.121491</td>\n",
              "      <td>Chennai</td>\n",
              "      <td>TamilNadu</td>\n",
              "    </tr>\n",
              "    <tr>\n",
              "      <th>1172</th>\n",
              "      <td>-2.409663e+16</td>\n",
              "      <td>M</td>\n",
              "      <td>37.0</td>\n",
              "      <td>Youth</td>\n",
              "      <td>小米</td>\n",
              "      <td>红米note</td>\n",
              "      <td>1285282</td>\n",
              "      <td>2016-05-04 14:31:13</td>\n",
              "      <td>78.543129</td>\n",
              "      <td>17.493395</td>\n",
              "      <td>Hyderabad</td>\n",
              "      <td>Telangana</td>\n",
              "    </tr>\n",
              "    <tr>\n",
              "      <th>1220</th>\n",
              "      <td>2.226134e+16</td>\n",
              "      <td>M</td>\n",
              "      <td>62.0</td>\n",
              "      <td>Elderly</td>\n",
              "      <td>vivo</td>\n",
              "      <td>Y29L</td>\n",
              "      <td>10266</td>\n",
              "      <td>2016-05-02 11:01:39</td>\n",
              "      <td>77.270744</td>\n",
              "      <td>28.716206</td>\n",
              "      <td>Delhi</td>\n",
              "      <td>Delhi</td>\n",
              "    </tr>\n",
              "    <tr>\n",
              "      <th>1221</th>\n",
              "      <td>6.737477e+16</td>\n",
              "      <td>F</td>\n",
              "      <td>25.0</td>\n",
              "      <td>Youth</td>\n",
              "      <td>小米</td>\n",
              "      <td>红米note</td>\n",
              "      <td>201154</td>\n",
              "      <td>2016-05-03 12:33:27</td>\n",
              "      <td>74.519310</td>\n",
              "      <td>30.273474</td>\n",
              "      <td>Malaut</td>\n",
              "      <td>Punjab</td>\n",
              "    </tr>\n",
              "    <tr>\n",
              "      <th>1255</th>\n",
              "      <td>6.585191e+18</td>\n",
              "      <td>M</td>\n",
              "      <td>23.0</td>\n",
              "      <td>Youth</td>\n",
              "      <td>华为</td>\n",
              "      <td>荣耀6</td>\n",
              "      <td>482843</td>\n",
              "      <td>2016-05-07 07:51:18</td>\n",
              "      <td>78.469856</td>\n",
              "      <td>26.470797</td>\n",
              "      <td>Gohad</td>\n",
              "      <td>MadhyaPradesh</td>\n",
              "    </tr>\n",
              "    <tr>\n",
              "      <th>1272</th>\n",
              "      <td>1.053874e+17</td>\n",
              "      <td>M</td>\n",
              "      <td>39.0</td>\n",
              "      <td>Youth</td>\n",
              "      <td>小米</td>\n",
              "      <td>MI One Plus</td>\n",
              "      <td>1437515</td>\n",
              "      <td>2016-05-07 21:05:53</td>\n",
              "      <td>79.126137</td>\n",
              "      <td>13.255346</td>\n",
              "      <td>Chittur</td>\n",
              "      <td>AndhraPradesh</td>\n",
              "    </tr>\n",
              "    <tr>\n",
              "      <th>1278</th>\n",
              "      <td>1.079555e+15</td>\n",
              "      <td>M</td>\n",
              "      <td>64.0</td>\n",
              "      <td>Elderly</td>\n",
              "      <td>华为</td>\n",
              "      <td>C8813Q</td>\n",
              "      <td>126246</td>\n",
              "      <td>2016-05-06 08:29:23</td>\n",
              "      <td>86.665352</td>\n",
              "      <td>26.217722</td>\n",
              "      <td>Supaul</td>\n",
              "      <td>Bihar</td>\n",
              "    </tr>\n",
              "    <tr>\n",
              "      <th>1289</th>\n",
              "      <td>-9.086138e+18</td>\n",
              "      <td>M</td>\n",
              "      <td>36.0</td>\n",
              "      <td>Youth</td>\n",
              "      <td>三星</td>\n",
              "      <td>Galaxy S5</td>\n",
              "      <td>116729</td>\n",
              "      <td>2016-05-02 20:53:52</td>\n",
              "      <td>75.096741</td>\n",
              "      <td>24.108458</td>\n",
              "      <td>Mandsaur</td>\n",
              "      <td>MadhyaPradesh</td>\n",
              "    </tr>\n",
              "    <tr>\n",
              "      <th>1423</th>\n",
              "      <td>-6.822847e+18</td>\n",
              "      <td>M</td>\n",
              "      <td>26.0</td>\n",
              "      <td>Youth</td>\n",
              "      <td>小米</td>\n",
              "      <td>MI 3</td>\n",
              "      <td>76783</td>\n",
              "      <td>2016-05-04 09:00:21</td>\n",
              "      <td>88.397728</td>\n",
              "      <td>22.605247</td>\n",
              "      <td>Calcutta</td>\n",
              "      <td>WestBengal</td>\n",
              "    </tr>\n",
              "    <tr>\n",
              "      <th>1577</th>\n",
              "      <td>1.697087e+18</td>\n",
              "      <td>M</td>\n",
              "      <td>38.0</td>\n",
              "      <td>Youth</td>\n",
              "      <td>小米</td>\n",
              "      <td>小米note</td>\n",
              "      <td>159231</td>\n",
              "      <td>2016-05-04 20:55:06</td>\n",
              "      <td>78.545822</td>\n",
              "      <td>17.420029</td>\n",
              "      <td>Gaddiannaram</td>\n",
              "      <td>AndhraPradesh</td>\n",
              "    </tr>\n",
              "    <tr>\n",
              "      <th>1582</th>\n",
              "      <td>5.600365e+18</td>\n",
              "      <td>M</td>\n",
              "      <td>59.0</td>\n",
              "      <td>MidAge</td>\n",
              "      <td>酷派</td>\n",
              "      <td>大神F1</td>\n",
              "      <td>84111</td>\n",
              "      <td>2016-05-02 13:11:02</td>\n",
              "      <td>78.237076</td>\n",
              "      <td>12.576466</td>\n",
              "      <td>Krishnagiri</td>\n",
              "      <td>TamilNadu</td>\n",
              "    </tr>\n",
              "    <tr>\n",
              "      <th>1609</th>\n",
              "      <td>-3.309885e+17</td>\n",
              "      <td>M</td>\n",
              "      <td>47.0</td>\n",
              "      <td>MidAge</td>\n",
              "      <td>酷派</td>\n",
              "      <td>F2</td>\n",
              "      <td>1410913</td>\n",
              "      <td>2016-05-04 04:13:56</td>\n",
              "      <td>82.098717</td>\n",
              "      <td>26.309380</td>\n",
              "      <td>Sultanpur</td>\n",
              "      <td>UttarPradesh</td>\n",
              "    </tr>\n",
              "    <tr>\n",
              "      <th>1714</th>\n",
              "      <td>8.614549e+18</td>\n",
              "      <td>M</td>\n",
              "      <td>49.0</td>\n",
              "      <td>MidAge</td>\n",
              "      <td>OPPO</td>\n",
              "      <td>R2017</td>\n",
              "      <td>410</td>\n",
              "      <td>2016-05-03 00:38:08</td>\n",
              "      <td>77.305115</td>\n",
              "      <td>28.698048</td>\n",
              "      <td>Delhi</td>\n",
              "      <td>Delhi</td>\n",
              "    </tr>\n",
              "    <tr>\n",
              "      <th>1869</th>\n",
              "      <td>2.212222e+18</td>\n",
              "      <td>M</td>\n",
              "      <td>33.0</td>\n",
              "      <td>Youth</td>\n",
              "      <td>vivo</td>\n",
              "      <td>Y628</td>\n",
              "      <td>37918</td>\n",
              "      <td>2016-05-01 09:49:46</td>\n",
              "      <td>87.750916</td>\n",
              "      <td>22.700336</td>\n",
              "      <td>Ghatal</td>\n",
              "      <td>WestBengal</td>\n",
              "    </tr>\n",
              "    <tr>\n",
              "      <th>3138</th>\n",
              "      <td>-2.909557e+14</td>\n",
              "      <td>M</td>\n",
              "      <td>45.0</td>\n",
              "      <td>MidAge</td>\n",
              "      <td>三星</td>\n",
              "      <td>A678t</td>\n",
              "      <td>122254</td>\n",
              "      <td>2016-05-01 04:15:41</td>\n",
              "      <td>88.393661</td>\n",
              "      <td>22.609879</td>\n",
              "      <td>Calcutta</td>\n",
              "      <td>WestBengal</td>\n",
              "    </tr>\n",
              "    <tr>\n",
              "      <th>3952</th>\n",
              "      <td>-1.956078e+16</td>\n",
              "      <td>M</td>\n",
              "      <td>67.0</td>\n",
              "      <td>Elderly</td>\n",
              "      <td>小米</td>\n",
              "      <td>MI 4</td>\n",
              "      <td>1531085</td>\n",
              "      <td>2016-05-04 08:38:12</td>\n",
              "      <td>78.577072</td>\n",
              "      <td>17.478968</td>\n",
              "      <td>Hyderabad</td>\n",
              "      <td>Telangana</td>\n",
              "    </tr>\n",
              "    <tr>\n",
              "      <th>4035</th>\n",
              "      <td>1.161113e+18</td>\n",
              "      <td>F</td>\n",
              "      <td>44.0</td>\n",
              "      <td>MidAge</td>\n",
              "      <td>三星</td>\n",
              "      <td>Galaxy Note 2</td>\n",
              "      <td>1122</td>\n",
              "      <td>2016-05-01 01:49:53</td>\n",
              "      <td>80.285744</td>\n",
              "      <td>13.107005</td>\n",
              "      <td>Chennai</td>\n",
              "      <td>TamilNadu</td>\n",
              "    </tr>\n",
              "    <tr>\n",
              "      <th>4324</th>\n",
              "      <td>-1.180229e+18</td>\n",
              "      <td>F</td>\n",
              "      <td>35.0</td>\n",
              "      <td>Youth</td>\n",
              "      <td>三星</td>\n",
              "      <td>Galaxy Ace 2</td>\n",
              "      <td>9109</td>\n",
              "      <td>2016-05-04 10:01:55</td>\n",
              "      <td>83.336929</td>\n",
              "      <td>17.809973</td>\n",
              "      <td>Visakhapatnam</td>\n",
              "      <td>AndhraPradesh</td>\n",
              "    </tr>\n",
              "    <tr>\n",
              "      <th>4504</th>\n",
              "      <td>-2.342377e+16</td>\n",
              "      <td>M</td>\n",
              "      <td>52.0</td>\n",
              "      <td>MidAge</td>\n",
              "      <td>华为</td>\n",
              "      <td>荣耀3X畅玩版</td>\n",
              "      <td>1440254</td>\n",
              "      <td>2016-05-07 23:04:38</td>\n",
              "      <td>86.311203</td>\n",
              "      <td>24.950937</td>\n",
              "      <td>Jamui</td>\n",
              "      <td>Bihar</td>\n",
              "    </tr>\n",
              "    <tr>\n",
              "      <th>4518</th>\n",
              "      <td>-2.175452e+17</td>\n",
              "      <td>M</td>\n",
              "      <td>73.0</td>\n",
              "      <td>Elderly</td>\n",
              "      <td>vivo</td>\n",
              "      <td>X3L</td>\n",
              "      <td>870426</td>\n",
              "      <td>2016-05-01 20:47:19</td>\n",
              "      <td>78.490837</td>\n",
              "      <td>17.444368</td>\n",
              "      <td>Hyderabad</td>\n",
              "      <td>Telangana</td>\n",
              "    </tr>\n",
              "    <tr>\n",
              "      <th>6188</th>\n",
              "      <td>3.045622e+18</td>\n",
              "      <td>M</td>\n",
              "      <td>40.0</td>\n",
              "      <td>Youth</td>\n",
              "      <td>OPPO</td>\n",
              "      <td>U707T</td>\n",
              "      <td>290016</td>\n",
              "      <td>2016-05-01 22:29:05</td>\n",
              "      <td>75.017944</td>\n",
              "      <td>28.057463</td>\n",
              "      <td>Fatehpur</td>\n",
              "      <td>Rajasthan</td>\n",
              "    </tr>\n",
              "    <tr>\n",
              "      <th>6573</th>\n",
              "      <td>-4.512513e+18</td>\n",
              "      <td>F</td>\n",
              "      <td>14.0</td>\n",
              "      <td>Teens</td>\n",
              "      <td>酷比</td>\n",
              "      <td>S1</td>\n",
              "      <td>934666</td>\n",
              "      <td>2016-05-03 18:32:25</td>\n",
              "      <td>78.567131</td>\n",
              "      <td>17.431011</td>\n",
              "      <td>Hyderabad</td>\n",
              "      <td>Telangana</td>\n",
              "    </tr>\n",
              "    <tr>\n",
              "      <th>7994</th>\n",
              "      <td>3.667156e+17</td>\n",
              "      <td>M</td>\n",
              "      <td>54.0</td>\n",
              "      <td>MidAge</td>\n",
              "      <td>华为</td>\n",
              "      <td>麦芒4</td>\n",
              "      <td>706411</td>\n",
              "      <td>2016-05-07 11:23:54</td>\n",
              "      <td>88.443954</td>\n",
              "      <td>22.997221</td>\n",
              "      <td>Naihati</td>\n",
              "      <td>WestBengal</td>\n",
              "    </tr>\n",
              "    <tr>\n",
              "      <th>8262</th>\n",
              "      <td>2.263742e+18</td>\n",
              "      <td>M</td>\n",
              "      <td>46.0</td>\n",
              "      <td>MidAge</td>\n",
              "      <td>OPPO</td>\n",
              "      <td>N1T</td>\n",
              "      <td>241011</td>\n",
              "      <td>2016-05-03 01:56:19</td>\n",
              "      <td>79.317230</td>\n",
              "      <td>19.992531</td>\n",
              "      <td>Chandrapur</td>\n",
              "      <td>Maharashtra</td>\n",
              "    </tr>\n",
              "    <tr>\n",
              "      <th>8645</th>\n",
              "      <td>-1.685004e+15</td>\n",
              "      <td>M</td>\n",
              "      <td>51.0</td>\n",
              "      <td>MidAge</td>\n",
              "      <td>华为</td>\n",
              "      <td>荣耀6</td>\n",
              "      <td>80701</td>\n",
              "      <td>2016-05-01 07:03:56</td>\n",
              "      <td>76.923950</td>\n",
              "      <td>30.713434</td>\n",
              "      <td>Panchkula</td>\n",
              "      <td>Haryana</td>\n",
              "    </tr>\n",
              "    <tr>\n",
              "      <th>8811</th>\n",
              "      <td>-1.329378e+18</td>\n",
              "      <td>F</td>\n",
              "      <td>43.0</td>\n",
              "      <td>MidAge</td>\n",
              "      <td>小米</td>\n",
              "      <td>红米2A</td>\n",
              "      <td>97438</td>\n",
              "      <td>2016-05-05 12:25:10</td>\n",
              "      <td>74.892044</td>\n",
              "      <td>14.665445</td>\n",
              "      <td>Sirsi</td>\n",
              "      <td>Karnataka</td>\n",
              "    </tr>\n",
              "    <tr>\n",
              "      <th>9228</th>\n",
              "      <td>1.447049e+16</td>\n",
              "      <td>F</td>\n",
              "      <td>42.0</td>\n",
              "      <td>MidAge</td>\n",
              "      <td>华为</td>\n",
              "      <td>荣耀7</td>\n",
              "      <td>24289</td>\n",
              "      <td>2016-05-07 20:00:03</td>\n",
              "      <td>94.131363</td>\n",
              "      <td>25.765812</td>\n",
              "      <td>Kohima</td>\n",
              "      <td>Nagaland</td>\n",
              "    </tr>\n",
              "    <tr>\n",
              "      <th>9277</th>\n",
              "      <td>-4.889920e+15</td>\n",
              "      <td>M</td>\n",
              "      <td>10.0</td>\n",
              "      <td>Young</td>\n",
              "      <td>小米</td>\n",
              "      <td>红米</td>\n",
              "      <td>71728</td>\n",
              "      <td>2016-05-07 03:23:24</td>\n",
              "      <td>85.934830</td>\n",
              "      <td>20.315466</td>\n",
              "      <td>Bhubaneswar</td>\n",
              "      <td>Orissa</td>\n",
              "    </tr>\n",
              "    <tr>\n",
              "      <th>11207</th>\n",
              "      <td>-8.524441e+17</td>\n",
              "      <td>F</td>\n",
              "      <td>53.0</td>\n",
              "      <td>MidAge</td>\n",
              "      <td>三星</td>\n",
              "      <td>A500</td>\n",
              "      <td>72862</td>\n",
              "      <td>2016-05-02 06:49:27</td>\n",
              "      <td>72.830009</td>\n",
              "      <td>19.010811</td>\n",
              "      <td>Mumbai</td>\n",
              "      <td>Maharashtra</td>\n",
              "    </tr>\n",
              "    <tr>\n",
              "      <th>11338</th>\n",
              "      <td>-3.927287e+16</td>\n",
              "      <td>M</td>\n",
              "      <td>57.0</td>\n",
              "      <td>MidAge</td>\n",
              "      <td>魅族</td>\n",
              "      <td>魅蓝NOTE</td>\n",
              "      <td>44776</td>\n",
              "      <td>2016-05-01 13:47:07</td>\n",
              "      <td>75.618362</td>\n",
              "      <td>32.439865</td>\n",
              "      <td>Kathua</td>\n",
              "      <td>JammuandKashmir</td>\n",
              "    </tr>\n",
              "    <tr>\n",
              "      <th>12093</th>\n",
              "      <td>-1.213982e+16</td>\n",
              "      <td>M</td>\n",
              "      <td>16.0</td>\n",
              "      <td>Teens</td>\n",
              "      <td>小米</td>\n",
              "      <td>MI 3</td>\n",
              "      <td>1714941</td>\n",
              "      <td>2016-05-01 12:32:16</td>\n",
              "      <td>80.299042</td>\n",
              "      <td>13.159297</td>\n",
              "      <td>Chennai</td>\n",
              "      <td>TamilNadu</td>\n",
              "    </tr>\n",
              "    <tr>\n",
              "      <th>12109</th>\n",
              "      <td>7.767457e+15</td>\n",
              "      <td>M</td>\n",
              "      <td>18.0</td>\n",
              "      <td>Teens</td>\n",
              "      <td>vivo</td>\n",
              "      <td>Y33</td>\n",
              "      <td>98807</td>\n",
              "      <td>2016-05-02 13:05:47</td>\n",
              "      <td>88.444878</td>\n",
              "      <td>22.666643</td>\n",
              "      <td>Calcutta</td>\n",
              "      <td>WestBengal</td>\n",
              "    </tr>\n",
              "    <tr>\n",
              "      <th>12796</th>\n",
              "      <td>5.679990e+17</td>\n",
              "      <td>F</td>\n",
              "      <td>19.0</td>\n",
              "      <td>Teens</td>\n",
              "      <td>三星</td>\n",
              "      <td>W2014</td>\n",
              "      <td>13343</td>\n",
              "      <td>2016-05-03 13:48:30</td>\n",
              "      <td>75.918587</td>\n",
              "      <td>22.804291</td>\n",
              "      <td>Indore</td>\n",
              "      <td>MadhyaPradesh</td>\n",
              "    </tr>\n",
              "    <tr>\n",
              "      <th>16982</th>\n",
              "      <td>2.918269e+16</td>\n",
              "      <td>NaN</td>\n",
              "      <td>NaN</td>\n",
              "      <td>NaN</td>\n",
              "      <td>NaN</td>\n",
              "      <td>NaN</td>\n",
              "      <td>1</td>\n",
              "      <td>2016-05-01 00:55:25</td>\n",
              "      <td>77.266052</td>\n",
              "      <td>28.681610</td>\n",
              "      <td>Delhi</td>\n",
              "      <td>Delhi</td>\n",
              "    </tr>\n",
              "  </tbody>\n",
              "</table>\n",
              "</div>"
            ],
            "text/plain": [
              "          device_id gender   age  ...   latitude           city            state\n",
              "0     -6.552729e+15      M  28.0  ...  17.338947  Rajendranagar    AndhraPradesh\n",
              "54    -4.973076e+16      M  31.0  ...  13.176652        Chennai        TamilNadu\n",
              "387   -2.954377e+17      M  20.0  ...  10.561827       Thrissur           Kerala\n",
              "395   -3.336618e+17      F  24.0  ...   9.551846  Aruppukkottai        TamilNadu\n",
              "443   -1.268112e+17      F  30.0  ...  13.102865        Chennai        TamilNadu\n",
              "444    1.647972e+16      F  41.0  ...  27.177624         Bagaha            Bihar\n",
              "447    8.765877e+18      F  32.0  ...  22.802168         Indore    MadhyaPradesh\n",
              "917   -8.358875e+15      F  60.0  ...  12.206610     Dharmapuri        TamilNadu\n",
              "948   -4.224128e+17      F  22.0  ...  17.453049      Hyderabad        Telangana\n",
              "955   -2.581588e+17      F  21.0  ...  17.705706     Anakapalle    AndhraPradesh\n",
              "956    2.599872e+16      F  27.0  ...  10.866224      Thanjavur        TamilNadu\n",
              "957   -4.458699e+17      F  66.0  ...  25.855511           Pali        Rajasthan\n",
              "971   -3.305280e+17      F  65.0  ...  13.029946      Bangalore        Karnataka\n",
              "982   -2.288468e+17      F  63.0  ...  22.561317       Chakdaha       WestBengal\n",
              "985   -1.328790e+18      F  79.0  ...  17.607548        Bhongir    AndhraPradesh\n",
              "1002  -4.305059e+18      F  29.0  ...  21.118441        Amalner      Maharashtra\n",
              "1058  -1.025285e+18      M  56.0  ...  13.169339        Chennai        TamilNadu\n",
              "1059   5.021105e+15      F  50.0  ...  28.725042          Delhi            Delhi\n",
              "1171   3.430755e+16      F  34.0  ...  13.121491        Chennai        TamilNadu\n",
              "1172  -2.409663e+16      M  37.0  ...  17.493395      Hyderabad        Telangana\n",
              "1220   2.226134e+16      M  62.0  ...  28.716206          Delhi            Delhi\n",
              "1221   6.737477e+16      F  25.0  ...  30.273474         Malaut           Punjab\n",
              "1255   6.585191e+18      M  23.0  ...  26.470797          Gohad    MadhyaPradesh\n",
              "1272   1.053874e+17      M  39.0  ...  13.255346        Chittur    AndhraPradesh\n",
              "1278   1.079555e+15      M  64.0  ...  26.217722         Supaul            Bihar\n",
              "1289  -9.086138e+18      M  36.0  ...  24.108458       Mandsaur    MadhyaPradesh\n",
              "1423  -6.822847e+18      M  26.0  ...  22.605247       Calcutta       WestBengal\n",
              "1577   1.697087e+18      M  38.0  ...  17.420029   Gaddiannaram    AndhraPradesh\n",
              "1582   5.600365e+18      M  59.0  ...  12.576466    Krishnagiri        TamilNadu\n",
              "1609  -3.309885e+17      M  47.0  ...  26.309380      Sultanpur     UttarPradesh\n",
              "1714   8.614549e+18      M  49.0  ...  28.698048          Delhi            Delhi\n",
              "1869   2.212222e+18      M  33.0  ...  22.700336         Ghatal       WestBengal\n",
              "3138  -2.909557e+14      M  45.0  ...  22.609879       Calcutta       WestBengal\n",
              "3952  -1.956078e+16      M  67.0  ...  17.478968      Hyderabad        Telangana\n",
              "4035   1.161113e+18      F  44.0  ...  13.107005        Chennai        TamilNadu\n",
              "4324  -1.180229e+18      F  35.0  ...  17.809973  Visakhapatnam    AndhraPradesh\n",
              "4504  -2.342377e+16      M  52.0  ...  24.950937          Jamui            Bihar\n",
              "4518  -2.175452e+17      M  73.0  ...  17.444368      Hyderabad        Telangana\n",
              "6188   3.045622e+18      M  40.0  ...  28.057463       Fatehpur        Rajasthan\n",
              "6573  -4.512513e+18      F  14.0  ...  17.431011      Hyderabad        Telangana\n",
              "7994   3.667156e+17      M  54.0  ...  22.997221        Naihati       WestBengal\n",
              "8262   2.263742e+18      M  46.0  ...  19.992531     Chandrapur      Maharashtra\n",
              "8645  -1.685004e+15      M  51.0  ...  30.713434      Panchkula          Haryana\n",
              "8811  -1.329378e+18      F  43.0  ...  14.665445          Sirsi        Karnataka\n",
              "9228   1.447049e+16      F  42.0  ...  25.765812         Kohima         Nagaland\n",
              "9277  -4.889920e+15      M  10.0  ...  20.315466    Bhubaneswar           Orissa\n",
              "11207 -8.524441e+17      F  53.0  ...  19.010811         Mumbai      Maharashtra\n",
              "11338 -3.927287e+16      M  57.0  ...  32.439865         Kathua  JammuandKashmir\n",
              "12093 -1.213982e+16      M  16.0  ...  13.159297        Chennai        TamilNadu\n",
              "12109  7.767457e+15      M  18.0  ...  22.666643       Calcutta       WestBengal\n",
              "12796  5.679990e+17      F  19.0  ...  22.804291         Indore    MadhyaPradesh\n",
              "16982  2.918269e+16    NaN   NaN  ...  28.681610          Delhi            Delhi\n",
              "\n",
              "[52 rows x 12 columns]"
            ]
          },
          "metadata": {
            "tags": []
          },
          "execution_count": 89
        }
      ]
    },
    {
      "cell_type": "code",
      "metadata": {
        "id": "suY6SnmdmnKG",
        "colab_type": "code",
        "colab": {
          "base_uri": "https://localhost:8080/",
          "height": 35
        },
        "outputId": "35c26f0c-41e1-4247-ddf5-e20ed8731618"
      },
      "source": [
        "#To update null values in state column \n",
        "print(sum(pd.isnull(dfnew['device_id'])))\n",
        "\n",
        "\n",
        "#print(sum(pd.isnull(dfnew['state'])))\n",
        "#print(dfnew[dfnew.state.isnull()])"
      ],
      "execution_count": 90,
      "outputs": [
        {
          "output_type": "stream",
          "text": [
            "453\n"
          ],
          "name": "stdout"
        }
      ]
    },
    {
      "cell_type": "markdown",
      "metadata": {
        "id": "ZYIgxPB89DDi",
        "colab_type": "text"
      },
      "source": [
        ""
      ]
    },
    {
      "cell_type": "code",
      "metadata": {
        "id": "I-Cd1ZWH1clk",
        "colab_type": "code",
        "colab": {
          "base_uri": "https://localhost:8080/",
          "height": 35
        },
        "outputId": "2dd1f2f0-e148-4eda-8ba3-bc2a212e4825"
      },
      "source": [
        "print(sum(pd.isnull(dfnew['age'])))"
      ],
      "execution_count": 91,
      "outputs": [
        {
          "output_type": "stream",
          "text": [
            "3235968\n"
          ],
          "name": "stdout"
        }
      ]
    },
    {
      "cell_type": "code",
      "metadata": {
        "id": "prfbhj7pxGWs",
        "colab_type": "code",
        "outputId": "be52e522-f3fd-445c-cd7a-a1e31031627a",
        "colab": {
          "base_uri": "https://localhost:8080/",
          "height": 202
        }
      },
      "source": [
        "#Correaltion b/w all data\n",
        "# Create correlation matrix\n",
        "corr_matrix = dfnew.corr().abs()\n",
        "corr_matrix"
      ],
      "execution_count": 56,
      "outputs": [
        {
          "output_type": "execute_result",
          "data": {
            "text/html": [
              "<div>\n",
              "<style scoped>\n",
              "    .dataframe tbody tr th:only-of-type {\n",
              "        vertical-align: middle;\n",
              "    }\n",
              "\n",
              "    .dataframe tbody tr th {\n",
              "        vertical-align: top;\n",
              "    }\n",
              "\n",
              "    .dataframe thead th {\n",
              "        text-align: right;\n",
              "    }\n",
              "</style>\n",
              "<table border=\"1\" class=\"dataframe\">\n",
              "  <thead>\n",
              "    <tr style=\"text-align: right;\">\n",
              "      <th></th>\n",
              "      <th>device_id</th>\n",
              "      <th>age</th>\n",
              "      <th>event_id</th>\n",
              "      <th>longitude</th>\n",
              "      <th>latitude</th>\n",
              "    </tr>\n",
              "  </thead>\n",
              "  <tbody>\n",
              "    <tr>\n",
              "      <th>device_id</th>\n",
              "      <td>1.000000</td>\n",
              "      <td>0.030163</td>\n",
              "      <td>0.000655</td>\n",
              "      <td>0.007484</td>\n",
              "      <td>0.018752</td>\n",
              "    </tr>\n",
              "    <tr>\n",
              "      <th>age</th>\n",
              "      <td>0.030163</td>\n",
              "      <td>1.000000</td>\n",
              "      <td>0.007682</td>\n",
              "      <td>0.060955</td>\n",
              "      <td>0.153942</td>\n",
              "    </tr>\n",
              "    <tr>\n",
              "      <th>event_id</th>\n",
              "      <td>0.000655</td>\n",
              "      <td>0.007682</td>\n",
              "      <td>1.000000</td>\n",
              "      <td>0.002517</td>\n",
              "      <td>0.002552</td>\n",
              "    </tr>\n",
              "    <tr>\n",
              "      <th>longitude</th>\n",
              "      <td>0.007484</td>\n",
              "      <td>0.060955</td>\n",
              "      <td>0.002517</td>\n",
              "      <td>1.000000</td>\n",
              "      <td>0.072277</td>\n",
              "    </tr>\n",
              "    <tr>\n",
              "      <th>latitude</th>\n",
              "      <td>0.018752</td>\n",
              "      <td>0.153942</td>\n",
              "      <td>0.002552</td>\n",
              "      <td>0.072277</td>\n",
              "      <td>1.000000</td>\n",
              "    </tr>\n",
              "  </tbody>\n",
              "</table>\n",
              "</div>"
            ],
            "text/plain": [
              "           device_id       age  event_id  longitude  latitude\n",
              "device_id   1.000000  0.030163  0.000655   0.007484  0.018752\n",
              "age         0.030163  1.000000  0.007682   0.060955  0.153942\n",
              "event_id    0.000655  0.007682  1.000000   0.002517  0.002552\n",
              "longitude   0.007484  0.060955  0.002517   1.000000  0.072277\n",
              "latitude    0.018752  0.153942  0.002552   0.072277  1.000000"
            ]
          },
          "metadata": {
            "tags": []
          },
          "execution_count": 56
        }
      ]
    },
    {
      "cell_type": "code",
      "metadata": {
        "id": "mzaUXPlWz1RY",
        "colab_type": "code",
        "outputId": "fcb43a53-ea59-4e64-d28c-f31aff44de2f",
        "colab": {
          "base_uri": "https://localhost:8080/",
          "height": 624
        }
      },
      "source": [
        "dfnew.groupby('phone_brand')['group'].nunique().plot(kind='bar',figsize = (10, 10))\n",
        "plt.show()"
      ],
      "execution_count": 57,
      "outputs": [
        {
          "output_type": "display_data",
          "data": {
            "image/png": "[encoded data removed]",
            "text/plain": [
              "<Figure size 720x720 with 1 Axes>"
            ]
          },
          "metadata": {
            "tags": []
          }
        }
      ]
    },
    {
      "cell_type": "code",
      "metadata": {
        "id": "qPq6SCUU0zMu",
        "colab_type": "code",
        "outputId": "6b0285c1-efd6-4a9e-f0fc-f4415d8bafe3",
        "colab": {
          "base_uri": "https://localhost:8080/",
          "height": 644
        }
      },
      "source": [
        "dfnew.groupby(['phone_brand','group']).size().unstack().plot(kind='bar',stacked=True,figsize = (20, 10),legend='true')\n",
        "plt.show()"
      ],
      "execution_count": 58,
      "outputs": [
        {
          "output_type": "display_data",
          "data": {
            "image/png": "[encoded data removed]",
            "text/plain": [
              "<Figure size 1440x720 with 1 Axes>"
            ]
          },
          "metadata": {
            "tags": []
          }
        }
      ]
    },
    {
      "cell_type": "code",
      "metadata": {
        "id": "khCIASyo9umv",
        "colab_type": "code",
        "outputId": "c776c961-607f-4db5-ce2d-8f375f1041cb",
        "colab": {
          "base_uri": "https://localhost:8080/",
          "height": 1000
        }
      },
      "source": [
        "dfnew.groupby(['phone_brand','city']).size().unstack().plot(kind='bar',stacked=True,figsize = (20, 10),legend='true')\n",
        "plt.show()"
      ],
      "execution_count": 59,
      "outputs": [
        {
          "output_type": "display_data",
          "data": {
            "image/png": "[encoded data removed]",
            "text/plain": [
              "<Figure size 1440x720 with 1 Axes>"
            ]
          },
          "metadata": {
            "tags": []
          }
        }
      ]
    },
    {
      "cell_type": "code",
      "metadata": {
        "id": "8UQlcvTP99Tl",
        "colab_type": "code",
        "outputId": "81eb4fda-5b20-439a-8168-28d9318e22ae",
        "colab": {
          "base_uri": "https://localhost:8080/",
          "height": 1000
        }
      },
      "source": [
        "dfnew.groupby(['group','city']).size().unstack().plot(kind='bar',stacked=True,figsize = (20, 10),legend='true')\n",
        "plt.show()"
      ],
      "execution_count": 60,
      "outputs": [
        {
          "output_type": "display_data",
          "data": {
            "image/png": "[encoded data removed]",
            "text/plain": [
              "<Figure size 1440x720 with 1 Axes>"
            ]
          },
          "metadata": {
            "tags": []
          }
        }
      ]
    },
    {
      "cell_type": "code",
      "metadata": {
        "id": "_nDUbpDEHnwG",
        "colab_type": "code",
        "outputId": "d3fa8b08-288f-4701-bce7-d255345e393c",
        "colab": {
          "base_uri": "https://localhost:8080/",
          "height": 201
        }
      },
      "source": [
        "import folium\n",
        "from folium import plugins  \n",
        "latitude = 37.0902\n",
        "longitude = -95.7129\n",
        "\n",
        "#m = folium.Map([17.338947, 78.487472], zoom_start=5,width=500,height=500)\n",
        "traffic_map = folium.Map(location=[latitude, longitude], zoom_start=5)\n",
        "#stationArr = dfnew[['latitude', 'longitude']].as_matrix()\n",
        "\n",
        "# plot heatmap\n",
        "#m.add_children(plugins.HeatMap(stationArr, radius=15))\n",
        "m"
      ],
      "execution_count": 61,
      "outputs": [
        {
          "output_type": "error",
          "ename": "NameError",
          "evalue": "ignored",
          "traceback": [
            "\u001b[0;31m---------------------------------------------------------------------------\u001b[0m",
            "\u001b[0;31mNameError\u001b[0m                                 Traceback (most recent call last)",
            "\u001b[0;32m<ipython-input-61-d00f8cf75b75>\u001b[0m in \u001b[0;36m<module>\u001b[0;34m()\u001b[0m\n\u001b[1;32m     10\u001b[0m \u001b[0;31m# plot heatmap\u001b[0m\u001b[0;34m\u001b[0m\u001b[0;34m\u001b[0m\u001b[0;34m\u001b[0m\u001b[0m\n\u001b[1;32m     11\u001b[0m \u001b[0;31m#m.add_children(plugins.HeatMap(stationArr, radius=15))\u001b[0m\u001b[0;34m\u001b[0m\u001b[0;34m\u001b[0m\u001b[0;34m\u001b[0m\u001b[0m\n\u001b[0;32m---> 12\u001b[0;31m \u001b[0mm\u001b[0m\u001b[0;34m\u001b[0m\u001b[0;34m\u001b[0m\u001b[0m\n\u001b[0m",
            "\u001b[0;31mNameError\u001b[0m: name 'm' is not defined"
          ]
        }
      ]
    }
  ]
}